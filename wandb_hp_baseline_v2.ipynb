{
  "nbformat": 4,
  "nbformat_minor": 0,
  "metadata": {
    "colab": {
      "provenance": [],
      "gpuType": "T4",
      "mount_file_id": "170niz0dc6ppbZXOXwv-WMJ5ASnrtNoma",
      "authorship_tag": "ABX9TyNLo/v1XrUK7TKopuBjCa+e",
      "include_colab_link": true
    },
    "kernelspec": {
      "name": "python3",
      "display_name": "Python 3"
    },
    "language_info": {
      "name": "python"
    },
    "accelerator": "GPU"
  },
  "cells": [
    {
      "cell_type": "markdown",
      "metadata": {
        "id": "view-in-github",
        "colab_type": "text"
      },
      "source": [
        "<a href=\"https://colab.research.google.com/github/darkmochalover/DS_TermProject_AL2/blob/main/wandb_hp_baseline_v2.ipynb\" target=\"_parent\"><img src=\"https://colab.research.google.com/assets/colab-badge.svg\" alt=\"Open In Colab\"/></a>"
      ]
    },
    {
      "cell_type": "markdown",
      "source": [
        "Dictionary"
      ],
      "metadata": {
        "id": "wzOh70v4rFn7"
      }
    },
    {
      "cell_type": "code",
      "source": [
        "# Data Path\n",
        "raw_data_path = \"/content/drive/MyDrive/DS_TermProject/data/combined_mbti_df.csv\"\n",
        "\n",
        "audio_qualities = [\n",
        "    'danceability_mean',\n",
        "    'valence_mean',\n",
        "    'energy_mean',\n",
        "    'loudness_mean',\n",
        "    'acousticness_mean',\n",
        "    'instrumentalness_mean',\n",
        "    'liveness_mean',\n",
        "]\n",
        "\n",
        "# 장조/단조 (Major/Minor)\n",
        "all_tones = [\n",
        "    'Cminor_count', 'CMajor_count', 'C#/Dbminor_count', 'C#/DbMajor_count',\n",
        "    'DMajor_count', 'D#_EbMajor_count', 'Eminor_count', 'EMajor_count',\n",
        "    'Fminor_count', 'FMajor_count', 'F#/Gbminor_count', 'GMajor_count',\n",
        "    'G#/Abminor_count', 'G#/AbMajor_count', 'Aminor_count', 'AMajor_count',\n",
        "    'A#/Bbminor_count', 'BMajor_count', 'Dminor_count', 'D#_Ebminor_count',\n",
        "    'Gminor_count', 'A#/BbMajor_count', 'F#/GbMajor_count', 'Bminor_count'\n",
        "]\n",
        "\n",
        "major_tones = [\n",
        "    'CMajor_count', 'C#/DbMajor_count',\n",
        "    'DMajor_count', 'D#_EbMajor_count', \n",
        "    'EMajor_count',\n",
        "    'FMajor_count', \n",
        "    'GMajor_count', 'G#/AbMajor_count', \n",
        "    'AMajor_count', 'BMajor_count', 'A#/BbMajor_count', \n",
        "    'F#/GbMajor_count'\n",
        "]\n",
        "minor_tones = [\n",
        "    'Cminor_count', 'C#/Dbminor_count', \n",
        "    'Eminor_count', \n",
        "    'Fminor_count', 'F#/Gbminor_count', \n",
        "    'G#/Abminor_count',  \n",
        "    'Aminor_count', 'A#/Bbminor_count', \n",
        "    'Dminor_count', 'D#_Ebminor_count',\n",
        "    'Gminor_count', \n",
        "    'Bminor_count'\n",
        "]\n",
        "\n",
        "\n",
        "# 열 이름을 바꾸기 위해 리스트로 저장함\n",
        "renamed_columns =  [\n",
        "    'danceability',\n",
        "    'valence',\n",
        "    'energy',\n",
        "    'loudness',\n",
        "    'acousticness',\n",
        "    'instrumentalness',\n",
        "    'liveness'\n",
        "]\n"
      ],
      "metadata": {
        "id": "VweWag3WrIrd"
      },
      "execution_count": 1,
      "outputs": []
    },
    {
      "cell_type": "markdown",
      "source": [
        "Install WandB"
      ],
      "metadata": {
        "id": "cu1JoFEDqIhm"
      }
    },
    {
      "cell_type": "code",
      "source": [
        "!pip install -qU wandb"
      ],
      "metadata": {
        "id": "_MaTXzH4q4LN",
        "colab": {
          "base_uri": "https://localhost:8080/"
        },
        "outputId": "4c805a43-33b4-4aac-f88a-a1ff08e4624e"
      },
      "execution_count": 2,
      "outputs": [
        {
          "output_type": "stream",
          "name": "stdout",
          "text": [
            "\u001b[2K     \u001b[90m━━━━━━━━━━━━━━━━━━━━━━━━━━━━━━━━━━━━━━━━\u001b[0m \u001b[32m2.0/2.0 MB\u001b[0m \u001b[31m33.4 MB/s\u001b[0m eta \u001b[36m0:00:00\u001b[0m\n",
            "\u001b[2K     \u001b[90m━━━━━━━━━━━━━━━━━━━━━━━━━━━━━━━━━━━━━━\u001b[0m \u001b[32m184.3/184.3 kB\u001b[0m \u001b[31m18.8 MB/s\u001b[0m eta \u001b[36m0:00:00\u001b[0m\n",
            "\u001b[2K     \u001b[90m━━━━━━━━━━━━━━━━━━━━━━━━━━━━━━━━━━━━━━\u001b[0m \u001b[32m206.5/206.5 kB\u001b[0m \u001b[31m20.2 MB/s\u001b[0m eta \u001b[36m0:00:00\u001b[0m\n",
            "\u001b[?25h  Preparing metadata (setup.py) ... \u001b[?25l\u001b[?25hdone\n",
            "\u001b[2K     \u001b[90m━━━━━━━━━━━━━━━━━━━━━━━━━━━━━━━━━━━━━━━━\u001b[0m \u001b[32m62.7/62.7 kB\u001b[0m \u001b[31m6.9 MB/s\u001b[0m eta \u001b[36m0:00:00\u001b[0m\n",
            "\u001b[?25h  Building wheel for pathtools (setup.py) ... \u001b[?25l\u001b[?25hdone\n"
          ]
        }
      ]
    },
    {
      "cell_type": "code",
      "execution_count": 3,
      "metadata": {
        "id": "_Jm56g6Ep9Rg"
      },
      "outputs": [],
      "source": [
        "import pandas as pd\n",
        "import numpy as np\n",
        "import matplotlib.pyplot as plt\n",
        "from sklearn.model_selection import train_test_split\n",
        "\n",
        "from sklearn.preprocessing import OneHotEncoder, LabelEncoder\n",
        "from sklearn.preprocessing import StandardScaler, RobustScaler, MinMaxScaler\n",
        "from imblearn.over_sampling import SMOTE\n",
        "\n",
        "import itertools\n",
        "\n",
        "import wandb\n",
        "import random"
      ]
    },
    {
      "cell_type": "markdown",
      "source": [
        "Step 1: Import W&B and Login"
      ],
      "metadata": {
        "id": "HEXBn0GGqLDm"
      }
    },
    {
      "cell_type": "code",
      "source": [
        "import wandb\n",
        "from wandb.keras import WandbMetricsLogger, WandbModelCheckpoint, WandbEvalCallback"
      ],
      "metadata": {
        "id": "NSHvaPp4q0IH"
      },
      "execution_count": 4,
      "outputs": []
    },
    {
      "cell_type": "markdown",
      "source": [
        "Data Loading"
      ],
      "metadata": {
        "id": "XUas7Lziryfh"
      }
    },
    {
      "cell_type": "code",
      "source": [
        "df = pd.read_csv(raw_data_path)"
      ],
      "metadata": {
        "id": "8rCuN45Ur5kJ"
      },
      "execution_count": 7,
      "outputs": []
    },
    {
      "cell_type": "markdown",
      "source": [
        "Feature Reduction"
      ],
      "metadata": {
        "id": "thkPZL0ur63t"
      }
    },
    {
      "cell_type": "code",
      "source": [
        "# Subset only measures of centers\n",
        "X = df.iloc[: , :22] # 처음 22개 열을 선택해서 저장\n",
        "X = df[audio_qualities] # 오디오 품질과 해당 열이 있는 열을 선택해서 저장\n",
        "\n",
        "\n",
        "categories = renamed_columns[:]\n",
        "X.columns = renamed_columns\n",
        "\n",
        "\n",
        "# 장조/단조의 개수의 합을 계산해서 저장 (C장조, D단조, .. 이렇게 따로 계산되는거 말고, 위에 지정된 list 이용해서 sum값 넣어줌)\n",
        "X['major_count'] = df[major_tones].sum(axis=1).astype('int64')\n",
        "X['minor_count'] = df[minor_tones].sum(axis=1).astype('int64')"
      ],
      "metadata": {
        "colab": {
          "base_uri": "https://localhost:8080/"
        },
        "id": "pOE8tiZwsEwS",
        "outputId": "42157494-d83f-4b3f-dbc4-d1fedc48f18f"
      },
      "execution_count": 8,
      "outputs": [
        {
          "output_type": "stream",
          "name": "stderr",
          "text": [
            "<ipython-input-8-482ca4c8bc7c>:11: SettingWithCopyWarning: \n",
            "A value is trying to be set on a copy of a slice from a DataFrame.\n",
            "Try using .loc[row_indexer,col_indexer] = value instead\n",
            "\n",
            "See the caveats in the documentation: https://pandas.pydata.org/pandas-docs/stable/user_guide/indexing.html#returning-a-view-versus-a-copy\n",
            "  X['major_count'] = df[major_tones].sum(axis=1).astype('int64')\n",
            "<ipython-input-8-482ca4c8bc7c>:12: SettingWithCopyWarning: \n",
            "A value is trying to be set on a copy of a slice from a DataFrame.\n",
            "Try using .loc[row_indexer,col_indexer] = value instead\n",
            "\n",
            "See the caveats in the documentation: https://pandas.pydata.org/pandas-docs/stable/user_guide/indexing.html#returning-a-view-versus-a-copy\n",
            "  X['minor_count'] = df[minor_tones].sum(axis=1).astype('int64')\n"
          ]
        }
      ]
    },
    {
      "cell_type": "markdown",
      "source": [
        "## Encoding & Scaling Function"
      ],
      "metadata": {
        "id": "xQFGTwxasIyF"
      }
    },
    {
      "cell_type": "code",
      "source": [
        "def Encoding(df, encoding_method):\n",
        "    df = df.copy()\n",
        "\n",
        "    if(encoding_method == 'LabelEncoder'):\n",
        "        encoder = LabelEncoder()\n",
        "        target = encoder.fit_transform(df[['mbti']])\n",
        "        \n",
        "\n",
        "    if(encoding_method == 'OneHotEncoder'):\n",
        "        encoder = OneHotEncoder(sparse=False)\n",
        "        target = encoder.fit_transform(df[['mbti']])\n",
        "\n",
        "    return target\n",
        "\n",
        "def Scaling(scale_method, X_train, X_test):\n",
        "    if( scale_method == 'No Scale'):\n",
        "        return X_train, X_test\n",
        "\n",
        "    elif(scale_method == 'StandardScaler'):\n",
        "        scaler = StandardScaler()\n",
        "\n",
        "    elif(scale_method == 'MinMaxScaler'):\n",
        "        scaler = MinMaxScaler()\n",
        "\n",
        "    elif(scale_method == 'RobustScaler'):\n",
        "        scaler = RobustScaler()\n",
        "\n",
        "\n",
        "    X_train_scaled = scaler.fit_transform(X_train)\n",
        "    X_test_scaled = scaler.fit_transform(X_test)\n",
        "\n",
        "    return X_train_scaled, X_test_scaled\n"
      ],
      "metadata": {
        "id": "acXdN4w3rzhr"
      },
      "execution_count": 9,
      "outputs": []
    },
    {
      "cell_type": "markdown",
      "source": [
        "바꿔가면서 돌리기"
      ],
      "metadata": {
        "id": "J_tJBdoVYHEc"
      }
    },
    {
      "cell_type": "code",
      "source": [
        "wandb.login()"
      ],
      "metadata": {
        "colab": {
          "base_uri": "https://localhost:8080/",
          "height": 70
        },
        "id": "LTiOGZW2eAjf",
        "outputId": "48905621-3e35-41d7-ff08-729ca507eb63"
      },
      "execution_count": 10,
      "outputs": [
        {
          "output_type": "display_data",
          "data": {
            "text/plain": [
              "<IPython.core.display.Javascript object>"
            ],
            "application/javascript": [
              "\n",
              "        window._wandbApiKey = new Promise((resolve, reject) => {\n",
              "            function loadScript(url) {\n",
              "            return new Promise(function(resolve, reject) {\n",
              "                let newScript = document.createElement(\"script\");\n",
              "                newScript.onerror = reject;\n",
              "                newScript.onload = resolve;\n",
              "                document.body.appendChild(newScript);\n",
              "                newScript.src = url;\n",
              "            });\n",
              "            }\n",
              "            loadScript(\"https://cdn.jsdelivr.net/npm/postmate/build/postmate.min.js\").then(() => {\n",
              "            const iframe = document.createElement('iframe')\n",
              "            iframe.style.cssText = \"width:0;height:0;border:none\"\n",
              "            document.body.appendChild(iframe)\n",
              "            const handshake = new Postmate({\n",
              "                container: iframe,\n",
              "                url: 'https://wandb.ai/authorize'\n",
              "            });\n",
              "            const timeout = setTimeout(() => reject(\"Couldn't auto authenticate\"), 5000)\n",
              "            handshake.then(function(child) {\n",
              "                child.on('authorize', data => {\n",
              "                    clearTimeout(timeout)\n",
              "                    resolve(data)\n",
              "                });\n",
              "            });\n",
              "            })\n",
              "        });\n",
              "    "
            ]
          },
          "metadata": {}
        },
        {
          "output_type": "stream",
          "name": "stderr",
          "text": [
            "\u001b[34m\u001b[1mwandb\u001b[0m: Appending key for api.wandb.ai to your netrc file: /root/.netrc\n"
          ]
        },
        {
          "output_type": "execute_result",
          "data": {
            "text/plain": [
              "True"
            ]
          },
          "metadata": {},
          "execution_count": 10
        }
      ]
    },
    {
      "cell_type": "code",
      "source": [
        "import shutil\n",
        "# os.rmdir('/content/wandb')\n",
        "shutil.rmtree('/content/wandb', ignore_errors=True)"
      ],
      "metadata": {
        "id": "MxzoA2wwfEKI"
      },
      "execution_count": 11,
      "outputs": []
    },
    {
      "cell_type": "code",
      "source": [
        "base_config = {\n",
        "    'encoder' : 'LabelEncoder',\n",
        "    'scaler' : 'StandardScaler',\n",
        "    'test_size' : 0.2,\n",
        "    \"do_smote\" : 'True'\n",
        "}"
      ],
      "metadata": {
        "id": "mcgDjVZwkyYa"
      },
      "execution_count": 12,
      "outputs": []
    },
    {
      "cell_type": "code",
      "source": [
        "encoder_list = ['LabelEncoder', 'OneHotEncoder']\n",
        "scaler_list = ['StandardScaler', 'MinMaxScaler', 'RobustScaler', 'No Scale']\n",
        "test_size_list = [0.3, 0.2, 0.1]\n",
        "do_smote = ['True', 'False']\n",
        "model_list = ['DecisionTreeClassifier']\n",
        "SearchMethods = ['Base', 'Grid', 'Random']"
      ],
      "metadata": {
        "id": "smB98NV7qFna"
      },
      "execution_count": 13,
      "outputs": []
    },
    {
      "cell_type": "code",
      "source": [
        "# grid search(hyperparameter)\n",
        "param_grid = {\n",
        "    'max_depth': [None, 5, 10, 15],\n",
        "    'min_samples_split': [2, 5, 10],\n",
        "    'min_samples_leaf': [1, 2, 4],\n",
        "    'criterion': ['gini', 'entropy']\n",
        "}\n",
        "\n",
        "# random search(hyperparameter)\n",
        "param_dist = {\n",
        "    'max_depth': [None, 5, 10, 15],\n",
        "    'min_samples_split': [2, 5, 10],\n",
        "    'min_samples_leaf': [1, 2, 4],\n",
        "    'criterion': ['gini', 'entropy']\n",
        "}"
      ],
      "metadata": {
        "id": "gqs_LAvo2vw6"
      },
      "execution_count": 14,
      "outputs": []
    },
    {
      "cell_type": "code",
      "source": [
        "from sklearn.ensemble import RandomForestClassifier\n",
        "from sklearn.metrics import accuracy_score\n",
        "\n",
        "from sklearn.tree import DecisionTreeClassifier\n",
        "from sklearn.metrics import accuracy_score, confusion_matrix, f1_score, recall_score, precision_score\n",
        "from sklearn.model_selection import train_test_split, GridSearchCV, RandomizedSearchCV\n",
        "from sklearn.model_selection import cross_val_score, KFold\n",
        "\n",
        "combinations = list(itertools.product(encoder_list, scaler_list, do_smote, model_list, SearchMethods))\n",
        "\n"
      ],
      "metadata": {
        "id": "Y3ZSTvRpX_PK"
      },
      "execution_count": 15,
      "outputs": []
    },
    {
      "cell_type": "code",
      "source": [
        "for encoder, scaler, do_smote, model, search_method in combinations:\n",
        "  # wandb.init(project=\"MBTI_playlist\", config=base_config)\n",
        "\n",
        "  config = {\n",
        "            'encoder' : encoder,\n",
        "            'scaler' : scaler,\n",
        "            'test_size' : 0.3,\n",
        "            \"do_smote\" : do_smote,\n",
        "            'model' : model,\n",
        "            'search_method' : search_method\n",
        "  }\n",
        "\n",
        "  wandb.init(project='MBTI_playlist_test006', entity='ds_2023_spring', config=config)\n",
        "\n",
        "  config = wandb.config\n",
        "  wandb.config.update(config)\n",
        "  print(config)\n",
        "\n",
        "\n",
        "  y = Encoding(df = df, encoding_method=encoder)\n",
        "  # print(y[:5])\n",
        "\n",
        "  X_train, X_test, y_train, y_test = train_test_split(X, y, random_state = 5, test_size = 0.2)\n",
        "\n",
        "  X_train, X_test = Scaling(scale_method=scaler, X_train=X_train, X_test=X_test)\n",
        "\n",
        "  if(do_smote == 'True'): # If true,\n",
        "      smote = SMOTE(sampling_strategy='auto', random_state=0)\n",
        "      X_train, y_train = smote.fit_resample(X_train,y_train)\n",
        "\n",
        "  # 모델 평가 지표\n",
        "  wandb.define_metric('accuracy', summary='max')\n",
        "  wandb.define_metric('F1 Score', summary='max')\n",
        "  wandb.define_metric('Recall', summary='max')\n",
        "  wandb.define_metric('Precision', summary='max')\n",
        "\n",
        "  if(model == 'DecisionTreeClassifier'):\n",
        "    # (Base) Decision Tree Model\n",
        "    base_model = DecisionTreeClassifier(random_state = 42)\n",
        "\n",
        "    if(search_method == 'Grid'):\n",
        "      # Grid Search\n",
        "      grid_search = GridSearchCV(estimator=base_model, param_grid=param_grid, cv=5)\n",
        "      grid_search.fit(X_train, y_train)\n",
        "\n",
        "      best_params_grid = grid_search.best_params_\n",
        "      dt_model_grid = DecisionTreeClassifier(random_state=42, **best_params_grid)\n",
        "      dt_model_grid.fit(X_train, y_train)\n",
        "      dt_predictions_grid = dt_model_grid.predict(X_test)\n",
        "      \n",
        "      dt_accuracy_grid = accuracy_score(y_test, dt_predictions_grid)\n",
        "      if(encoder == 'OneHotEncoder'):\n",
        "        dt_confusion_matrix_grid = confusion_matrix(y_test.argmax(axis=1), dt_predictions_grid.argmax(axis=1))\n",
        "      else:\n",
        "        dt_confusion_matrix_grid = confusion_matrix(y_test, dt_predictions_grid)\n",
        "\n",
        "      dt_f1_score_grid = f1_score(y_test, dt_predictions_grid, average='macro')\n",
        "      dt_recall_grid = recall_score(y_test, dt_predictions_grid, average='macro')\n",
        "      dt_precision_grid = precision_score(y_test, dt_predictions_grid, average='macro')\n",
        "\n",
        "      print(\"Decision Tree Accuracy with Grid Search:\", dt_accuracy_grid)\n",
        "      print(\"Decision Tree Confusion Matrix with Grid Search:\\n\", dt_confusion_matrix_grid)\n",
        "      print(\"Decision Tree F1 Score with Grid Search:\", dt_f1_score_grid)\n",
        "      print(\"Decision Tree Recall with Grid Search:\", dt_recall_grid)\n",
        "      print(\"Decision Tree Precision with Grid Search:\", dt_precision_grid)\n",
        "\n",
        "      wandb.log({'accuracy': dt_accuracy_grid})\n",
        "      wandb.log({'Confusion Matrix': dt_confusion_matrix_grid.tolist()})\n",
        "      wandb.log({'F1 Score': dt_f1_score_grid})\n",
        "      wandb.log({'Recall': dt_recall_grid})\n",
        "      wandb.log({'Precision': dt_precision_grid})\n",
        "        \n",
        "\n",
        "      # K-Fold \n",
        "      kf = KFold(n_splits=5, shuffle=True, random_state=42)\n",
        "\n",
        "      dt_model_cv = DecisionTreeClassifier(random_state=42, **best_params_grid)\n",
        "      cv_scores = cross_val_score(dt_model_cv, X_train, y_train, cv=kf, scoring='accuracy')\n",
        "      cv_accuracy = np.mean(cv_scores)\n",
        "      print(\"acc with K-Fold Cross Validation:\", cv_accuracy)\n",
        "      wandb.log({'Accuracy with K-Fold': cv_accuracy})  \n",
        "\n",
        "      \n",
        "\n",
        "\n",
        "    if(search_method == 'Random Search'):\n",
        "      # Random Search\n",
        "      random_search = RandomizedSearchCV(estimator=base_model, param_distributions=param_dist, cv=5)\n",
        "      random_search.fit(X_train, y_train)\n",
        "\n",
        "      best_params_random = random_search.best_params_\n",
        "      dt_model_random = DecisionTreeClassifier(random_state=42, **best_params_random)\n",
        "      dt_model_random.fit(X_train, y_train)\n",
        "      dt_predictions_random = dt_model_random.predict(X_test)\n",
        "      dt_accuracy_random = accuracy_score(y_test, dt_predictions_random)\n",
        "\n",
        "      if(encoder == 'OneHotEncoder'):\n",
        "            dt_confusion_matrix_random = confusion_matrix(y_test.argmax(axis=1), dt_predictions_random.argmax(axis=1))\n",
        "      else:\n",
        "            dt_confusion_matrix_random = confusion_matrix(y_test, dt_predictions_random)\n",
        "\n",
        "      dt_f1_score_random = f1_score(y_test, dt_predictions_random, average='macro')\n",
        "      dt_recall_random = recall_score(y_test, dt_predictions_random, average='macro')\n",
        "      dt_precision_random = precision_score(y_test, dt_predictions_random, average='macro')\n",
        "      print(\"Decision Tree Accuracy with Random Search:\", dt_accuracy_random)\n",
        "      print(\"Decision Tree Confusion Matrix with Random Search:\\n\", dt_confusion_matrix_random)\n",
        "      print(\"Decision Tree F1 Score with Random Search:\", dt_f1_score_random)\n",
        "      print(\"Decision Tree Recall with Random Search:\", dt_recall_random)\n",
        "      print(\"Decision Tree Precision with Random Search:\", dt_precision_random)\n",
        "\n",
        "      wandb.log({'accuracy': dt_accuracy_random})\n",
        "      wandb.log({'Confusion Matrix': dt_confusion_matrix_random.tolist()})\n",
        "      wandb.log({'F1 Score': dt_f1_score_random})\n",
        "      wandb.log({'Recall': dt_recall_random})\n",
        "      wandb.log({'Precision': dt_precision_random})\n",
        "\n",
        "    \n",
        "      # K-Fold \n",
        "      kf = KFold(n_splits=5, shuffle=True, random_state=42)\n",
        "\n",
        "      dt_model_cv = DecisionTreeClassifier(random_state=42, **best_params_random)\n",
        "      cv_scores = cross_val_score(dt_model_cv, X_train, y_train, cv=kf, scoring='accuracy')\n",
        "      cv_accuracy = np.mean(cv_scores)\n",
        "      print(\"acc with K-Fold Cross Validation:\", cv_accuracy)\n",
        "      wandb.log({'Accuracy with K-Fold': cv_accuracy})  \n"
      ],
      "metadata": {
        "colab": {
          "base_uri": "https://localhost:8080/",
          "height": 1000
        },
        "id": "ha4l7Oqbr4fo",
        "outputId": "94a9a04b-f0c4-4de1-9a4d-d313f4b4198f"
      },
      "execution_count": null,
      "outputs": [
        {
          "output_type": "display_data",
          "data": {
            "text/plain": [
              "<IPython.core.display.HTML object>"
            ],
            "text/html": [
              "Finishing last run (ID:ygqw6ggn) before initializing another..."
            ]
          },
          "metadata": {}
        },
        {
          "output_type": "display_data",
          "data": {
            "text/plain": [
              "<IPython.core.display.HTML object>"
            ],
            "text/html": [
              "Waiting for W&B process to finish... <strong style=\"color:green\">(success).</strong>"
            ]
          },
          "metadata": {}
        },
        {
          "output_type": "display_data",
          "data": {
            "text/plain": [
              "<IPython.core.display.HTML object>"
            ],
            "text/html": [
              " View run <strong style=\"color:#cdcd00\">good-cosmos-26</strong> at: <a href='https://wandb.ai/ds_2023_spring/MBTI_playlist_test006/runs/ygqw6ggn' target=\"_blank\">https://wandb.ai/ds_2023_spring/MBTI_playlist_test006/runs/ygqw6ggn</a><br/>Synced 5 W&B file(s), 0 media file(s), 0 artifact file(s) and 0 other file(s)"
            ]
          },
          "metadata": {}
        },
        {
          "output_type": "display_data",
          "data": {
            "text/plain": [
              "<IPython.core.display.HTML object>"
            ],
            "text/html": [
              "Find logs at: <code>./wandb/run-20230604_061137-ygqw6ggn/logs</code>"
            ]
          },
          "metadata": {}
        },
        {
          "output_type": "display_data",
          "data": {
            "text/plain": [
              "<IPython.core.display.HTML object>"
            ],
            "text/html": [
              "Successfully finished last run (ID:ygqw6ggn). Initializing new run:<br/>"
            ]
          },
          "metadata": {}
        },
        {
          "output_type": "display_data",
          "data": {
            "text/plain": [
              "<IPython.core.display.HTML object>"
            ],
            "text/html": [
              "Tracking run with wandb version 0.15.3"
            ]
          },
          "metadata": {}
        },
        {
          "output_type": "display_data",
          "data": {
            "text/plain": [
              "<IPython.core.display.HTML object>"
            ],
            "text/html": [
              "Run data is saved locally in <code>/content/wandb/run-20230604_061824-ixlkbj63</code>"
            ]
          },
          "metadata": {}
        },
        {
          "output_type": "display_data",
          "data": {
            "text/plain": [
              "<IPython.core.display.HTML object>"
            ],
            "text/html": [
              "Syncing run <strong><a href='https://wandb.ai/ds_2023_spring/MBTI_playlist_test006/runs/ixlkbj63' target=\"_blank\">fine-eon-27</a></strong> to <a href='https://wandb.ai/ds_2023_spring/MBTI_playlist_test006' target=\"_blank\">Weights & Biases</a> (<a href='https://wandb.me/run' target=\"_blank\">docs</a>)<br/>"
            ]
          },
          "metadata": {}
        },
        {
          "output_type": "display_data",
          "data": {
            "text/plain": [
              "<IPython.core.display.HTML object>"
            ],
            "text/html": [
              " View project at <a href='https://wandb.ai/ds_2023_spring/MBTI_playlist_test006' target=\"_blank\">https://wandb.ai/ds_2023_spring/MBTI_playlist_test006</a>"
            ]
          },
          "metadata": {}
        },
        {
          "output_type": "display_data",
          "data": {
            "text/plain": [
              "<IPython.core.display.HTML object>"
            ],
            "text/html": [
              " View run at <a href='https://wandb.ai/ds_2023_spring/MBTI_playlist_test006/runs/ixlkbj63' target=\"_blank\">https://wandb.ai/ds_2023_spring/MBTI_playlist_test006/runs/ixlkbj63</a>"
            ]
          },
          "metadata": {}
        },
        {
          "output_type": "stream",
          "name": "stdout",
          "text": [
            "{'encoder': 'LabelEncoder', 'scaler': 'StandardScaler', 'test_size': 0.3, 'do_smote': 'True', 'model': 'DecisionTreeClassifier', 'search_method': 'Base'}\n"
          ]
        },
        {
          "output_type": "stream",
          "name": "stderr",
          "text": [
            "/usr/local/lib/python3.10/dist-packages/sklearn/preprocessing/_label.py:116: DataConversionWarning: A column-vector y was passed when a 1d array was expected. Please change the shape of y to (n_samples, ), for example using ravel().\n",
            "  y = column_or_1d(y, warn=True)\n"
          ]
        },
        {
          "output_type": "display_data",
          "data": {
            "text/plain": [
              "<IPython.core.display.HTML object>"
            ],
            "text/html": [
              "Finishing last run (ID:ixlkbj63) before initializing another..."
            ]
          },
          "metadata": {}
        },
        {
          "output_type": "display_data",
          "data": {
            "text/plain": [
              "<IPython.core.display.HTML object>"
            ],
            "text/html": [
              "Waiting for W&B process to finish... <strong style=\"color:green\">(success).</strong>"
            ]
          },
          "metadata": {}
        },
        {
          "output_type": "display_data",
          "data": {
            "text/plain": [
              "<IPython.core.display.HTML object>"
            ],
            "text/html": [
              " View run <strong style=\"color:#cdcd00\">fine-eon-27</strong> at: <a href='https://wandb.ai/ds_2023_spring/MBTI_playlist_test006/runs/ixlkbj63' target=\"_blank\">https://wandb.ai/ds_2023_spring/MBTI_playlist_test006/runs/ixlkbj63</a><br/>Synced 5 W&B file(s), 0 media file(s), 0 artifact file(s) and 0 other file(s)"
            ]
          },
          "metadata": {}
        },
        {
          "output_type": "display_data",
          "data": {
            "text/plain": [
              "<IPython.core.display.HTML object>"
            ],
            "text/html": [
              "Find logs at: <code>./wandb/run-20230604_061824-ixlkbj63/logs</code>"
            ]
          },
          "metadata": {}
        },
        {
          "output_type": "display_data",
          "data": {
            "text/plain": [
              "<IPython.core.display.HTML object>"
            ],
            "text/html": [
              "Successfully finished last run (ID:ixlkbj63). Initializing new run:<br/>"
            ]
          },
          "metadata": {}
        },
        {
          "output_type": "display_data",
          "data": {
            "text/plain": [
              "<IPython.core.display.HTML object>"
            ],
            "text/html": [
              "Tracking run with wandb version 0.15.3"
            ]
          },
          "metadata": {}
        },
        {
          "output_type": "display_data",
          "data": {
            "text/plain": [
              "<IPython.core.display.HTML object>"
            ],
            "text/html": [
              "Run data is saved locally in <code>/content/wandb/run-20230604_061830-tddqu72d</code>"
            ]
          },
          "metadata": {}
        },
        {
          "output_type": "display_data",
          "data": {
            "text/plain": [
              "<IPython.core.display.HTML object>"
            ],
            "text/html": [
              "Syncing run <strong><a href='https://wandb.ai/ds_2023_spring/MBTI_playlist_test006/runs/tddqu72d' target=\"_blank\">blooming-pyramid-28</a></strong> to <a href='https://wandb.ai/ds_2023_spring/MBTI_playlist_test006' target=\"_blank\">Weights & Biases</a> (<a href='https://wandb.me/run' target=\"_blank\">docs</a>)<br/>"
            ]
          },
          "metadata": {}
        },
        {
          "output_type": "display_data",
          "data": {
            "text/plain": [
              "<IPython.core.display.HTML object>"
            ],
            "text/html": [
              " View project at <a href='https://wandb.ai/ds_2023_spring/MBTI_playlist_test006' target=\"_blank\">https://wandb.ai/ds_2023_spring/MBTI_playlist_test006</a>"
            ]
          },
          "metadata": {}
        },
        {
          "output_type": "display_data",
          "data": {
            "text/plain": [
              "<IPython.core.display.HTML object>"
            ],
            "text/html": [
              " View run at <a href='https://wandb.ai/ds_2023_spring/MBTI_playlist_test006/runs/tddqu72d' target=\"_blank\">https://wandb.ai/ds_2023_spring/MBTI_playlist_test006/runs/tddqu72d</a>"
            ]
          },
          "metadata": {}
        },
        {
          "output_type": "stream",
          "name": "stdout",
          "text": [
            "{'encoder': 'LabelEncoder', 'scaler': 'StandardScaler', 'test_size': 0.3, 'do_smote': 'True', 'model': 'DecisionTreeClassifier', 'search_method': 'Grid'}\n"
          ]
        },
        {
          "output_type": "stream",
          "name": "stderr",
          "text": [
            "/usr/local/lib/python3.10/dist-packages/sklearn/preprocessing/_label.py:116: DataConversionWarning: A column-vector y was passed when a 1d array was expected. Please change the shape of y to (n_samples, ), for example using ravel().\n",
            "  y = column_or_1d(y, warn=True)\n"
          ]
        },
        {
          "output_type": "stream",
          "name": "stdout",
          "text": [
            "Decision Tree Accuracy with Grid Search: 0.14687882496940025\n",
            "Decision Tree Confusion Matrix with Grid Search:\n",
            " [[ 6  2  1  1  4  3  2  0  0  0  3  5  3  6  8  3]\n",
            " [ 7  6  3  3  2  6  3  4  2  1  4  2  2  3  2  2]\n",
            " [ 4  3  7  3  2  5  5  5  4  1  4  3  2  3  1  4]\n",
            " [ 2  3  4 15  1  3  6  7  3  2  2  3  1  2  2  6]\n",
            " [ 2  1  0  1  0  2  1  2  0  0  0  3  2  1  2  1]\n",
            " [ 4  4  3  0  4 11  0  1  2  1  4  2  2  2  2  6]\n",
            " [ 2  3  2  2  1  1  1  4  3  0  3  0  2  2  0  1]\n",
            " [ 4  7  6  9  5  7  3 10  1  3  3  2  1  0  1  6]\n",
            " [ 4  2  1  1  2  2  0  1 17 13  7  5  3  1  4  2]\n",
            " [ 6  1  0  0  5  3  1  0  8  7  2  8  5  3  2  7]\n",
            " [ 5  4  7  2  1  1  1  3  7  1 10  2  0  2  5  8]\n",
            " [ 5  2  4  3  2  4  0  2  5  4  7 12  3  4  4  4]\n",
            " [ 6  2  0  1  3  1  3  1  4  8  4  3  4  1  7  0]\n",
            " [ 6  4  6  2  1  3  3  4  4  3  2  3  4  5  1  2]\n",
            " [ 2  1  2  2  3  0  0  2  4  1  3  7  5  2  3  1]\n",
            " [ 4  0  9  5  1  1  4  4  3  0  4  1  1  5  5  6]]\n",
            "Decision Tree F1 Score with Grid Search: 0.13520835522014063\n",
            "Decision Tree Recall with Grid Search: 0.13308781870452996\n",
            "Decision Tree Precision with Grid Search: 0.13966739621578184\n",
            "acc with K-Fold Cross Validation: 0.2489710758724843\n"
          ]
        },
        {
          "output_type": "display_data",
          "data": {
            "text/plain": [
              "<IPython.core.display.HTML object>"
            ],
            "text/html": [
              "Finishing last run (ID:tddqu72d) before initializing another..."
            ]
          },
          "metadata": {}
        },
        {
          "output_type": "display_data",
          "data": {
            "text/plain": [
              "<IPython.core.display.HTML object>"
            ],
            "text/html": [
              "Waiting for W&B process to finish... <strong style=\"color:green\">(success).</strong>"
            ]
          },
          "metadata": {}
        },
        {
          "output_type": "display_data",
          "data": {
            "text/plain": [
              "<IPython.core.display.HTML object>"
            ],
            "text/html": [
              "<style>\n",
              "    table.wandb td:nth-child(1) { padding: 0 10px; text-align: left ; width: auto;} td:nth-child(2) {text-align: left ; width: 100%}\n",
              "    .wandb-row { display: flex; flex-direction: row; flex-wrap: wrap; justify-content: flex-start; width: 100% }\n",
              "    .wandb-col { display: flex; flex-direction: column; flex-basis: 100%; flex: 1; padding: 10px; }\n",
              "    </style>\n",
              "<div class=\"wandb-row\"><div class=\"wandb-col\"><h3>Run history:</h3><br/><table class=\"wandb\"><tr><td>Accuracy with K-Fold</td><td>▁</td></tr><tr><td>F1 Score</td><td>▁</td></tr><tr><td>Precision</td><td>▁</td></tr><tr><td>Recall</td><td>▁</td></tr><tr><td>accuracy</td><td>▁</td></tr></table><br/></div><div class=\"wandb-col\"><h3>Run summary:</h3><br/><table class=\"wandb\"><tr><td>Accuracy with K-Fold</td><td>0.24897</td></tr></table><br/></div></div>"
            ]
          },
          "metadata": {}
        },
        {
          "output_type": "display_data",
          "data": {
            "text/plain": [
              "<IPython.core.display.HTML object>"
            ],
            "text/html": [
              " View run <strong style=\"color:#cdcd00\">blooming-pyramid-28</strong> at: <a href='https://wandb.ai/ds_2023_spring/MBTI_playlist_test006/runs/tddqu72d' target=\"_blank\">https://wandb.ai/ds_2023_spring/MBTI_playlist_test006/runs/tddqu72d</a><br/>Synced 5 W&B file(s), 0 media file(s), 0 artifact file(s) and 0 other file(s)"
            ]
          },
          "metadata": {}
        },
        {
          "output_type": "display_data",
          "data": {
            "text/plain": [
              "<IPython.core.display.HTML object>"
            ],
            "text/html": [
              "Find logs at: <code>./wandb/run-20230604_061830-tddqu72d/logs</code>"
            ]
          },
          "metadata": {}
        },
        {
          "output_type": "display_data",
          "data": {
            "text/plain": [
              "<IPython.core.display.HTML object>"
            ],
            "text/html": [
              "Successfully finished last run (ID:tddqu72d). Initializing new run:<br/>"
            ]
          },
          "metadata": {}
        },
        {
          "output_type": "display_data",
          "data": {
            "text/plain": [
              "<IPython.core.display.HTML object>"
            ],
            "text/html": [
              "Tracking run with wandb version 0.15.3"
            ]
          },
          "metadata": {}
        },
        {
          "output_type": "display_data",
          "data": {
            "text/plain": [
              "<IPython.core.display.HTML object>"
            ],
            "text/html": [
              "Run data is saved locally in <code>/content/wandb/run-20230604_061908-z0d62w89</code>"
            ]
          },
          "metadata": {}
        },
        {
          "output_type": "display_data",
          "data": {
            "text/plain": [
              "<IPython.core.display.HTML object>"
            ],
            "text/html": [
              "Syncing run <strong><a href='https://wandb.ai/ds_2023_spring/MBTI_playlist_test006/runs/z0d62w89' target=\"_blank\">toasty-water-29</a></strong> to <a href='https://wandb.ai/ds_2023_spring/MBTI_playlist_test006' target=\"_blank\">Weights & Biases</a> (<a href='https://wandb.me/run' target=\"_blank\">docs</a>)<br/>"
            ]
          },
          "metadata": {}
        },
        {
          "output_type": "display_data",
          "data": {
            "text/plain": [
              "<IPython.core.display.HTML object>"
            ],
            "text/html": [
              " View project at <a href='https://wandb.ai/ds_2023_spring/MBTI_playlist_test006' target=\"_blank\">https://wandb.ai/ds_2023_spring/MBTI_playlist_test006</a>"
            ]
          },
          "metadata": {}
        },
        {
          "output_type": "display_data",
          "data": {
            "text/plain": [
              "<IPython.core.display.HTML object>"
            ],
            "text/html": [
              " View run at <a href='https://wandb.ai/ds_2023_spring/MBTI_playlist_test006/runs/z0d62w89' target=\"_blank\">https://wandb.ai/ds_2023_spring/MBTI_playlist_test006/runs/z0d62w89</a>"
            ]
          },
          "metadata": {}
        },
        {
          "output_type": "stream",
          "name": "stdout",
          "text": [
            "{'encoder': 'LabelEncoder', 'scaler': 'StandardScaler', 'test_size': 0.3, 'do_smote': 'True', 'model': 'DecisionTreeClassifier', 'search_method': 'Random'}\n"
          ]
        },
        {
          "output_type": "stream",
          "name": "stderr",
          "text": [
            "/usr/local/lib/python3.10/dist-packages/sklearn/preprocessing/_label.py:116: DataConversionWarning: A column-vector y was passed when a 1d array was expected. Please change the shape of y to (n_samples, ), for example using ravel().\n",
            "  y = column_or_1d(y, warn=True)\n"
          ]
        },
        {
          "output_type": "display_data",
          "data": {
            "text/plain": [
              "<IPython.core.display.HTML object>"
            ],
            "text/html": [
              "Finishing last run (ID:z0d62w89) before initializing another..."
            ]
          },
          "metadata": {}
        },
        {
          "output_type": "display_data",
          "data": {
            "text/plain": [
              "<IPython.core.display.HTML object>"
            ],
            "text/html": [
              "Waiting for W&B process to finish... <strong style=\"color:green\">(success).</strong>"
            ]
          },
          "metadata": {}
        },
        {
          "output_type": "display_data",
          "data": {
            "text/plain": [
              "<IPython.core.display.HTML object>"
            ],
            "text/html": [
              " View run <strong style=\"color:#cdcd00\">toasty-water-29</strong> at: <a href='https://wandb.ai/ds_2023_spring/MBTI_playlist_test006/runs/z0d62w89' target=\"_blank\">https://wandb.ai/ds_2023_spring/MBTI_playlist_test006/runs/z0d62w89</a><br/>Synced 5 W&B file(s), 0 media file(s), 0 artifact file(s) and 0 other file(s)"
            ]
          },
          "metadata": {}
        },
        {
          "output_type": "display_data",
          "data": {
            "text/plain": [
              "<IPython.core.display.HTML object>"
            ],
            "text/html": [
              "Find logs at: <code>./wandb/run-20230604_061908-z0d62w89/logs</code>"
            ]
          },
          "metadata": {}
        },
        {
          "output_type": "display_data",
          "data": {
            "text/plain": [
              "<IPython.core.display.HTML object>"
            ],
            "text/html": [
              "Successfully finished last run (ID:z0d62w89). Initializing new run:<br/>"
            ]
          },
          "metadata": {}
        },
        {
          "output_type": "display_data",
          "data": {
            "text/plain": [
              "<IPython.core.display.HTML object>"
            ],
            "text/html": [
              "Tracking run with wandb version 0.15.3"
            ]
          },
          "metadata": {}
        },
        {
          "output_type": "display_data",
          "data": {
            "text/plain": [
              "<IPython.core.display.HTML object>"
            ],
            "text/html": [
              "Run data is saved locally in <code>/content/wandb/run-20230604_061914-mqbnmf5u</code>"
            ]
          },
          "metadata": {}
        },
        {
          "output_type": "display_data",
          "data": {
            "text/plain": [
              "<IPython.core.display.HTML object>"
            ],
            "text/html": [
              "Syncing run <strong><a href='https://wandb.ai/ds_2023_spring/MBTI_playlist_test006/runs/mqbnmf5u' target=\"_blank\">devout-shadow-30</a></strong> to <a href='https://wandb.ai/ds_2023_spring/MBTI_playlist_test006' target=\"_blank\">Weights & Biases</a> (<a href='https://wandb.me/run' target=\"_blank\">docs</a>)<br/>"
            ]
          },
          "metadata": {}
        },
        {
          "output_type": "display_data",
          "data": {
            "text/plain": [
              "<IPython.core.display.HTML object>"
            ],
            "text/html": [
              " View project at <a href='https://wandb.ai/ds_2023_spring/MBTI_playlist_test006' target=\"_blank\">https://wandb.ai/ds_2023_spring/MBTI_playlist_test006</a>"
            ]
          },
          "metadata": {}
        },
        {
          "output_type": "display_data",
          "data": {
            "text/plain": [
              "<IPython.core.display.HTML object>"
            ],
            "text/html": [
              " View run at <a href='https://wandb.ai/ds_2023_spring/MBTI_playlist_test006/runs/mqbnmf5u' target=\"_blank\">https://wandb.ai/ds_2023_spring/MBTI_playlist_test006/runs/mqbnmf5u</a>"
            ]
          },
          "metadata": {}
        },
        {
          "output_type": "stream",
          "name": "stdout",
          "text": [
            "{'encoder': 'LabelEncoder', 'scaler': 'StandardScaler', 'test_size': 0.3, 'do_smote': 'False', 'model': 'DecisionTreeClassifier', 'search_method': 'Base'}\n"
          ]
        },
        {
          "output_type": "stream",
          "name": "stderr",
          "text": [
            "/usr/local/lib/python3.10/dist-packages/sklearn/preprocessing/_label.py:116: DataConversionWarning: A column-vector y was passed when a 1d array was expected. Please change the shape of y to (n_samples, ), for example using ravel().\n",
            "  y = column_or_1d(y, warn=True)\n"
          ]
        },
        {
          "output_type": "display_data",
          "data": {
            "text/plain": [
              "<IPython.core.display.HTML object>"
            ],
            "text/html": [
              "Finishing last run (ID:mqbnmf5u) before initializing another..."
            ]
          },
          "metadata": {}
        },
        {
          "output_type": "display_data",
          "data": {
            "text/plain": [
              "<IPython.core.display.HTML object>"
            ],
            "text/html": [
              "Waiting for W&B process to finish... <strong style=\"color:green\">(success).</strong>"
            ]
          },
          "metadata": {}
        },
        {
          "output_type": "display_data",
          "data": {
            "text/plain": [
              "<IPython.core.display.HTML object>"
            ],
            "text/html": [
              " View run <strong style=\"color:#cdcd00\">devout-shadow-30</strong> at: <a href='https://wandb.ai/ds_2023_spring/MBTI_playlist_test006/runs/mqbnmf5u' target=\"_blank\">https://wandb.ai/ds_2023_spring/MBTI_playlist_test006/runs/mqbnmf5u</a><br/>Synced 5 W&B file(s), 0 media file(s), 0 artifact file(s) and 0 other file(s)"
            ]
          },
          "metadata": {}
        },
        {
          "output_type": "display_data",
          "data": {
            "text/plain": [
              "<IPython.core.display.HTML object>"
            ],
            "text/html": [
              "Find logs at: <code>./wandb/run-20230604_061914-mqbnmf5u/logs</code>"
            ]
          },
          "metadata": {}
        },
        {
          "output_type": "display_data",
          "data": {
            "text/plain": [
              "<IPython.core.display.HTML object>"
            ],
            "text/html": [
              "Successfully finished last run (ID:mqbnmf5u). Initializing new run:<br/>"
            ]
          },
          "metadata": {}
        },
        {
          "output_type": "display_data",
          "data": {
            "text/plain": [
              "<IPython.core.display.HTML object>"
            ],
            "text/html": [
              "Tracking run with wandb version 0.15.3"
            ]
          },
          "metadata": {}
        },
        {
          "output_type": "display_data",
          "data": {
            "text/plain": [
              "<IPython.core.display.HTML object>"
            ],
            "text/html": [
              "Run data is saved locally in <code>/content/wandb/run-20230604_061921-hq47u0eu</code>"
            ]
          },
          "metadata": {}
        },
        {
          "output_type": "display_data",
          "data": {
            "text/plain": [
              "<IPython.core.display.HTML object>"
            ],
            "text/html": [
              "Syncing run <strong><a href='https://wandb.ai/ds_2023_spring/MBTI_playlist_test006/runs/hq47u0eu' target=\"_blank\">fancy-rain-31</a></strong> to <a href='https://wandb.ai/ds_2023_spring/MBTI_playlist_test006' target=\"_blank\">Weights & Biases</a> (<a href='https://wandb.me/run' target=\"_blank\">docs</a>)<br/>"
            ]
          },
          "metadata": {}
        },
        {
          "output_type": "display_data",
          "data": {
            "text/plain": [
              "<IPython.core.display.HTML object>"
            ],
            "text/html": [
              " View project at <a href='https://wandb.ai/ds_2023_spring/MBTI_playlist_test006' target=\"_blank\">https://wandb.ai/ds_2023_spring/MBTI_playlist_test006</a>"
            ]
          },
          "metadata": {}
        },
        {
          "output_type": "display_data",
          "data": {
            "text/plain": [
              "<IPython.core.display.HTML object>"
            ],
            "text/html": [
              " View run at <a href='https://wandb.ai/ds_2023_spring/MBTI_playlist_test006/runs/hq47u0eu' target=\"_blank\">https://wandb.ai/ds_2023_spring/MBTI_playlist_test006/runs/hq47u0eu</a>"
            ]
          },
          "metadata": {}
        },
        {
          "output_type": "stream",
          "name": "stdout",
          "text": [
            "{'encoder': 'LabelEncoder', 'scaler': 'StandardScaler', 'test_size': 0.3, 'do_smote': 'False', 'model': 'DecisionTreeClassifier', 'search_method': 'Grid'}\n"
          ]
        },
        {
          "output_type": "stream",
          "name": "stderr",
          "text": [
            "/usr/local/lib/python3.10/dist-packages/sklearn/preprocessing/_label.py:116: DataConversionWarning: A column-vector y was passed when a 1d array was expected. Please change the shape of y to (n_samples, ), for example using ravel().\n",
            "  y = column_or_1d(y, warn=True)\n"
          ]
        }
      ]
    },
    {
      "cell_type": "code",
      "source": [
        "wandb.finish()"
      ],
      "metadata": {
        "id": "D3GKXG9Pyqk9"
      },
      "execution_count": null,
      "outputs": []
    }
  ]
}