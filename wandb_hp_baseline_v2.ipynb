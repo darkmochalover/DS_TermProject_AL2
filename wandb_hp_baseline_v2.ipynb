{
  "nbformat": 4,
  "nbformat_minor": 0,
  "metadata": {
    "colab": {
      "provenance": [],
      "gpuType": "T4",
      "mount_file_id": "170niz0dc6ppbZXOXwv-WMJ5ASnrtNoma",
      "authorship_tag": "ABX9TyNqevQibzNBWZL+dstieOCI",
      "include_colab_link": true
    },
    "kernelspec": {
      "name": "python3",
      "display_name": "Python 3"
    },
    "language_info": {
      "name": "python"
    },
    "widgets": {
      "application/vnd.jupyter.widget-state+json": {
        "3fad718bc2224296917d080cbafdcc9c": {
          "model_module": "@jupyter-widgets/controls",
          "model_name": "VBoxModel",
          "model_module_version": "1.5.0",
          "state": {
            "_dom_classes": [],
            "_model_module": "@jupyter-widgets/controls",
            "_model_module_version": "1.5.0",
            "_model_name": "VBoxModel",
            "_view_count": null,
            "_view_module": "@jupyter-widgets/controls",
            "_view_module_version": "1.5.0",
            "_view_name": "VBoxView",
            "box_style": "",
            "children": [
              "IPY_MODEL_5c891b7704354ad1b869b6f6d1b0c397",
              "IPY_MODEL_b82f8cf8e15646a488ad30d3cef53498"
            ],
            "layout": "IPY_MODEL_039b779a6f11423d810857383316f88a"
          }
        },
        "5c891b7704354ad1b869b6f6d1b0c397": {
          "model_module": "@jupyter-widgets/controls",
          "model_name": "LabelModel",
          "model_module_version": "1.5.0",
          "state": {
            "_dom_classes": [],
            "_model_module": "@jupyter-widgets/controls",
            "_model_module_version": "1.5.0",
            "_model_name": "LabelModel",
            "_view_count": null,
            "_view_module": "@jupyter-widgets/controls",
            "_view_module_version": "1.5.0",
            "_view_name": "LabelView",
            "description": "",
            "description_tooltip": null,
            "layout": "IPY_MODEL_7278026c2a3742388c4672d1c58cbbc2",
            "placeholder": "​",
            "style": "IPY_MODEL_1749f4360c59431f972b36cbd60dab59",
            "value": "0.001 MB of 0.001 MB uploaded (0.000 MB deduped)\r"
          }
        },
        "b82f8cf8e15646a488ad30d3cef53498": {
          "model_module": "@jupyter-widgets/controls",
          "model_name": "FloatProgressModel",
          "model_module_version": "1.5.0",
          "state": {
            "_dom_classes": [],
            "_model_module": "@jupyter-widgets/controls",
            "_model_module_version": "1.5.0",
            "_model_name": "FloatProgressModel",
            "_view_count": null,
            "_view_module": "@jupyter-widgets/controls",
            "_view_module_version": "1.5.0",
            "_view_name": "ProgressView",
            "bar_style": "",
            "description": "",
            "description_tooltip": null,
            "layout": "IPY_MODEL_03a4974d461046fd8c5ee64dae654d54",
            "max": 1,
            "min": 0,
            "orientation": "horizontal",
            "style": "IPY_MODEL_d9b70d4e5e7b4469838af746362fd737",
            "value": 1
          }
        },
        "039b779a6f11423d810857383316f88a": {
          "model_module": "@jupyter-widgets/base",
          "model_name": "LayoutModel",
          "model_module_version": "1.2.0",
          "state": {
            "_model_module": "@jupyter-widgets/base",
            "_model_module_version": "1.2.0",
            "_model_name": "LayoutModel",
            "_view_count": null,
            "_view_module": "@jupyter-widgets/base",
            "_view_module_version": "1.2.0",
            "_view_name": "LayoutView",
            "align_content": null,
            "align_items": null,
            "align_self": null,
            "border": null,
            "bottom": null,
            "display": null,
            "flex": null,
            "flex_flow": null,
            "grid_area": null,
            "grid_auto_columns": null,
            "grid_auto_flow": null,
            "grid_auto_rows": null,
            "grid_column": null,
            "grid_gap": null,
            "grid_row": null,
            "grid_template_areas": null,
            "grid_template_columns": null,
            "grid_template_rows": null,
            "height": null,
            "justify_content": null,
            "justify_items": null,
            "left": null,
            "margin": null,
            "max_height": null,
            "max_width": null,
            "min_height": null,
            "min_width": null,
            "object_fit": null,
            "object_position": null,
            "order": null,
            "overflow": null,
            "overflow_x": null,
            "overflow_y": null,
            "padding": null,
            "right": null,
            "top": null,
            "visibility": null,
            "width": null
          }
        },
        "7278026c2a3742388c4672d1c58cbbc2": {
          "model_module": "@jupyter-widgets/base",
          "model_name": "LayoutModel",
          "model_module_version": "1.2.0",
          "state": {
            "_model_module": "@jupyter-widgets/base",
            "_model_module_version": "1.2.0",
            "_model_name": "LayoutModel",
            "_view_count": null,
            "_view_module": "@jupyter-widgets/base",
            "_view_module_version": "1.2.0",
            "_view_name": "LayoutView",
            "align_content": null,
            "align_items": null,
            "align_self": null,
            "border": null,
            "bottom": null,
            "display": null,
            "flex": null,
            "flex_flow": null,
            "grid_area": null,
            "grid_auto_columns": null,
            "grid_auto_flow": null,
            "grid_auto_rows": null,
            "grid_column": null,
            "grid_gap": null,
            "grid_row": null,
            "grid_template_areas": null,
            "grid_template_columns": null,
            "grid_template_rows": null,
            "height": null,
            "justify_content": null,
            "justify_items": null,
            "left": null,
            "margin": null,
            "max_height": null,
            "max_width": null,
            "min_height": null,
            "min_width": null,
            "object_fit": null,
            "object_position": null,
            "order": null,
            "overflow": null,
            "overflow_x": null,
            "overflow_y": null,
            "padding": null,
            "right": null,
            "top": null,
            "visibility": null,
            "width": null
          }
        },
        "1749f4360c59431f972b36cbd60dab59": {
          "model_module": "@jupyter-widgets/controls",
          "model_name": "DescriptionStyleModel",
          "model_module_version": "1.5.0",
          "state": {
            "_model_module": "@jupyter-widgets/controls",
            "_model_module_version": "1.5.0",
            "_model_name": "DescriptionStyleModel",
            "_view_count": null,
            "_view_module": "@jupyter-widgets/base",
            "_view_module_version": "1.2.0",
            "_view_name": "StyleView",
            "description_width": ""
          }
        },
        "03a4974d461046fd8c5ee64dae654d54": {
          "model_module": "@jupyter-widgets/base",
          "model_name": "LayoutModel",
          "model_module_version": "1.2.0",
          "state": {
            "_model_module": "@jupyter-widgets/base",
            "_model_module_version": "1.2.0",
            "_model_name": "LayoutModel",
            "_view_count": null,
            "_view_module": "@jupyter-widgets/base",
            "_view_module_version": "1.2.0",
            "_view_name": "LayoutView",
            "align_content": null,
            "align_items": null,
            "align_self": null,
            "border": null,
            "bottom": null,
            "display": null,
            "flex": null,
            "flex_flow": null,
            "grid_area": null,
            "grid_auto_columns": null,
            "grid_auto_flow": null,
            "grid_auto_rows": null,
            "grid_column": null,
            "grid_gap": null,
            "grid_row": null,
            "grid_template_areas": null,
            "grid_template_columns": null,
            "grid_template_rows": null,
            "height": null,
            "justify_content": null,
            "justify_items": null,
            "left": null,
            "margin": null,
            "max_height": null,
            "max_width": null,
            "min_height": null,
            "min_width": null,
            "object_fit": null,
            "object_position": null,
            "order": null,
            "overflow": null,
            "overflow_x": null,
            "overflow_y": null,
            "padding": null,
            "right": null,
            "top": null,
            "visibility": null,
            "width": null
          }
        },
        "d9b70d4e5e7b4469838af746362fd737": {
          "model_module": "@jupyter-widgets/controls",
          "model_name": "ProgressStyleModel",
          "model_module_version": "1.5.0",
          "state": {
            "_model_module": "@jupyter-widgets/controls",
            "_model_module_version": "1.5.0",
            "_model_name": "ProgressStyleModel",
            "_view_count": null,
            "_view_module": "@jupyter-widgets/base",
            "_view_module_version": "1.2.0",
            "_view_name": "StyleView",
            "bar_color": null,
            "description_width": ""
          }
        }
      }
    },
    "accelerator": "GPU"
  },
  "cells": [
    {
      "cell_type": "markdown",
      "metadata": {
        "id": "view-in-github",
        "colab_type": "text"
      },
      "source": [
        "<a href=\"https://colab.research.google.com/github/darkmochalover/DS_TermProject_AL2/blob/main/wandb_hp_baseline_v2.ipynb\" target=\"_parent\"><img src=\"https://colab.research.google.com/assets/colab-badge.svg\" alt=\"Open In Colab\"/></a>"
      ]
    },
    {
      "cell_type": "markdown",
      "source": [
        "Dictionary"
      ],
      "metadata": {
        "id": "wzOh70v4rFn7"
      }
    },
    {
      "cell_type": "code",
      "source": [
        "# Data Path\n",
        "raw_data_path = \"/content/drive/MyDrive/DS_TermProject/data/combined_mbti_df.csv\"\n",
        "\n",
        "audio_qualities = [\n",
        "    'danceability_mean',\n",
        "    'valence_mean',\n",
        "    'energy_mean',\n",
        "    'loudness_mean',\n",
        "    'acousticness_mean',\n",
        "    'instrumentalness_mean',\n",
        "    'liveness_mean',\n",
        "]\n",
        "\n",
        "# 장조/단조 (Major/Minor)\n",
        "all_tones = [\n",
        "    'Cminor_count', 'CMajor_count', 'C#/Dbminor_count', 'C#/DbMajor_count',\n",
        "    'DMajor_count', 'D#_EbMajor_count', 'Eminor_count', 'EMajor_count',\n",
        "    'Fminor_count', 'FMajor_count', 'F#/Gbminor_count', 'GMajor_count',\n",
        "    'G#/Abminor_count', 'G#/AbMajor_count', 'Aminor_count', 'AMajor_count',\n",
        "    'A#/Bbminor_count', 'BMajor_count', 'Dminor_count', 'D#_Ebminor_count',\n",
        "    'Gminor_count', 'A#/BbMajor_count', 'F#/GbMajor_count', 'Bminor_count'\n",
        "]\n",
        "\n",
        "major_tones = [\n",
        "    'CMajor_count', 'C#/DbMajor_count',\n",
        "    'DMajor_count', 'D#_EbMajor_count', \n",
        "    'EMajor_count',\n",
        "    'FMajor_count', \n",
        "    'GMajor_count', 'G#/AbMajor_count', \n",
        "    'AMajor_count', 'BMajor_count', 'A#/BbMajor_count', \n",
        "    'F#/GbMajor_count'\n",
        "]\n",
        "minor_tones = [\n",
        "    'Cminor_count', 'C#/Dbminor_count', \n",
        "    'Eminor_count', \n",
        "    'Fminor_count', 'F#/Gbminor_count', \n",
        "    'G#/Abminor_count',  \n",
        "    'Aminor_count', 'A#/Bbminor_count', \n",
        "    'Dminor_count', 'D#_Ebminor_count',\n",
        "    'Gminor_count', \n",
        "    'Bminor_count'\n",
        "]\n",
        "\n",
        "\n",
        "# 열 이름을 바꾸기 위해 리스트로 저장함\n",
        "renamed_columns =  [\n",
        "    'danceability',\n",
        "    'valence',\n",
        "    'energy',\n",
        "    'loudness',\n",
        "    'acousticness',\n",
        "    'instrumentalness',\n",
        "    'liveness'\n",
        "]\n"
      ],
      "metadata": {
        "id": "VweWag3WrIrd"
      },
      "execution_count": 1,
      "outputs": []
    },
    {
      "cell_type": "markdown",
      "source": [
        "Install WandB"
      ],
      "metadata": {
        "id": "cu1JoFEDqIhm"
      }
    },
    {
      "cell_type": "code",
      "source": [
        "!pip install -qU wandb"
      ],
      "metadata": {
        "id": "_MaTXzH4q4LN"
      },
      "execution_count": 2,
      "outputs": []
    },
    {
      "cell_type": "code",
      "execution_count": 3,
      "metadata": {
        "id": "_Jm56g6Ep9Rg"
      },
      "outputs": [],
      "source": [
        "import pandas as pd\n",
        "import numpy as np\n",
        "import matplotlib.pyplot as plt\n",
        "from sklearn.model_selection import train_test_split\n",
        "\n",
        "from sklearn.preprocessing import OneHotEncoder, LabelEncoder\n",
        "from sklearn.preprocessing import StandardScaler, RobustScaler, MinMaxScaler\n",
        "from imblearn.over_sampling import SMOTE\n",
        "\n",
        "import itertools\n",
        "\n",
        "import wandb\n",
        "import random"
      ]
    },
    {
      "cell_type": "markdown",
      "source": [
        "Step 1: Import W&B and Login"
      ],
      "metadata": {
        "id": "HEXBn0GGqLDm"
      }
    },
    {
      "cell_type": "code",
      "source": [
        "import wandb\n",
        "from wandb.keras import WandbMetricsLogger, WandbModelCheckpoint, WandbEvalCallback"
      ],
      "metadata": {
        "id": "NSHvaPp4q0IH"
      },
      "execution_count": 4,
      "outputs": []
    },
    {
      "cell_type": "markdown",
      "source": [
        "Data Loading"
      ],
      "metadata": {
        "id": "XUas7Lziryfh"
      }
    },
    {
      "cell_type": "code",
      "source": [
        "df = pd.read_csv(raw_data_path)"
      ],
      "metadata": {
        "id": "8rCuN45Ur5kJ"
      },
      "execution_count": 6,
      "outputs": []
    },
    {
      "cell_type": "markdown",
      "source": [
        "Feature Reduction"
      ],
      "metadata": {
        "id": "thkPZL0ur63t"
      }
    },
    {
      "cell_type": "code",
      "source": [
        "# Subset only measures of centers\n",
        "X = df.iloc[: , :22] # 처음 22개 열을 선택해서 저장\n",
        "X = df[audio_qualities] # 오디오 품질과 해당 열이 있는 열을 선택해서 저장\n",
        "\n",
        "\n",
        "categories = renamed_columns[:]\n",
        "X.columns = renamed_columns\n",
        "\n",
        "\n",
        "# 장조/단조의 개수의 합을 계산해서 저장 (C장조, D단조, .. 이렇게 따로 계산되는거 말고, 위에 지정된 list 이용해서 sum값 넣어줌)\n",
        "X['major_count'] = df[major_tones].sum(axis=1).astype('int64')\n",
        "X['minor_count'] = df[minor_tones].sum(axis=1).astype('int64')"
      ],
      "metadata": {
        "colab": {
          "base_uri": "https://localhost:8080/"
        },
        "id": "pOE8tiZwsEwS",
        "outputId": "4268a63b-fc52-4998-8ae5-cd3b5165fee0"
      },
      "execution_count": 7,
      "outputs": [
        {
          "output_type": "stream",
          "name": "stderr",
          "text": [
            "<ipython-input-7-482ca4c8bc7c>:11: SettingWithCopyWarning: \n",
            "A value is trying to be set on a copy of a slice from a DataFrame.\n",
            "Try using .loc[row_indexer,col_indexer] = value instead\n",
            "\n",
            "See the caveats in the documentation: https://pandas.pydata.org/pandas-docs/stable/user_guide/indexing.html#returning-a-view-versus-a-copy\n",
            "  X['major_count'] = df[major_tones].sum(axis=1).astype('int64')\n",
            "<ipython-input-7-482ca4c8bc7c>:12: SettingWithCopyWarning: \n",
            "A value is trying to be set on a copy of a slice from a DataFrame.\n",
            "Try using .loc[row_indexer,col_indexer] = value instead\n",
            "\n",
            "See the caveats in the documentation: https://pandas.pydata.org/pandas-docs/stable/user_guide/indexing.html#returning-a-view-versus-a-copy\n",
            "  X['minor_count'] = df[minor_tones].sum(axis=1).astype('int64')\n"
          ]
        }
      ]
    },
    {
      "cell_type": "markdown",
      "source": [
        "## Encoding & Scaling Function"
      ],
      "metadata": {
        "id": "xQFGTwxasIyF"
      }
    },
    {
      "cell_type": "code",
      "source": [
        "def Encoding(df, encoding_method):\n",
        "    df = df.copy()\n",
        "\n",
        "    if(encoding_method == 'LabelEncoder'):\n",
        "        encoder = LabelEncoder()\n",
        "        target = encoder.fit_transform(df[['mbti']])\n",
        "        \n",
        "\n",
        "    if(encoding_method == 'OneHotEncoder'):\n",
        "        encoder = OneHotEncoder(sparse=False)\n",
        "        target = encoder.fit_transform(df[['mbti']])\n",
        "\n",
        "    return target\n",
        "\n",
        "def Scaling(scale_method, X_train, X_test):\n",
        "    if( scale_method == 'No Scale'):\n",
        "        return X_train, X_test\n",
        "\n",
        "    elif(scale_method == 'StandardScaler'):\n",
        "        scaler = StandardScaler()\n",
        "\n",
        "    elif(scale_method == 'MinMaxScaler'):\n",
        "        scaler = MinMaxScaler()\n",
        "\n",
        "    elif(scale_method == 'RobustScaler'):\n",
        "        scaler = RobustScaler()\n",
        "\n",
        "\n",
        "    X_train_scaled = scaler.fit_transform(X_train)\n",
        "    X_test_scaled = scaler.fit_transform(X_test)\n",
        "\n",
        "    return X_train_scaled, X_test_scaled\n"
      ],
      "metadata": {
        "id": "acXdN4w3rzhr"
      },
      "execution_count": 8,
      "outputs": []
    },
    {
      "cell_type": "markdown",
      "source": [
        "바꿔가면서 돌리기"
      ],
      "metadata": {
        "id": "J_tJBdoVYHEc"
      }
    },
    {
      "cell_type": "code",
      "source": [
        "wandb.login()"
      ],
      "metadata": {
        "colab": {
          "base_uri": "https://localhost:8080/",
          "height": 70
        },
        "id": "LTiOGZW2eAjf",
        "outputId": "e712c1bc-6a9e-4247-c6ec-8bd24cd992ee"
      },
      "execution_count": 9,
      "outputs": [
        {
          "output_type": "display_data",
          "data": {
            "text/plain": [
              "<IPython.core.display.Javascript object>"
            ],
            "application/javascript": [
              "\n",
              "        window._wandbApiKey = new Promise((resolve, reject) => {\n",
              "            function loadScript(url) {\n",
              "            return new Promise(function(resolve, reject) {\n",
              "                let newScript = document.createElement(\"script\");\n",
              "                newScript.onerror = reject;\n",
              "                newScript.onload = resolve;\n",
              "                document.body.appendChild(newScript);\n",
              "                newScript.src = url;\n",
              "            });\n",
              "            }\n",
              "            loadScript(\"https://cdn.jsdelivr.net/npm/postmate/build/postmate.min.js\").then(() => {\n",
              "            const iframe = document.createElement('iframe')\n",
              "            iframe.style.cssText = \"width:0;height:0;border:none\"\n",
              "            document.body.appendChild(iframe)\n",
              "            const handshake = new Postmate({\n",
              "                container: iframe,\n",
              "                url: 'https://wandb.ai/authorize'\n",
              "            });\n",
              "            const timeout = setTimeout(() => reject(\"Couldn't auto authenticate\"), 5000)\n",
              "            handshake.then(function(child) {\n",
              "                child.on('authorize', data => {\n",
              "                    clearTimeout(timeout)\n",
              "                    resolve(data)\n",
              "                });\n",
              "            });\n",
              "            })\n",
              "        });\n",
              "    "
            ]
          },
          "metadata": {}
        },
        {
          "output_type": "stream",
          "name": "stderr",
          "text": [
            "\u001b[34m\u001b[1mwandb\u001b[0m: Appending key for api.wandb.ai to your netrc file: /root/.netrc\n"
          ]
        },
        {
          "output_type": "execute_result",
          "data": {
            "text/plain": [
              "True"
            ]
          },
          "metadata": {},
          "execution_count": 9
        }
      ]
    },
    {
      "cell_type": "code",
      "source": [
        "import shutil\n",
        "# os.rmdir('/content/wandb')\n",
        "shutil.rmtree('/content/wandb', ignore_errors=True)"
      ],
      "metadata": {
        "id": "MxzoA2wwfEKI"
      },
      "execution_count": 10,
      "outputs": []
    },
    {
      "cell_type": "code",
      "source": [
        "base_config = {\n",
        "    'encoder' : 'LabelEncoder',\n",
        "    'scaler' : 'StandardScaler',\n",
        "    'test_size' : 0.2,\n",
        "    \"do_smote\" : 'True'\n",
        "}"
      ],
      "metadata": {
        "id": "mcgDjVZwkyYa"
      },
      "execution_count": 11,
      "outputs": []
    },
    {
      "cell_type": "code",
      "source": [
        "encoder_list = ['LabelEncoder', 'OneHotEncoder']\n",
        "scaler_list = ['StandardScaler', 'MinMaxScaler', 'RobustScaler', 'No Scale']\n",
        "test_size_list = [0.3, 0.2, 0.1]\n",
        "do_smote = ['True', 'False']\n",
        "model_list = ['DecisionTreeClassifier']\n",
        "SearchMethods = ['Base', 'Grid', 'Random']"
      ],
      "metadata": {
        "id": "smB98NV7qFna"
      },
      "execution_count": 12,
      "outputs": []
    },
    {
      "cell_type": "code",
      "source": [
        "# grid search(hyperparameter)\n",
        "param_grid = {\n",
        "    'max_depth': [None, 5, 10, 15],\n",
        "    'min_samples_split': [2, 5, 10],\n",
        "    'min_samples_leaf': [1, 2, 4],\n",
        "    'criterion': ['gini', 'entropy']\n",
        "}\n",
        "\n",
        "# random search(hyperparameter)\n",
        "param_dist = {\n",
        "    'max_depth': [None, 5, 10, 15],\n",
        "    'min_samples_split': [2, 5, 10],\n",
        "    'min_samples_leaf': [1, 2, 4],\n",
        "    'criterion': ['gini', 'entropy']\n",
        "}"
      ],
      "metadata": {
        "id": "gqs_LAvo2vw6"
      },
      "execution_count": 13,
      "outputs": []
    },
    {
      "cell_type": "code",
      "source": [
        "from sklearn.ensemble import RandomForestClassifier\n",
        "from sklearn.metrics import accuracy_score\n",
        "\n",
        "from sklearn.tree import DecisionTreeClassifier\n",
        "from sklearn.metrics import accuracy_score, confusion_matrix, f1_score, recall_score, precision_score\n",
        "from sklearn.model_selection import train_test_split, GridSearchCV, RandomizedSearchCV\n",
        "from sklearn.model_selection import cross_val_score, KFold\n",
        "\n",
        "combinations = list(itertools.product(encoder_list, scaler_list, do_smote, model_list, SearchMethods))\n",
        "\n"
      ],
      "metadata": {
        "id": "Y3ZSTvRpX_PK"
      },
      "execution_count": 14,
      "outputs": []
    },
    {
      "cell_type": "code",
      "source": [
        "for encoder, scaler, do_smote, model, search_method in combinations:\n",
        "  # wandb.init(project=\"MBTI_playlist\", config=base_config)\n",
        "\n",
        "  config = {\n",
        "            'encoder' : encoder,\n",
        "            'scaler' : scaler,\n",
        "            'test_size' : 0.3,\n",
        "            \"do_smote\" : do_smote,\n",
        "            'model' : model,\n",
        "            'search_method' : search_method\n",
        "  }\n",
        "\n",
        "  wandb.init(project='MBTI_playlist_test004', entity='ds_2023_spring', config=config)\n",
        "\n",
        "  config = wandb.config\n",
        "  wandb.config.update(config)\n",
        "  print(config)\n",
        "\n",
        "\n",
        "  y = Encoding(df = df, encoding_method=encoder)\n",
        "  # print(y[:5])\n",
        "\n",
        "  X_train, X_test, y_train, y_test = train_test_split(X, y, random_state = 5, test_size = 0.2)\n",
        "\n",
        "  X_train, X_test = Scaling(scale_method=scaler, X_train=X_train, X_test=X_test)\n",
        "\n",
        "  if(do_smote == 'True'): # If true,\n",
        "      smote = SMOTE(sampling_strategy='auto', random_state=0)\n",
        "      X_train, y_train = smote.fit_resample(X_train,y_train)\n",
        "\n",
        "  # 모델 평가 지표\n",
        "  wandb.define_metric('accuracy', summary='max')\n",
        "  wandb.define_metric('F1 Score', summary='max')\n",
        "  wandb.define_metric('Recall', summary='max')\n",
        "  wandb.define_metric('Precision', summary='max')\n",
        "\n",
        "  if(model == 'DecisionTreeClassifier'):\n",
        "    # (Base) Decision Tree Model\n",
        "    base_model = DecisionTreeClassifier(random_state = 42)\n",
        "    if(search_method != 'Base'):\n",
        "      base_model.fit(X_train, y_train) \n",
        "\n",
        "      # 모델 평가 지표 \n",
        "      predictions = base_model.predict(X_test)\n",
        "      accuracy = accuracy_score(y_test, predictions)\n",
        "      \n",
        "      if(encoder == 'OneHotEncoder'):\n",
        "        confusion_matrix = confusion_matrix(y_test.argmax(axis=1), predictions.argmax(axis=1))\n",
        "      else:\n",
        "        confusion_matrix = confusion_matrix(y_test, predictions)\n",
        "\n",
        "      f1_score = f1_score(y_test, predictions, average='macro')\n",
        "      recall = recall_score(y_test, predictions, average='macro')\n",
        "      precision = precision_score(y_test, predictions, average='macro')\n",
        "\n",
        "      print(\"accuracy:\", accuracy)\n",
        "      print(\"Confusion Matrix:\\n\", confusion_matrix)\n",
        "      print(\"F1 Score:\", f1_score)\n",
        "      print(\"Recall:\", recall)\n",
        "      print(\"Precision:\", precision)\n",
        "\n",
        "      wandb.log({'accuracy': accuracy})\n",
        "      wandb.log({'Confusion Matrix': confusion_matrix.tolist()})\n",
        "      wandb.log({'F1 Score': f1_score})\n",
        "      wandb.log({'Recall': recall})\n",
        "      wandb.log({'Precision': precision})\n",
        "\n",
        "\n",
        "\n",
        "    if(search_method == 'Grid'):\n",
        "      # Grid Search\n",
        "      searcher = GridSearchCV(estimator = base_model, \n",
        "                              param_grid = param_grid, \n",
        "                              cv=5)\n",
        "      \n",
        "      searcher.fit(X_train, y_train)\n",
        "      best_params = searcher.best_params_\n",
        "      print('best_params: ' , best_params)\n",
        "      wandb.log({'best_params' : best_params})\n",
        "      best_param_model = DecisionTreeClassifier(random_state=42, **best_params)\n",
        "      best_param_model.fit(X_train, y_train)\n",
        "\n",
        "      # 모델 평가 지표 \n",
        "      predictions = best_param_model.predict(X_test)\n",
        "      accuracy = accuracy_score(y_test, predictions)\n",
        "      \n",
        "      if(encoder == 'OneHotEncoder'):\n",
        "        confusion_matrix = confusion_matrix(y_test.argmax(axis=1), predictions.argmax(axis=1))\n",
        "      else:\n",
        "        confusion_matrix = confusion_matrix(y_test, predictions)\n",
        "\n",
        "      f1_score = f1_score(y_test, predictions, average='macro')\n",
        "      recall = recall_score(y_test, predictions, average='macro')\n",
        "      precision = precision_score(y_test, predictions, average='macro')\n",
        "\n",
        "      print(\"accuracy:\", accuracy)\n",
        "      print(\"Confusion Matrix:\\n\", confusion_matrix)\n",
        "      print(\"F1 Score:\", f1_score)\n",
        "      print(\"Recall:\", recall)\n",
        "      print(\"Precision:\", precision)\n",
        "\n",
        "      wandb.log({'accuracy': accuracy})\n",
        "      wandb.log({'Confusion Matrix': confusion_matrix.tolist()})\n",
        "      wandb.log({'F1 Score': f1_score})\n",
        "      wandb.log({'Recall': recall})\n",
        "      wandb.log({'Precision': precision})\n",
        "\n",
        "      # K-Fold \n",
        "      kf = KFold(n_splits=5, shuffle=True, random_state=42)\n",
        "\n",
        "      dt_model_cv = DecisionTreeClassifier(random_state=42, **best_params)\n",
        "      cv_scores = cross_val_score(dt_model_cv, X_train, y_train, cv=kf, scoring='accuracy')\n",
        "      cv_accuracy = np.mean(cv_scores)\n",
        "      print(\"acc with K-Fold Cross Validation:\", cv_accuracy)\n",
        "      wandb.log({'Accuracy with K-Fold': cv_accuracy})  \n",
        "\n",
        "      \n",
        "\n",
        "\n",
        "    if(search_method == 'Random Search'):\n",
        "      # Random Search\n",
        "      searcher = RandomizedSearchCV(estimator = base_model, \n",
        "                                    param_distributions = param_dist, \n",
        "                                    cv=5)\n",
        "      \n",
        "      searcher.fit(X_train, y_train)\n",
        "      best_params = searcher.best_params_\n",
        "      print('best_params: ' , best_params)\n",
        "      wandb.log({'best_params' : best_params})\n",
        "\n",
        "      best_param_model = DecisionTreeClassifier(random_state=42, **best_params)\n",
        "      best_param_model.fit(X_train, y_train)\n",
        "\n",
        "      # 모델 평가 지표 \n",
        "      predictions = best_param_model.predict(X_test)\n",
        "      accuracy = accuracy_score(y_test, predictions)\n",
        "      \n",
        "      if(encoder == 'OneHotEncoder'):\n",
        "        confusion_matrix = confusion_matrix(y_test.argmax(axis=1), predictions.argmax(axis=1))\n",
        "      else:\n",
        "        confusion_matrix = confusion_matrix(y_test, predictions)\n",
        "\n",
        "      f1_score = f1_score(y_test, predictions, average='macro')\n",
        "      recall = recall_score(y_test, predictions, average='macro')\n",
        "      precision = precision_score(y_test, predictions, average='macro')\n",
        "\n",
        "      print(\"accuracy:\", accuracy)\n",
        "      print(\"Confusion Matrix:\\n\", confusion_matrix)\n",
        "      print(\"F1 Score:\", f1_score)\n",
        "      print(\"Recall:\", recall)\n",
        "      print(\"Precision:\", precision)\n",
        "\n",
        "      wandb.log({'accuracy': accuracy})\n",
        "      wandb.log({'Confusion Matrix': confusion_matrix.tolist()})\n",
        "      wandb.log({'F1 Score': f1_score})\n",
        "      wandb.log({'Recall': recall})\n",
        "      wandb.log({'Precision': precision})\n",
        "\n",
        "    \n",
        "      # K-Fold \n",
        "      kf = KFold(n_splits=5, shuffle=True, random_state=42)\n",
        "\n",
        "      dt_model_cv = DecisionTreeClassifier(random_state=42, **best_params)\n",
        "      cv_scores = cross_val_score(dt_model_cv, X_train, y_train, cv=kf, scoring='accuracy')\n",
        "      cv_accuracy = np.mean(cv_scores)\n",
        "      print(\"acc with K-Fold Cross Validation:\", cv_accuracy)\n",
        "      wandb.log({'Accuracy with K-Fold': cv_accuracy})  \n"
      ],
      "metadata": {
        "colab": {
          "base_uri": "https://localhost:8080/",
          "height": 1000,
          "referenced_widgets": [
            "3fad718bc2224296917d080cbafdcc9c",
            "5c891b7704354ad1b869b6f6d1b0c397",
            "b82f8cf8e15646a488ad30d3cef53498",
            "039b779a6f11423d810857383316f88a",
            "7278026c2a3742388c4672d1c58cbbc2",
            "1749f4360c59431f972b36cbd60dab59",
            "03a4974d461046fd8c5ee64dae654d54",
            "d9b70d4e5e7b4469838af746362fd737"
          ]
        },
        "id": "ha4l7Oqbr4fo",
        "outputId": "5b6945a7-c3de-4b5e-8e8c-9d2bffec68bb"
      },
      "execution_count": 23,
      "outputs": [
        {
          "output_type": "display_data",
          "data": {
            "text/plain": [
              "<IPython.core.display.HTML object>"
            ],
            "text/html": [
              "Finishing last run (ID:gtulprgj) before initializing another..."
            ]
          },
          "metadata": {}
        },
        {
          "output_type": "display_data",
          "data": {
            "text/plain": [
              "<IPython.core.display.HTML object>"
            ],
            "text/html": [
              "Waiting for W&B process to finish... <strong style=\"color:green\">(success).</strong>"
            ]
          },
          "metadata": {}
        },
        {
          "output_type": "display_data",
          "data": {
            "text/plain": [
              "VBox(children=(Label(value='0.001 MB of 0.001 MB uploaded (0.000 MB deduped)\\r'), FloatProgress(value=1.0, max…"
            ],
            "application/vnd.jupyter.widget-view+json": {
              "version_major": 2,
              "version_minor": 0,
              "model_id": "3fad718bc2224296917d080cbafdcc9c"
            }
          },
          "metadata": {}
        },
        {
          "output_type": "display_data",
          "data": {
            "text/plain": [
              "<IPython.core.display.HTML object>"
            ],
            "text/html": [
              " View run <strong style=\"color:#cdcd00\">snowy-bee-27</strong> at: <a href='https://wandb.ai/ds_2023_spring/MBTI_playlist_test004/runs/gtulprgj' target=\"_blank\">https://wandb.ai/ds_2023_spring/MBTI_playlist_test004/runs/gtulprgj</a><br/>Synced 5 W&B file(s), 0 media file(s), 0 artifact file(s) and 0 other file(s)"
            ]
          },
          "metadata": {}
        },
        {
          "output_type": "display_data",
          "data": {
            "text/plain": [
              "<IPython.core.display.HTML object>"
            ],
            "text/html": [
              "Find logs at: <code>./wandb/run-20230604_031338-gtulprgj/logs</code>"
            ]
          },
          "metadata": {}
        },
        {
          "output_type": "display_data",
          "data": {
            "text/plain": [
              "<IPython.core.display.HTML object>"
            ],
            "text/html": [
              "Successfully finished last run (ID:gtulprgj). Initializing new run:<br/>"
            ]
          },
          "metadata": {}
        },
        {
          "output_type": "display_data",
          "data": {
            "text/plain": [
              "<IPython.core.display.HTML object>"
            ],
            "text/html": [
              "Tracking run with wandb version 0.15.3"
            ]
          },
          "metadata": {}
        },
        {
          "output_type": "display_data",
          "data": {
            "text/plain": [
              "<IPython.core.display.HTML object>"
            ],
            "text/html": [
              "Run data is saved locally in <code>/content/wandb/run-20230604_031401-2h2o4te2</code>"
            ]
          },
          "metadata": {}
        },
        {
          "output_type": "display_data",
          "data": {
            "text/plain": [
              "<IPython.core.display.HTML object>"
            ],
            "text/html": [
              "Syncing run <strong><a href='https://wandb.ai/ds_2023_spring/MBTI_playlist_test004/runs/2h2o4te2' target=\"_blank\">glamorous-thunder-28</a></strong> to <a href='https://wandb.ai/ds_2023_spring/MBTI_playlist_test004' target=\"_blank\">Weights & Biases</a> (<a href='https://wandb.me/run' target=\"_blank\">docs</a>)<br/>"
            ]
          },
          "metadata": {}
        },
        {
          "output_type": "display_data",
          "data": {
            "text/plain": [
              "<IPython.core.display.HTML object>"
            ],
            "text/html": [
              " View project at <a href='https://wandb.ai/ds_2023_spring/MBTI_playlist_test004' target=\"_blank\">https://wandb.ai/ds_2023_spring/MBTI_playlist_test004</a>"
            ]
          },
          "metadata": {}
        },
        {
          "output_type": "display_data",
          "data": {
            "text/plain": [
              "<IPython.core.display.HTML object>"
            ],
            "text/html": [
              " View run at <a href='https://wandb.ai/ds_2023_spring/MBTI_playlist_test004/runs/2h2o4te2' target=\"_blank\">https://wandb.ai/ds_2023_spring/MBTI_playlist_test004/runs/2h2o4te2</a>"
            ]
          },
          "metadata": {}
        },
        {
          "output_type": "stream",
          "name": "stdout",
          "text": [
            "{'encoder': 'LabelEncoder', 'scaler': 'StandardScaler', 'test_size': 0.3, 'do_smote': 'True', 'model': 'DecisionTreeClassifier', 'search_method': 'Base'}\n"
          ]
        },
        {
          "output_type": "stream",
          "name": "stderr",
          "text": [
            "/usr/local/lib/python3.10/dist-packages/sklearn/preprocessing/_label.py:116: DataConversionWarning: A column-vector y was passed when a 1d array was expected. Please change the shape of y to (n_samples, ), for example using ravel().\n",
            "  y = column_or_1d(y, warn=True)\n"
          ]
        },
        {
          "output_type": "display_data",
          "data": {
            "text/plain": [
              "<IPython.core.display.HTML object>"
            ],
            "text/html": [
              "Finishing last run (ID:2h2o4te2) before initializing another..."
            ]
          },
          "metadata": {}
        },
        {
          "output_type": "display_data",
          "data": {
            "text/plain": [
              "<IPython.core.display.HTML object>"
            ],
            "text/html": [
              "Waiting for W&B process to finish... <strong style=\"color:green\">(success).</strong>"
            ]
          },
          "metadata": {}
        },
        {
          "output_type": "display_data",
          "data": {
            "text/plain": [
              "<IPython.core.display.HTML object>"
            ],
            "text/html": [
              " View run <strong style=\"color:#cdcd00\">glamorous-thunder-28</strong> at: <a href='https://wandb.ai/ds_2023_spring/MBTI_playlist_test004/runs/2h2o4te2' target=\"_blank\">https://wandb.ai/ds_2023_spring/MBTI_playlist_test004/runs/2h2o4te2</a><br/>Synced 5 W&B file(s), 0 media file(s), 0 artifact file(s) and 0 other file(s)"
            ]
          },
          "metadata": {}
        },
        {
          "output_type": "display_data",
          "data": {
            "text/plain": [
              "<IPython.core.display.HTML object>"
            ],
            "text/html": [
              "Find logs at: <code>./wandb/run-20230604_031401-2h2o4te2/logs</code>"
            ]
          },
          "metadata": {}
        },
        {
          "output_type": "display_data",
          "data": {
            "text/plain": [
              "<IPython.core.display.HTML object>"
            ],
            "text/html": [
              "Successfully finished last run (ID:2h2o4te2). Initializing new run:<br/>"
            ]
          },
          "metadata": {}
        },
        {
          "output_type": "display_data",
          "data": {
            "text/plain": [
              "<IPython.core.display.HTML object>"
            ],
            "text/html": [
              "Tracking run with wandb version 0.15.3"
            ]
          },
          "metadata": {}
        },
        {
          "output_type": "display_data",
          "data": {
            "text/plain": [
              "<IPython.core.display.HTML object>"
            ],
            "text/html": [
              "Run data is saved locally in <code>/content/wandb/run-20230604_031406-rqky7vpf</code>"
            ]
          },
          "metadata": {}
        },
        {
          "output_type": "display_data",
          "data": {
            "text/plain": [
              "<IPython.core.display.HTML object>"
            ],
            "text/html": [
              "Syncing run <strong><a href='https://wandb.ai/ds_2023_spring/MBTI_playlist_test004/runs/rqky7vpf' target=\"_blank\">drawn-fog-29</a></strong> to <a href='https://wandb.ai/ds_2023_spring/MBTI_playlist_test004' target=\"_blank\">Weights & Biases</a> (<a href='https://wandb.me/run' target=\"_blank\">docs</a>)<br/>"
            ]
          },
          "metadata": {}
        },
        {
          "output_type": "display_data",
          "data": {
            "text/plain": [
              "<IPython.core.display.HTML object>"
            ],
            "text/html": [
              " View project at <a href='https://wandb.ai/ds_2023_spring/MBTI_playlist_test004' target=\"_blank\">https://wandb.ai/ds_2023_spring/MBTI_playlist_test004</a>"
            ]
          },
          "metadata": {}
        },
        {
          "output_type": "display_data",
          "data": {
            "text/plain": [
              "<IPython.core.display.HTML object>"
            ],
            "text/html": [
              " View run at <a href='https://wandb.ai/ds_2023_spring/MBTI_playlist_test004/runs/rqky7vpf' target=\"_blank\">https://wandb.ai/ds_2023_spring/MBTI_playlist_test004/runs/rqky7vpf</a>"
            ]
          },
          "metadata": {}
        },
        {
          "output_type": "stream",
          "name": "stdout",
          "text": [
            "{'encoder': 'LabelEncoder', 'scaler': 'StandardScaler', 'test_size': 0.3, 'do_smote': 'True', 'model': 'DecisionTreeClassifier', 'search_method': 'Grid'}\n",
            "accuracy: 0.14687882496940025\n",
            "Confusion Matrix:\n",
            " [[ 6  2  1  1  4  3  2  0  0  0  3  5  3  6  8  3]\n",
            " [ 7  6  3  3  2  6  3  4  2  1  4  2  2  3  2  2]\n",
            " [ 4  3  7  3  2  5  5  5  4  1  4  3  2  3  1  4]\n",
            " [ 2  3  4 15  1  3  6  7  3  2  2  3  1  2  2  6]\n",
            " [ 2  1  0  1  0  2  1  2  0  0  0  3  2  1  2  1]\n",
            " [ 4  4  3  0  4 11  0  1  2  1  4  2  2  2  2  6]\n",
            " [ 2  3  2  2  1  1  1  4  3  0  3  0  2  2  0  1]\n",
            " [ 4  7  6  9  5  7  3 10  1  3  3  2  1  0  1  6]\n",
            " [ 4  2  1  1  2  2  0  1 17 13  7  5  3  1  4  2]\n",
            " [ 6  1  0  0  5  3  1  0  8  7  2  8  5  3  2  7]\n",
            " [ 5  4  7  2  1  1  1  3  7  1 10  2  0  2  5  8]\n",
            " [ 5  2  4  3  2  4  0  2  5  4  7 12  3  4  4  4]\n",
            " [ 6  2  0  1  3  1  3  1  4  8  4  3  4  1  7  0]\n",
            " [ 6  4  6  2  1  3  3  4  4  3  2  3  4  5  1  2]\n",
            " [ 2  1  2  2  3  0  0  2  4  1  3  7  5  2  3  1]\n",
            " [ 4  0  9  5  1  1  4  4  3  0  4  1  1  5  5  6]]\n",
            "F1 Score: 0.13520835522014063\n",
            "Recall: 0.13308781870452996\n",
            "Precision: 0.13966739621578184\n"
          ]
        },
        {
          "output_type": "stream",
          "name": "stderr",
          "text": [
            "/usr/local/lib/python3.10/dist-packages/sklearn/preprocessing/_label.py:116: DataConversionWarning: A column-vector y was passed when a 1d array was expected. Please change the shape of y to (n_samples, ), for example using ravel().\n",
            "  y = column_or_1d(y, warn=True)\n"
          ]
        },
        {
          "output_type": "stream",
          "name": "stdout",
          "text": [
            "best_params:  {'criterion': 'gini', 'max_depth': None, 'min_samples_leaf': 1, 'min_samples_split': 2}\n"
          ]
        },
        {
          "output_type": "error",
          "ename": "TypeError",
          "evalue": "ignored",
          "traceback": [
            "\u001b[0;31m---------------------------------------------------------------------------\u001b[0m",
            "\u001b[0;31mTypeError\u001b[0m                                 Traceback (most recent call last)",
            "\u001b[0;32m<ipython-input-23-59d1646fb32c>\u001b[0m in \u001b[0;36m<cell line: 1>\u001b[0;34m()\u001b[0m\n\u001b[1;32m     88\u001b[0m         \u001b[0mconfusion_matrix\u001b[0m \u001b[0;34m=\u001b[0m \u001b[0mconfusion_matrix\u001b[0m\u001b[0;34m(\u001b[0m\u001b[0my_test\u001b[0m\u001b[0;34m.\u001b[0m\u001b[0margmax\u001b[0m\u001b[0;34m(\u001b[0m\u001b[0maxis\u001b[0m\u001b[0;34m=\u001b[0m\u001b[0;36m1\u001b[0m\u001b[0;34m)\u001b[0m\u001b[0;34m,\u001b[0m \u001b[0mpredictions\u001b[0m\u001b[0;34m.\u001b[0m\u001b[0margmax\u001b[0m\u001b[0;34m(\u001b[0m\u001b[0maxis\u001b[0m\u001b[0;34m=\u001b[0m\u001b[0;36m1\u001b[0m\u001b[0;34m)\u001b[0m\u001b[0;34m)\u001b[0m\u001b[0;34m\u001b[0m\u001b[0;34m\u001b[0m\u001b[0m\n\u001b[1;32m     89\u001b[0m       \u001b[0;32melse\u001b[0m\u001b[0;34m:\u001b[0m\u001b[0;34m\u001b[0m\u001b[0;34m\u001b[0m\u001b[0m\n\u001b[0;32m---> 90\u001b[0;31m         \u001b[0mconfusion_matrix\u001b[0m \u001b[0;34m=\u001b[0m \u001b[0mconfusion_matrix\u001b[0m\u001b[0;34m(\u001b[0m\u001b[0my_test\u001b[0m\u001b[0;34m,\u001b[0m \u001b[0mpredictions\u001b[0m\u001b[0;34m)\u001b[0m\u001b[0;34m\u001b[0m\u001b[0;34m\u001b[0m\u001b[0m\n\u001b[0m\u001b[1;32m     91\u001b[0m \u001b[0;34m\u001b[0m\u001b[0m\n\u001b[1;32m     92\u001b[0m       \u001b[0mf1_score\u001b[0m \u001b[0;34m=\u001b[0m \u001b[0mf1_score\u001b[0m\u001b[0;34m(\u001b[0m\u001b[0my_test\u001b[0m\u001b[0;34m,\u001b[0m \u001b[0mpredictions\u001b[0m\u001b[0;34m,\u001b[0m \u001b[0maverage\u001b[0m\u001b[0;34m=\u001b[0m\u001b[0;34m'macro'\u001b[0m\u001b[0;34m)\u001b[0m\u001b[0;34m\u001b[0m\u001b[0;34m\u001b[0m\u001b[0m\n",
            "\u001b[0;31mTypeError\u001b[0m: 'numpy.ndarray' object is not callable"
          ]
        }
      ]
    },
    {
      "cell_type": "code",
      "source": [
        "wandb.finish()"
      ],
      "metadata": {
        "id": "D3GKXG9Pyqk9"
      },
      "execution_count": null,
      "outputs": []
    }
  ]
}