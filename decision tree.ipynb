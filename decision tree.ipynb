{
  "nbformat": 4,
  "nbformat_minor": 0,
  "metadata": {
    "colab": {
      "provenance": [],
      "include_colab_link": true
    },
    "kernelspec": {
      "name": "python3",
      "display_name": "Python 3"
    },
    "language_info": {
      "name": "python"
    }
  },
  "cells": [
    {
      "cell_type": "markdown",
      "metadata": {
        "id": "view-in-github",
        "colab_type": "text"
      },
      "source": [
        "<a href=\"https://colab.research.google.com/github/darkmochalover/DS_TermProject_AL2/blob/main/decision%20tree.ipynb\" target=\"_parent\"><img src=\"https://colab.research.google.com/assets/colab-badge.svg\" alt=\"Open In Colab\"/></a>"
      ]
    },
    {
      "cell_type": "markdown",
      "source": [
        "Dictionary"
      ],
      "metadata": {
        "id": "wzOh70v4rFn7"
      }
    },
    {
      "cell_type": "code",
      "source": [
        "# Data Path\n",
        "raw_data_path = \"/content/drive/MyDrive/DS_TermProject/data/combined_mbti_df.csv\"\n",
        "# data_path = \"data/preprocessed_mbti_data.csv\"\n",
        "\n",
        "\n",
        "audio_qualities = [\n",
        "    'danceability_mean',\n",
        "    'valence_mean',\n",
        "    'energy_mean',\n",
        "    'loudness_mean',\n",
        "    'acousticness_mean',\n",
        "    'instrumentalness_mean',\n",
        "    'liveness_mean',\n",
        "]\n",
        "\n",
        "# 장조/단조 (Major/Minor)\n",
        "all_tones = [\n",
        "    'Cminor_count', 'CMajor_count', 'C#/Dbminor_count', 'C#/DbMajor_count',\n",
        "    'DMajor_count', 'D#_EbMajor_count', 'Eminor_count', 'EMajor_count',\n",
        "    'Fminor_count', 'FMajor_count', 'F#/Gbminor_count', 'GMajor_count',\n",
        "    'G#/Abminor_count', 'G#/AbMajor_count', 'Aminor_count', 'AMajor_count',\n",
        "    'A#/Bbminor_count', 'BMajor_count', 'Dminor_count', 'D#_Ebminor_count',\n",
        "    'Gminor_count', 'A#/BbMajor_count', 'F#/GbMajor_count', 'Bminor_count'\n",
        "]\n",
        "\n",
        "major_tones = [\n",
        "    'CMajor_count', 'C#/DbMajor_count',\n",
        "    'DMajor_count', 'D#_EbMajor_count', \n",
        "    'EMajor_count',\n",
        "    'FMajor_count', \n",
        "    'GMajor_count', 'G#/AbMajor_count', \n",
        "    'AMajor_count', 'BMajor_count', 'A#/BbMajor_count', \n",
        "    'F#/GbMajor_count'\n",
        "]\n",
        "minor_tones = [\n",
        "    'Cminor_count', 'C#/Dbminor_count', \n",
        "    'Eminor_count', \n",
        "    'Fminor_count', 'F#/Gbminor_count', \n",
        "    'G#/Abminor_count',  \n",
        "    'Aminor_count', 'A#/Bbminor_count', \n",
        "    'Dminor_count', 'D#_Ebminor_count',\n",
        "    'Gminor_count', \n",
        "    'Bminor_count'\n",
        "]\n",
        "\n",
        "\n",
        "# 열 이름을 바꾸기 위해 리스트로 저장함\n",
        "renamed_columns =  [\n",
        "    'danceability',\n",
        "    'valence',\n",
        "    'energy',\n",
        "    'loudness',\n",
        "    'acousticness',\n",
        "    'instrumentalness',\n",
        "    'liveness'\n",
        "]\n"
      ],
      "metadata": {
        "id": "VweWag3WrIrd"
      },
      "execution_count": 27,
      "outputs": []
    },
    {
      "cell_type": "markdown",
      "source": [
        "Install WandB"
      ],
      "metadata": {
        "id": "cu1JoFEDqIhm"
      }
    },
    {
      "cell_type": "code",
      "source": [
        "!pip install -qU wandb"
      ],
      "metadata": {
        "id": "_MaTXzH4q4LN"
      },
      "execution_count": 28,
      "outputs": []
    },
    {
      "cell_type": "code",
      "execution_count": 29,
      "metadata": {
        "id": "_Jm56g6Ep9Rg"
      },
      "outputs": [],
      "source": [
        "import pandas as pd\n",
        "import numpy as np\n",
        "import matplotlib.pyplot as plt\n",
        "from sklearn.model_selection import train_test_split\n",
        "\n",
        "from sklearn.preprocessing import OneHotEncoder, LabelEncoder\n",
        "from sklearn.preprocessing import StandardScaler, RobustScaler, MinMaxScaler\n",
        "from imblearn.over_sampling import SMOTE\n",
        "\n",
        "import itertools\n",
        "\n",
        "import wandb\n",
        "import random"
      ]
    },
    {
      "cell_type": "markdown",
      "source": [
        "Step 1: Import W&B and Login"
      ],
      "metadata": {
        "id": "HEXBn0GGqLDm"
      }
    },
    {
      "cell_type": "code",
      "source": [
        "import wandb\n",
        "from wandb.keras import WandbMetricsLogger, WandbModelCheckpoint, WandbEvalCallback"
      ],
      "metadata": {
        "id": "NSHvaPp4q0IH"
      },
      "execution_count": 30,
      "outputs": []
    },
    {
      "cell_type": "code",
      "source": [
        "encoder_list = ['LabelEncoder', 'OneHotEncoder']\n",
        "scaler_list = ['StandardScaler', 'MinMaxScaler', 'RobustScaler', 'No Scale']\n",
        "test_size_list = [0.3, 0.2, 0.1]\n",
        "do_smote = ['True', 'False']"
      ],
      "metadata": {
        "id": "smB98NV7qFna"
      },
      "execution_count": 31,
      "outputs": []
    },
    {
      "cell_type": "code",
      "source": [
        "config = {\n",
        "        'encoder' : 'LabelEncoder',\n",
        "        'scaler' : 'StandardScaler',\n",
        "        'test_size' : 0.3,\n",
        "        \"do_smote\" : True\n",
        "    }\n",
        "\n",
        "# start a new wandb run to track this script\n",
        "wandb.init(\n",
        "    # set the wandb project where this run will be logged\n",
        "    project=\"MBTI_playlist\",\n",
        "    \n",
        "    # track hyperparameters and run metadata\n",
        "    config = config\n",
        ")\n",
        "\n",
        "config=wandb.config\n"
      ],
      "metadata": {
        "id": "FUSOY6haqQh2",
        "colab": {
          "base_uri": "https://localhost:8080/",
          "height": 119
        },
        "outputId": "84591f85-fe39-4ae1-92b0-f8874ce947e3"
      },
      "execution_count": 32,
      "outputs": [
        {
          "output_type": "stream",
          "name": "stderr",
          "text": [
            "\u001b[34m\u001b[1mwandb\u001b[0m: Currently logged in as: \u001b[33makdl0108\u001b[0m (\u001b[33mds_2023_spring\u001b[0m). Use \u001b[1m`wandb login --relogin`\u001b[0m to force relogin\n"
          ]
        },
        {
          "output_type": "display_data",
          "data": {
            "text/plain": [
              "<IPython.core.display.HTML object>"
            ],
            "text/html": [
              "Tracking run with wandb version 0.15.3"
            ]
          },
          "metadata": {}
        },
        {
          "output_type": "display_data",
          "data": {
            "text/plain": [
              "<IPython.core.display.HTML object>"
            ],
            "text/html": [
              "Run data is saved locally in <code>/content/wandb/run-20230603_190404-ot5axpfi</code>"
            ]
          },
          "metadata": {}
        },
        {
          "output_type": "display_data",
          "data": {
            "text/plain": [
              "<IPython.core.display.HTML object>"
            ],
            "text/html": [
              "Syncing run <strong><a href='https://wandb.ai/ds_2023_spring/MBTI_playlist/runs/ot5axpfi' target=\"_blank\">snowy-feather-5</a></strong> to <a href='https://wandb.ai/ds_2023_spring/MBTI_playlist' target=\"_blank\">Weights & Biases</a> (<a href='https://wandb.me/run' target=\"_blank\">docs</a>)<br/>"
            ]
          },
          "metadata": {}
        },
        {
          "output_type": "display_data",
          "data": {
            "text/plain": [
              "<IPython.core.display.HTML object>"
            ],
            "text/html": [
              " View project at <a href='https://wandb.ai/ds_2023_spring/MBTI_playlist' target=\"_blank\">https://wandb.ai/ds_2023_spring/MBTI_playlist</a>"
            ]
          },
          "metadata": {}
        },
        {
          "output_type": "display_data",
          "data": {
            "text/plain": [
              "<IPython.core.display.HTML object>"
            ],
            "text/html": [
              " View run at <a href='https://wandb.ai/ds_2023_spring/MBTI_playlist/runs/ot5axpfi' target=\"_blank\">https://wandb.ai/ds_2023_spring/MBTI_playlist/runs/ot5axpfi</a>"
            ]
          },
          "metadata": {}
        }
      ]
    },
    {
      "cell_type": "markdown",
      "source": [
        "Data Loading"
      ],
      "metadata": {
        "id": "XUas7Lziryfh"
      }
    },
    {
      "cell_type": "code",
      "source": [
        "from google.colab import drive\n",
        "drive.mount('/content/drive')\n",
        "\n",
        "import pandas as pd\n",
        "\n",
        "raw_data_path = '/content/drive/MyDrive/DS_TermProject/data/combined_mbti_df.csv'\n",
        "df = pd.read_csv(raw_data_path)"
      ],
      "metadata": {
        "id": "8rCuN45Ur5kJ",
        "colab": {
          "base_uri": "https://localhost:8080/"
        },
        "outputId": "b0845fd5-7065-4675-d603-3fc0ca96cd32"
      },
      "execution_count": 33,
      "outputs": [
        {
          "output_type": "stream",
          "name": "stdout",
          "text": [
            "Drive already mounted at /content/drive; to attempt to forcibly remount, call drive.mount(\"/content/drive\", force_remount=True).\n"
          ]
        }
      ]
    },
    {
      "cell_type": "markdown",
      "source": [
        "Feature Engineering"
      ],
      "metadata": {
        "id": "thkPZL0ur63t"
      }
    },
    {
      "cell_type": "code",
      "source": [
        "# Subset only measures of centers\n",
        "X = df.iloc[: , :22] # 처음 22개 열을 선택해서 저장\n",
        "X = df[audio_qualities] # 오디오 품질과 해당 열이 있는 열을 선택해서 저장\n",
        "\n",
        "\n",
        "categories = renamed_columns[:]\n",
        "X.columns = renamed_columns\n",
        "\n",
        "\n",
        "# 장조/단조의 개수의 합을 계산해서 저장 (C장조, D단조, .. 이렇게 따로 계산되는거 말고, 위에 지정된 list 이용해서 sum값 넣어줌)\n",
        "X['major_count'] = df[major_tones].sum(axis=1).astype('int64')\n",
        "X['minor_count'] = df[minor_tones].sum(axis=1).astype('int64')"
      ],
      "metadata": {
        "id": "pOE8tiZwsEwS",
        "colab": {
          "base_uri": "https://localhost:8080/"
        },
        "outputId": "78632e77-bc0d-4330-f4b1-6d1404eaf79b"
      },
      "execution_count": 34,
      "outputs": [
        {
          "output_type": "stream",
          "name": "stderr",
          "text": [
            "<ipython-input-34-482ca4c8bc7c>:11: SettingWithCopyWarning: \n",
            "A value is trying to be set on a copy of a slice from a DataFrame.\n",
            "Try using .loc[row_indexer,col_indexer] = value instead\n",
            "\n",
            "See the caveats in the documentation: https://pandas.pydata.org/pandas-docs/stable/user_guide/indexing.html#returning-a-view-versus-a-copy\n",
            "  X['major_count'] = df[major_tones].sum(axis=1).astype('int64')\n",
            "<ipython-input-34-482ca4c8bc7c>:12: SettingWithCopyWarning: \n",
            "A value is trying to be set on a copy of a slice from a DataFrame.\n",
            "Try using .loc[row_indexer,col_indexer] = value instead\n",
            "\n",
            "See the caveats in the documentation: https://pandas.pydata.org/pandas-docs/stable/user_guide/indexing.html#returning-a-view-versus-a-copy\n",
            "  X['minor_count'] = df[minor_tones].sum(axis=1).astype('int64')\n"
          ]
        }
      ]
    },
    {
      "cell_type": "markdown",
      "source": [
        "## Encoding & Scaling Function"
      ],
      "metadata": {
        "id": "xQFGTwxasIyF"
      }
    },
    {
      "cell_type": "code",
      "source": [
        "def Encoding(df, encoding_method):\n",
        "    df = df.copy()\n",
        "\n",
        "    if(encoding_method == 'LabelEncoder'):\n",
        "        encoder = LabelEncoder()\n",
        "        target = encoder.fit_transform(df[['mbti']])\n",
        "        \n",
        "\n",
        "    if(encoding_method == 'OneHotEncoder'):\n",
        "        encoder = OneHotEncoder(sparse=False)\n",
        "        target = encoder.fit_transform(df[['mbti']])\n",
        "\n",
        "    return target\n",
        "\n",
        "def Scaling(scale_method, X_train, X_test):\n",
        "    if( scale_method == 'No Scale'):\n",
        "        return X_train, X_test\n",
        "\n",
        "    elif(scale_method == 'StandardScaler'):\n",
        "        scaler = StandardScaler()\n",
        "\n",
        "    elif(scale_method == 'MinMaxScaler'):\n",
        "        scaler = MinMaxScaler()\n",
        "\n",
        "    elif(scale_method == 'RobustScaler'):\n",
        "        scaler = RobustScaler()\n",
        "\n",
        "\n",
        "    X_train_scaled = scaler.fit_transform(X_train)\n",
        "    X_test_scaled = scaler.fit_transform(X_test)\n",
        "\n",
        "    return X_train_scaled, X_test_scaled\n"
      ],
      "metadata": {
        "id": "acXdN4w3rzhr"
      },
      "execution_count": 35,
      "outputs": []
    },
    {
      "cell_type": "code",
      "source": [
        "print(\"Shape of X:\", X.shape)\n",
        "print(\"Shape of y:\", y.shape)\n"
      ],
      "metadata": {
        "colab": {
          "base_uri": "https://localhost:8080/"
        },
        "id": "DL99tRiGsx0m",
        "outputId": "7fde3f30-0f66-44a7-f51e-1f0d06677f2f"
      },
      "execution_count": 37,
      "outputs": [
        {
          "output_type": "stream",
          "name": "stdout",
          "text": [
            "Shape of X: (4081, 9)\n",
            "Shape of y: (65296,)\n"
          ]
        }
      ]
    },
    {
      "cell_type": "code",
      "source": [
        "from sklearn.tree import DecisionTreeClassifier\n",
        "from sklearn.metrics import accuracy_score, confusion_matrix, f1_score, recall_score, precision_score\n",
        "from sklearn.model_selection import train_test_split, GridSearchCV, RandomizedSearchCV\n",
        "from sklearn.model_selection import cross_val_score, KFold\n",
        "import itertools\n",
        "\n",
        "# grid search(hyperparameter)\n",
        "param_grid = {\n",
        "    'max_depth': [None, 5, 10, 15],\n",
        "    'min_samples_split': [2, 5, 10],\n",
        "    'min_samples_leaf': [1, 2, 4],\n",
        "    'criterion': ['gini', 'entropy']\n",
        "}\n",
        "\n",
        "# random search(hyperparameter)\n",
        "param_dist = {\n",
        "    'max_depth': [None, 5, 10, 15],\n",
        "    'min_samples_split': [2, 5, 10],\n",
        "    'min_samples_leaf': [1, 2, 4],\n",
        "    'criterion': ['gini', 'entropy']\n",
        "}\n",
        "\n",
        "# combinations of hyperparameters\n",
        "combinations = list(itertools.product(encoder_list, scaler_list, test_size_list, do_smote))\n",
        "\n",
        "for encoder, scaler, test_size, do_smote in combinations:\n",
        "    print(f\"Encoder: {encoder}, Scaler: {scaler}, Test Size: {test_size}, Smote Phase: {do_smote}\")\n",
        "    wandb.config.update({\n",
        "        'encoder': encoder,\n",
        "        'scaler': scaler,\n",
        "        'test_size': test_size,\n",
        "        'do_smote': do_smote\n",
        "    })\n",
        "\n",
        "    y = Encoding(df=df, encoding_method=encoder).flatten()\n",
        "\n",
        "    X_train, X_test, y_train, y_test = train_test_split(X, y, random_state=5, test_size=test_size)\n",
        "\n",
        "    X_train, X_test = Scaling(scale_method=scaler, X_train=X_train, X_test=X_test)\n",
        "\n",
        "    if do_smote == 'True':\n",
        "        smote = SMOTE(sampling_strategy='auto', random_state=0)\n",
        "        X_train, y_train = smote.fit_resample(X_train, y_train)\n",
        "\n",
        "    print('Train 피처/레이블 데이터 세트:', X_train.shape, y_train.shape)\n",
        "\n",
        "    wandb.log({'Train feature 데이터 세트': X_train.shape})\n",
        "    wandb.log({'Train label 데이터 세트': X_train.shape})\n",
        "\n",
        "    # Decision Tree Model with hyperparameter tuning\n",
        "    dt_model = DecisionTreeClassifier(random_state=42)\n",
        "\n",
        "    # Grid Search\n",
        "    grid_search = GridSearchCV(estimator=dt_model, param_grid=param_grid, cv=5)\n",
        "    grid_search.fit(X_train, y_train)\n",
        "\n",
        "    best_params_grid = grid_search.best_params_\n",
        "    dt_model_grid = DecisionTreeClassifier(random_state=42, **best_params_grid)\n",
        "    dt_model_grid.fit(X_train, y_train)\n",
        "    dt_predictions_grid = dt_model_grid.predict(X_test)\n",
        "    dt_accuracy_grid = accuracy_score(y_test, dt_predictions_grid)\n",
        "    dt_confusion_matrix_grid = confusion_matrix(y_test, dt_predictions_grid, labels=np.unique(y))\n",
        "    dt_f1_score_grid = f1_score(y_test, dt_predictions_grid, average='macro')\n",
        "    dt_recall_grid = recall_score(y_test, dt_predictions_grid, average='macro')\n",
        "    dt_precision_grid = precision_score(y_test, dt_predictions_grid, average='macro')\n",
        "    print(\"Decision Tree Accuracy with Grid Search:\", dt_accuracy_grid)\n",
        "    print(\"Decision Tree Confusion Matrix with Grid Search:\\n\", dt_confusion_matrix_grid)\n",
        "    print(\"Decision Tree F1 Score with Grid Search:\", dt_f1_score_grid)\n",
        "    print(\"Decision Tree Recall with Grid Search:\", dt_recall_grid)\n",
        "    print(\"Decision Tree Precision with Grid Search:\", dt_precision_grid)\n",
        "    wandb.log({'Decision Tree Accuracy with Grid Search': dt_accuracy_grid})\n",
        "    wandb.log({'Decision Tree Confusion Matrix with Grid Search': dt_confusion_matrix_grid.tolist()})\n",
        "    wandb.log({'Decision Tree F1 Score with Grid Search': dt_f1_score_grid})\n",
        "    wandb.log({'Decision Tree Recall with Grid Search': dt_recall_grid})\n",
        "    wandb.log({'Decision Tree Precision with Grid Search': dt_precision_grid})\n",
        "\n",
        "    # Random Search\n",
        "    random_search = RandomizedSearchCV(estimator=dt_model, param_distributions=param_dist, cv=5)\n",
        "    random_search.fit(X_train, y_train)\n",
        "\n",
        "    best_params_random = random_search.best_params_\n",
        "    dt_model_random = DecisionTreeClassifier(random_state=42, **best_params_random)\n",
        "    dt_model_random.fit(X_train, y_train)\n",
        "    dt_predictions_random = dt_model_random.predict(X_test)\n",
        "    dt_accuracy_random = accuracy_score(y_test, dt_predictions_random)\n",
        "    dt_confusion_matrix_random = confusion_matrix(y_test, dt_predictions_random, labels=np.unique(y))\n",
        "    dt_f1_score_random = f1_score(y_test, dt_predictions_random, average='macro')\n",
        "    dt_recall_random = recall_score(y_test, dt_predictions_random, average='macro')\n",
        "    dt_precision_random = precision_score(y_test, dt_predictions_random, average='macro')\n",
        "    print(\"Decision Tree Accuracy with Random Search:\", dt_accuracy_random)\n",
        "    print(\"Decision Tree Confusion Matrix with Random Search:\\n\", dt_confusion_matrix_random)\n",
        "    print(\"Decision Tree F1 Score with Random Search:\", dt_f1_score_random)\n",
        "    print(\"Decision Tree Recall with Random Search:\", dt_recall_random)\n",
        "    print(\"Decision Tree Precision with Random Search:\", dt_precision_random)\n",
        "    wandb.log({'Decision Tree Accuracy with Random Search': dt_accuracy_random})\n",
        "    wandb.log({'Decision Tree Confusion Matrix with Random Search': dt_confusion_matrix_random.tolist()})\n",
        "    wandb.log({'Decision Tree F1 Score with Random Search': dt_f1_score_random})\n",
        "    wandb.log({'Decision Tree Recall with Random Search': dt_recall_random})\n",
        "    wandb.log({'Decision Tree Precision with Random Search': dt_precision_random})\n",
        "\n",
        "    # K-Fold \n",
        "    kf = KFold(n_splits=5, shuffle=True, random_state=42)\n",
        "\n",
        "    dt_model_cv = DecisionTreeClassifier(random_state=42, **best_params_grid)\n",
        "    cv_scores = cross_val_score(dt_model_cv, X_train, y_train, cv=kf, scoring='accuracy')\n",
        "    cv_accuracy = np.mean(cv_scores)\n",
        "    print(\"Decision Tree Accuracy with K-Fold Cross Validation:\", cv_accuracy)\n",
        "    wandb.log({'Decision Tree Accuracy with K-Fold Cross Validation': cv_accuracy})\n"
      ],
      "metadata": {
        "id": "ha4l7Oqbr4fo",
        "colab": {
          "base_uri": "https://localhost:8080/"
        },
        "outputId": "10d612fc-5b41-4bd0-a1ef-005b9c29f789"
      },
      "execution_count": null,
      "outputs": [
        {
          "output_type": "stream",
          "name": "stdout",
          "text": [
            "Encoder: LabelEncoder, Scaler: StandardScaler, Test Size: 0.3, Smote Phase: T\n",
            "Train 피처/레이블 데이터 세트: (2856, 9) (2856,)\n"
          ]
        },
        {
          "output_type": "stream",
          "name": "stderr",
          "text": [
            "/usr/local/lib/python3.10/dist-packages/sklearn/preprocessing/_label.py:116: DataConversionWarning: A column-vector y was passed when a 1d array was expected. Please change the shape of y to (n_samples, ), for example using ravel().\n",
            "  y = column_or_1d(y, warn=True)\n",
            "/usr/local/lib/python3.10/dist-packages/sklearn/metrics/_classification.py:1344: UndefinedMetricWarning: Precision is ill-defined and being set to 0.0 in labels with no predicted samples. Use `zero_division` parameter to control this behavior.\n",
            "  _warn_prf(average, modifier, msg_start, len(result))\n"
          ]
        },
        {
          "output_type": "stream",
          "name": "stdout",
          "text": [
            "Decision Tree Accuracy with Grid Search: 0.1983673469387755\n",
            "Decision Tree Confusion Matrix with Grid Search:\n",
            " [[16 20  3  4  2  2  0  1  2  0  1  2 10 13  0  2]\n",
            " [10 30  2  5  2 12  0  2  2  0  5  2  2  8  0  1]\n",
            " [ 7 18 19 12  0  2  0  3  3  0  5  1  1  7  0  8]\n",
            " [ 8 18  3 39  0  3  0  4  1  0  3  4  0  5  0  6]\n",
            " [ 4 13  0  1  0  0  0  3  2  0  0  1  5  2  0  1]\n",
            " [ 6 16  4  7  4 11  0  7  0  0  4  2  6  1  0  0]\n",
            " [ 2 17  1  5  0  2  0  2  0  0  1  1  7  1  0  2]\n",
            " [ 3 14  9 18  0 13  0  9  0  0  8  2  4  6  0 13]\n",
            " [11  5  0  1  1  2  0  0 15  0  7  6 37 11  0  0]\n",
            " [ 6  8  1  2  3  4  0  0 10  0  6  9 25 13  0  2]\n",
            " [ 5  8  4  5  0  1  0  1  5  0 17 15  6 19  0  8]\n",
            " [10  8  3  1  1  0  0  3  3  0 12 26  9  9  0  5]\n",
            " [ 9  6  0  2  4  1  0  1  3  0  0  7 27  2  0  1]\n",
            " [ 8  9  3  0  0  3  0  0  2  0  7  4 12 20  0  2]\n",
            " [ 7  5  4  1  2  1  0  0  1  0  3 13 14  6  0  2]\n",
            " [ 6 15  7 11  1  1  0  1  2  0  9  5  5  6  0 14]]\n",
            "Decision Tree F1 Score with Grid Search: 0.16181521964893003\n",
            "Decision Tree Recall with Grid Search: 0.18525137502694788\n",
            "Decision Tree Precision with Grid Search: 0.1640723951138303\n"
          ]
        },
        {
          "output_type": "stream",
          "name": "stderr",
          "text": [
            "/usr/local/lib/python3.10/dist-packages/sklearn/metrics/_classification.py:1344: UndefinedMetricWarning: Precision is ill-defined and being set to 0.0 in labels with no predicted samples. Use `zero_division` parameter to control this behavior.\n",
            "  _warn_prf(average, modifier, msg_start, len(result))\n",
            "/usr/local/lib/python3.10/dist-packages/sklearn/preprocessing/_label.py:116: DataConversionWarning: A column-vector y was passed when a 1d array was expected. Please change the shape of y to (n_samples, ), for example using ravel().\n",
            "  y = column_or_1d(y, warn=True)\n"
          ]
        },
        {
          "output_type": "stream",
          "name": "stdout",
          "text": [
            "Decision Tree Accuracy with Random Search: 0.18285714285714286\n",
            "Decision Tree Confusion Matrix with Random Search:\n",
            " [[24  0 13  7  0  1  0  1  9  5  1  2  5  2  0  8]\n",
            " [25  0  8 18  0  8  1  1  5  3  0  2  2  2  1  7]\n",
            " [10  0 22 20  0  8  1  0  4  1  2  0  0  2  1 15]\n",
            " [ 8  0  7 49  0  3  0  1  4  1  2  3  0  2  0 14]\n",
            " [13  0  0  5  0  1  0  2  4  2  0  2  2  0  0  1]\n",
            " [19  0  4 15  0 12  0  3  3  1  0  1  3  2  1  4]\n",
            " [ 8  0  2  9  0  7  0  2  3  1  1  1  3  1  0  3]\n",
            " [17  0  7 26  0 10  2  4  4  2  4  1  2  1  1 18]\n",
            " [11  0  4  1  0  2  0  0 29  7  4  7 28  1  0  2]\n",
            " [13  0  2  4  0  5  1  0 20 13  5  5 16  2  0  3]\n",
            " [ 7  0  9  9  0  1  1  1 21  2  5  9  4  7  3 15]\n",
            " [12  0  4  7  0  2  2  2  7  0  7 23  7  4  1 12]\n",
            " [24  0  1  3  0  0  0  0  8  5  0  4 17  0  0  1]\n",
            " [14  0  5  4  0  3  0  0 11  2  4  1  9  6  1 10]\n",
            " [20  0  3  2  0  2  0  0  5  3  0 10  6  4  1  3]\n",
            " [13  0 13 16  0  3  0  0  2  2  6  4  1  2  2 19]]\n",
            "Decision Tree F1 Score with Random Search: 0.1419192475273517\n",
            "Decision Tree Recall with Random Search: 0.16624847814338461\n",
            "Decision Tree Precision with Random Search: 0.1510343817101439\n",
            "Decision Tree Accuracy with K-Fold Cross Validation: 0.18556574773737647\n",
            "Encoder: LabelEncoder, Scaler: StandardScaler, Test Size: 0.3, Smote Phase: r\n",
            "Train 피처/레이블 데이터 세트: (2856, 9) (2856,)\n"
          ]
        },
        {
          "output_type": "stream",
          "name": "stderr",
          "text": [
            "/usr/local/lib/python3.10/dist-packages/sklearn/metrics/_classification.py:1344: UndefinedMetricWarning: Precision is ill-defined and being set to 0.0 in labels with no predicted samples. Use `zero_division` parameter to control this behavior.\n",
            "  _warn_prf(average, modifier, msg_start, len(result))\n"
          ]
        },
        {
          "output_type": "stream",
          "name": "stdout",
          "text": [
            "Decision Tree Accuracy with Grid Search: 0.1983673469387755\n",
            "Decision Tree Confusion Matrix with Grid Search:\n",
            " [[16 20  3  4  2  2  0  1  2  0  1  2 10 13  0  2]\n",
            " [10 30  2  5  2 12  0  2  2  0  5  2  2  8  0  1]\n",
            " [ 7 18 19 12  0  2  0  3  3  0  5  1  1  7  0  8]\n",
            " [ 8 18  3 39  0  3  0  4  1  0  3  4  0  5  0  6]\n",
            " [ 4 13  0  1  0  0  0  3  2  0  0  1  5  2  0  1]\n",
            " [ 6 16  4  7  4 11  0  7  0  0  4  2  6  1  0  0]\n",
            " [ 2 17  1  5  0  2  0  2  0  0  1  1  7  1  0  2]\n",
            " [ 3 14  9 18  0 13  0  9  0  0  8  2  4  6  0 13]\n",
            " [11  5  0  1  1  2  0  0 15  0  7  6 37 11  0  0]\n",
            " [ 6  8  1  2  3  4  0  0 10  0  6  9 25 13  0  2]\n",
            " [ 5  8  4  5  0  1  0  1  5  0 17 15  6 19  0  8]\n",
            " [10  8  3  1  1  0  0  3  3  0 12 26  9  9  0  5]\n",
            " [ 9  6  0  2  4  1  0  1  3  0  0  7 27  2  0  1]\n",
            " [ 8  9  3  0  0  3  0  0  2  0  7  4 12 20  0  2]\n",
            " [ 7  5  4  1  2  1  0  0  1  0  3 13 14  6  0  2]\n",
            " [ 6 15  7 11  1  1  0  1  2  0  9  5  5  6  0 14]]\n",
            "Decision Tree F1 Score with Grid Search: 0.16181521964893003\n",
            "Decision Tree Recall with Grid Search: 0.18525137502694788\n",
            "Decision Tree Precision with Grid Search: 0.1640723951138303\n"
          ]
        },
        {
          "output_type": "stream",
          "name": "stderr",
          "text": [
            "/usr/local/lib/python3.10/dist-packages/sklearn/metrics/_classification.py:1344: UndefinedMetricWarning: Precision is ill-defined and being set to 0.0 in labels with no predicted samples. Use `zero_division` parameter to control this behavior.\n",
            "  _warn_prf(average, modifier, msg_start, len(result))\n",
            "/usr/local/lib/python3.10/dist-packages/sklearn/preprocessing/_label.py:116: DataConversionWarning: A column-vector y was passed when a 1d array was expected. Please change the shape of y to (n_samples, ), for example using ravel().\n",
            "  y = column_or_1d(y, warn=True)\n"
          ]
        },
        {
          "output_type": "stream",
          "name": "stdout",
          "text": [
            "Decision Tree Accuracy with Random Search: 0.1983673469387755\n",
            "Decision Tree Confusion Matrix with Random Search:\n",
            " [[16 20  3  4  2  2  0  1  2  0  1  2 10 13  0  2]\n",
            " [10 30  2  5  2 12  0  2  2  0  5  2  2  8  0  1]\n",
            " [ 7 18 19 12  0  2  0  3  3  0  5  1  1  7  0  8]\n",
            " [ 8 18  3 39  0  3  0  4  1  0  3  4  0  5  0  6]\n",
            " [ 4 13  0  1  0  0  0  3  2  0  0  1  5  2  0  1]\n",
            " [ 6 16  4  7  4 11  0  7  0  0  4  2  6  1  0  0]\n",
            " [ 2 17  1  5  0  2  0  2  0  0  1  1  7  1  0  2]\n",
            " [ 3 14  9 18  0 13  0  9  0  0  8  2  4  6  0 13]\n",
            " [11  5  0  1  1  2  0  0 15  0  7  6 37 11  0  0]\n",
            " [ 6  8  1  2  3  4  0  0 10  0  6  9 25 13  0  2]\n",
            " [ 5  8  4  5  0  1  0  1  5  0 17 15  6 19  0  8]\n",
            " [10  8  3  1  1  0  0  3  3  0 12 26  9  9  0  5]\n",
            " [ 9  6  0  2  4  1  0  1  3  0  0  7 27  2  0  1]\n",
            " [ 8  9  3  0  0  3  0  0  2  0  7  4 12 20  0  2]\n",
            " [ 7  5  4  1  2  1  0  0  1  0  3 13 14  6  0  2]\n",
            " [ 6 15  7 11  1  1  0  1  2  0  9  5  5  6  0 14]]\n",
            "Decision Tree F1 Score with Random Search: 0.16181521964893003\n",
            "Decision Tree Recall with Random Search: 0.18525137502694788\n",
            "Decision Tree Precision with Random Search: 0.1640723951138303\n",
            "Decision Tree Accuracy with K-Fold Cross Validation: 0.18556574773737647\n",
            "Encoder: LabelEncoder, Scaler: StandardScaler, Test Size: 0.3, Smote Phase: u\n",
            "Train 피처/레이블 데이터 세트: (2856, 9) (2856,)\n"
          ]
        },
        {
          "output_type": "stream",
          "name": "stderr",
          "text": [
            "/usr/local/lib/python3.10/dist-packages/sklearn/metrics/_classification.py:1344: UndefinedMetricWarning: Precision is ill-defined and being set to 0.0 in labels with no predicted samples. Use `zero_division` parameter to control this behavior.\n",
            "  _warn_prf(average, modifier, msg_start, len(result))\n"
          ]
        },
        {
          "output_type": "stream",
          "name": "stdout",
          "text": [
            "Decision Tree Accuracy with Grid Search: 0.1983673469387755\n",
            "Decision Tree Confusion Matrix with Grid Search:\n",
            " [[16 20  3  4  2  2  0  1  2  0  1  2 10 13  0  2]\n",
            " [10 30  2  5  2 12  0  2  2  0  5  2  2  8  0  1]\n",
            " [ 7 18 19 12  0  2  0  3  3  0  5  1  1  7  0  8]\n",
            " [ 8 18  3 39  0  3  0  4  1  0  3  4  0  5  0  6]\n",
            " [ 4 13  0  1  0  0  0  3  2  0  0  1  5  2  0  1]\n",
            " [ 6 16  4  7  4 11  0  7  0  0  4  2  6  1  0  0]\n",
            " [ 2 17  1  5  0  2  0  2  0  0  1  1  7  1  0  2]\n",
            " [ 3 14  9 18  0 13  0  9  0  0  8  2  4  6  0 13]\n",
            " [11  5  0  1  1  2  0  0 15  0  7  6 37 11  0  0]\n",
            " [ 6  8  1  2  3  4  0  0 10  0  6  9 25 13  0  2]\n",
            " [ 5  8  4  5  0  1  0  1  5  0 17 15  6 19  0  8]\n",
            " [10  8  3  1  1  0  0  3  3  0 12 26  9  9  0  5]\n",
            " [ 9  6  0  2  4  1  0  1  3  0  0  7 27  2  0  1]\n",
            " [ 8  9  3  0  0  3  0  0  2  0  7  4 12 20  0  2]\n",
            " [ 7  5  4  1  2  1  0  0  1  0  3 13 14  6  0  2]\n",
            " [ 6 15  7 11  1  1  0  1  2  0  9  5  5  6  0 14]]\n",
            "Decision Tree F1 Score with Grid Search: 0.16181521964893003\n",
            "Decision Tree Recall with Grid Search: 0.18525137502694788\n",
            "Decision Tree Precision with Grid Search: 0.1640723951138303\n"
          ]
        },
        {
          "output_type": "stream",
          "name": "stderr",
          "text": [
            "/usr/local/lib/python3.10/dist-packages/sklearn/metrics/_classification.py:1344: UndefinedMetricWarning: Precision is ill-defined and being set to 0.0 in labels with no predicted samples. Use `zero_division` parameter to control this behavior.\n",
            "  _warn_prf(average, modifier, msg_start, len(result))\n",
            "/usr/local/lib/python3.10/dist-packages/sklearn/preprocessing/_label.py:116: DataConversionWarning: A column-vector y was passed when a 1d array was expected. Please change the shape of y to (n_samples, ), for example using ravel().\n",
            "  y = column_or_1d(y, warn=True)\n"
          ]
        },
        {
          "output_type": "stream",
          "name": "stdout",
          "text": [
            "Decision Tree Accuracy with Random Search: 0.1983673469387755\n",
            "Decision Tree Confusion Matrix with Random Search:\n",
            " [[16 20  3  4  2  2  0  1  2  0  1  2 10 13  0  2]\n",
            " [10 30  2  5  2 12  0  2  2  0  5  2  2  8  0  1]\n",
            " [ 7 18 19 12  0  2  0  3  3  0  5  1  1  7  0  8]\n",
            " [ 8 18  3 39  0  3  0  4  1  0  3  4  0  5  0  6]\n",
            " [ 4 13  0  1  0  0  0  3  2  0  0  1  5  2  0  1]\n",
            " [ 6 16  4  7  4 11  0  7  0  0  4  2  6  1  0  0]\n",
            " [ 2 17  1  5  0  2  0  2  0  0  1  1  7  1  0  2]\n",
            " [ 3 14  9 18  0 13  0  9  0  0  8  2  4  6  0 13]\n",
            " [11  5  0  1  1  2  0  0 15  0  7  6 37 11  0  0]\n",
            " [ 6  8  1  2  3  4  0  0 10  0  6  9 25 13  0  2]\n",
            " [ 5  8  4  5  0  1  0  1  5  0 17 15  6 19  0  8]\n",
            " [10  8  3  1  1  0  0  3  3  0 12 26  9  9  0  5]\n",
            " [ 9  6  0  2  4  1  0  1  3  0  0  7 27  2  0  1]\n",
            " [ 8  9  3  0  0  3  0  0  2  0  7  4 12 20  0  2]\n",
            " [ 7  5  4  1  2  1  0  0  1  0  3 13 14  6  0  2]\n",
            " [ 6 15  7 11  1  1  0  1  2  0  9  5  5  6  0 14]]\n",
            "Decision Tree F1 Score with Random Search: 0.16181521964893003\n",
            "Decision Tree Recall with Random Search: 0.18525137502694788\n",
            "Decision Tree Precision with Random Search: 0.1640723951138303\n",
            "Decision Tree Accuracy with K-Fold Cross Validation: 0.18556574773737647\n",
            "Encoder: LabelEncoder, Scaler: StandardScaler, Test Size: 0.3, Smote Phase: e\n",
            "Train 피처/레이블 데이터 세트: (2856, 9) (2856,)\n"
          ]
        },
        {
          "output_type": "stream",
          "name": "stderr",
          "text": [
            "/usr/local/lib/python3.10/dist-packages/sklearn/metrics/_classification.py:1344: UndefinedMetricWarning: Precision is ill-defined and being set to 0.0 in labels with no predicted samples. Use `zero_division` parameter to control this behavior.\n",
            "  _warn_prf(average, modifier, msg_start, len(result))\n"
          ]
        },
        {
          "output_type": "stream",
          "name": "stdout",
          "text": [
            "Decision Tree Accuracy with Grid Search: 0.1983673469387755\n",
            "Decision Tree Confusion Matrix with Grid Search:\n",
            " [[16 20  3  4  2  2  0  1  2  0  1  2 10 13  0  2]\n",
            " [10 30  2  5  2 12  0  2  2  0  5  2  2  8  0  1]\n",
            " [ 7 18 19 12  0  2  0  3  3  0  5  1  1  7  0  8]\n",
            " [ 8 18  3 39  0  3  0  4  1  0  3  4  0  5  0  6]\n",
            " [ 4 13  0  1  0  0  0  3  2  0  0  1  5  2  0  1]\n",
            " [ 6 16  4  7  4 11  0  7  0  0  4  2  6  1  0  0]\n",
            " [ 2 17  1  5  0  2  0  2  0  0  1  1  7  1  0  2]\n",
            " [ 3 14  9 18  0 13  0  9  0  0  8  2  4  6  0 13]\n",
            " [11  5  0  1  1  2  0  0 15  0  7  6 37 11  0  0]\n",
            " [ 6  8  1  2  3  4  0  0 10  0  6  9 25 13  0  2]\n",
            " [ 5  8  4  5  0  1  0  1  5  0 17 15  6 19  0  8]\n",
            " [10  8  3  1  1  0  0  3  3  0 12 26  9  9  0  5]\n",
            " [ 9  6  0  2  4  1  0  1  3  0  0  7 27  2  0  1]\n",
            " [ 8  9  3  0  0  3  0  0  2  0  7  4 12 20  0  2]\n",
            " [ 7  5  4  1  2  1  0  0  1  0  3 13 14  6  0  2]\n",
            " [ 6 15  7 11  1  1  0  1  2  0  9  5  5  6  0 14]]\n",
            "Decision Tree F1 Score with Grid Search: 0.16181521964893003\n",
            "Decision Tree Recall with Grid Search: 0.18525137502694788\n",
            "Decision Tree Precision with Grid Search: 0.1640723951138303\n"
          ]
        },
        {
          "output_type": "stream",
          "name": "stderr",
          "text": [
            "/usr/local/lib/python3.10/dist-packages/sklearn/metrics/_classification.py:1344: UndefinedMetricWarning: Precision is ill-defined and being set to 0.0 in labels with no predicted samples. Use `zero_division` parameter to control this behavior.\n",
            "  _warn_prf(average, modifier, msg_start, len(result))\n",
            "/usr/local/lib/python3.10/dist-packages/sklearn/preprocessing/_label.py:116: DataConversionWarning: A column-vector y was passed when a 1d array was expected. Please change the shape of y to (n_samples, ), for example using ravel().\n",
            "  y = column_or_1d(y, warn=True)\n"
          ]
        },
        {
          "output_type": "stream",
          "name": "stdout",
          "text": [
            "Decision Tree Accuracy with Random Search: 0.1983673469387755\n",
            "Decision Tree Confusion Matrix with Random Search:\n",
            " [[16 20  3  4  2  2  0  1  2  0  1  2 10 13  0  2]\n",
            " [10 30  2  5  2 12  0  2  2  0  5  2  2  8  0  1]\n",
            " [ 7 18 19 12  0  2  0  3  3  0  5  1  1  7  0  8]\n",
            " [ 8 18  3 39  0  3  0  4  1  0  3  4  0  5  0  6]\n",
            " [ 4 13  0  1  0  0  0  3  2  0  0  1  5  2  0  1]\n",
            " [ 6 16  4  7  4 11  0  7  0  0  4  2  6  1  0  0]\n",
            " [ 2 17  1  5  0  2  0  2  0  0  1  1  7  1  0  2]\n",
            " [ 3 14  9 18  0 13  0  9  0  0  8  2  4  6  0 13]\n",
            " [11  5  0  1  1  2  0  0 15  0  7  6 37 11  0  0]\n",
            " [ 6  8  1  2  3  4  0  0 10  0  6  9 25 13  0  2]\n",
            " [ 5  8  4  5  0  1  0  1  5  0 17 15  6 19  0  8]\n",
            " [10  8  3  1  1  0  0  3  3  0 12 26  9  9  0  5]\n",
            " [ 9  6  0  2  4  1  0  1  3  0  0  7 27  2  0  1]\n",
            " [ 8  9  3  0  0  3  0  0  2  0  7  4 12 20  0  2]\n",
            " [ 7  5  4  1  2  1  0  0  1  0  3 13 14  6  0  2]\n",
            " [ 6 15  7 11  1  1  0  1  2  0  9  5  5  6  0 14]]\n",
            "Decision Tree F1 Score with Random Search: 0.16181521964893003\n",
            "Decision Tree Recall with Random Search: 0.18525137502694788\n",
            "Decision Tree Precision with Random Search: 0.1640723951138303\n",
            "Decision Tree Accuracy with K-Fold Cross Validation: 0.18556574773737647\n",
            "Encoder: LabelEncoder, Scaler: StandardScaler, Test Size: 0.2, Smote Phase: T\n",
            "Train 피처/레이블 데이터 세트: (3264, 9) (3264,)\n"
          ]
        },
        {
          "output_type": "stream",
          "name": "stderr",
          "text": [
            "/usr/local/lib/python3.10/dist-packages/sklearn/metrics/_classification.py:1344: UndefinedMetricWarning: Precision is ill-defined and being set to 0.0 in labels with no predicted samples. Use `zero_division` parameter to control this behavior.\n",
            "  _warn_prf(average, modifier, msg_start, len(result))\n"
          ]
        },
        {
          "output_type": "stream",
          "name": "stdout",
          "text": [
            "Decision Tree Accuracy with Grid Search: 0.193390452876377\n",
            "Decision Tree Confusion Matrix with Grid Search:\n",
            " [[ 7  2  6  3  1  0  0  0  1  4  0  1  5 17  0  0]\n",
            " [ 5 12  6  3  2  5  0  1  0  2  3  1  0 11  0  1]\n",
            " [ 3  4 24  8  0  0  0  1  2  0  6  0  1  5  0  2]\n",
            " [ 4  6 13 20  0  2  0  2  0  0  3  4  0  5  0  3]\n",
            " [ 5  4  1  0  1  0  0  0  0  0  0  0  3  4  0  0]\n",
            " [ 2  7  7  3  4  9  0  3  0  2  2  0  3  6  0  0]\n",
            " [ 1  7  3  3  0  2  0  1  0  4  1  0  2  1  0  2]\n",
            " [ 5  1 13 16  0  7  0  7  0  2  4  2  1  7  0  3]\n",
            " [ 2  3  1  1  1  0  0  0  8 19  4  6  9 11  0  0]\n",
            " [ 7  3  2  2  0  2  0  0  2 15  4  7  4 10  0  0]\n",
            " [ 5  1  8  1  0  1  0  0  4  4  9  9  0 14  0  3]\n",
            " [ 5  4  4  0  2  2  0  1  0  7  9 19  2  8  0  2]\n",
            " [ 5  1  0  2  2  0  0  0  1 18  0  5  4  8  0  2]\n",
            " [ 2  6  4  0  0  2  0  0  1  6  5  2  5 20  0  0]\n",
            " [ 2  2  4  0  0  0  0  0  1  5  1 10  3  9  0  1]\n",
            " [ 4  2 16  8  0  1  0  0  0  1  5  6  1  6  0  3]]\n",
            "Decision Tree F1 Score with Grid Search: 0.1607909474772016\n",
            "Decision Tree Recall with Grid Search: 0.1762935926341425\n",
            "Decision Tree Precision with Grid Search: 0.18403219983198316\n"
          ]
        },
        {
          "output_type": "stream",
          "name": "stderr",
          "text": [
            "/usr/local/lib/python3.10/dist-packages/sklearn/metrics/_classification.py:1344: UndefinedMetricWarning: Precision is ill-defined and being set to 0.0 in labels with no predicted samples. Use `zero_division` parameter to control this behavior.\n",
            "  _warn_prf(average, modifier, msg_start, len(result))\n",
            "/usr/local/lib/python3.10/dist-packages/sklearn/preprocessing/_label.py:116: DataConversionWarning: A column-vector y was passed when a 1d array was expected. Please change the shape of y to (n_samples, ), for example using ravel().\n",
            "  y = column_or_1d(y, warn=True)\n"
          ]
        },
        {
          "output_type": "stream",
          "name": "stdout",
          "text": [
            "Decision Tree Accuracy with Random Search: 0.193390452876377\n",
            "Decision Tree Confusion Matrix with Random Search:\n",
            " [[ 7  2  6  3  1  0  0  0  1  4  0  1  5 17  0  0]\n",
            " [ 5 12  6  3  2  5  0  1  0  2  3  1  0 11  0  1]\n",
            " [ 3  4 24  8  0  0  0  1  2  0  6  0  1  5  0  2]\n",
            " [ 4  6 13 20  0  2  0  2  0  0  3  4  0  5  0  3]\n",
            " [ 5  4  1  0  1  0  0  0  0  0  0  0  3  4  0  0]\n",
            " [ 2  7  7  3  4  9  0  3  0  2  2  0  3  6  0  0]\n",
            " [ 1  7  3  3  0  2  0  1  0  4  1  0  2  1  0  2]\n",
            " [ 5  1 13 16  0  7  0  7  0  2  4  2  1  7  0  3]\n",
            " [ 2  3  1  1  1  0  0  0  8 19  4  6  9 11  0  0]\n",
            " [ 7  3  2  2  0  2  0  0  2 15  4  7  4 10  0  0]\n",
            " [ 5  1  8  1  0  1  0  0  4  4  9  9  0 14  0  3]\n",
            " [ 5  4  4  0  2  2  0  1  0  7  9 19  2  8  0  2]\n",
            " [ 5  1  0  2  2  0  0  0  1 18  0  5  4  8  0  2]\n",
            " [ 2  6  4  0  0  2  0  0  1  6  5  2  5 20  0  0]\n",
            " [ 2  2  4  0  0  0  0  0  1  5  1 10  3  9  0  1]\n",
            " [ 4  2 16  8  0  1  0  0  0  1  5  6  1  6  0  3]]\n",
            "Decision Tree F1 Score with Random Search: 0.1607909474772016\n",
            "Decision Tree Recall with Random Search: 0.1762935926341425\n",
            "Decision Tree Precision with Random Search: 0.18403219983198316\n",
            "Decision Tree Accuracy with K-Fold Cross Validation: 0.19362686609231577\n",
            "Encoder: LabelEncoder, Scaler: StandardScaler, Test Size: 0.2, Smote Phase: r\n",
            "Train 피처/레이블 데이터 세트: (3264, 9) (3264,)\n"
          ]
        },
        {
          "output_type": "stream",
          "name": "stderr",
          "text": [
            "/usr/local/lib/python3.10/dist-packages/sklearn/metrics/_classification.py:1344: UndefinedMetricWarning: Precision is ill-defined and being set to 0.0 in labels with no predicted samples. Use `zero_division` parameter to control this behavior.\n",
            "  _warn_prf(average, modifier, msg_start, len(result))\n"
          ]
        },
        {
          "output_type": "stream",
          "name": "stdout",
          "text": [
            "Decision Tree Accuracy with Grid Search: 0.193390452876377\n",
            "Decision Tree Confusion Matrix with Grid Search:\n",
            " [[ 7  2  6  3  1  0  0  0  1  4  0  1  5 17  0  0]\n",
            " [ 5 12  6  3  2  5  0  1  0  2  3  1  0 11  0  1]\n",
            " [ 3  4 24  8  0  0  0  1  2  0  6  0  1  5  0  2]\n",
            " [ 4  6 13 20  0  2  0  2  0  0  3  4  0  5  0  3]\n",
            " [ 5  4  1  0  1  0  0  0  0  0  0  0  3  4  0  0]\n",
            " [ 2  7  7  3  4  9  0  3  0  2  2  0  3  6  0  0]\n",
            " [ 1  7  3  3  0  2  0  1  0  4  1  0  2  1  0  2]\n",
            " [ 5  1 13 16  0  7  0  7  0  2  4  2  1  7  0  3]\n",
            " [ 2  3  1  1  1  0  0  0  8 19  4  6  9 11  0  0]\n",
            " [ 7  3  2  2  0  2  0  0  2 15  4  7  4 10  0  0]\n",
            " [ 5  1  8  1  0  1  0  0  4  4  9  9  0 14  0  3]\n",
            " [ 5  4  4  0  2  2  0  1  0  7  9 19  2  8  0  2]\n",
            " [ 5  1  0  2  2  0  0  0  1 18  0  5  4  8  0  2]\n",
            " [ 2  6  4  0  0  2  0  0  1  6  5  2  5 20  0  0]\n",
            " [ 2  2  4  0  0  0  0  0  1  5  1 10  3  9  0  1]\n",
            " [ 4  2 16  8  0  1  0  0  0  1  5  6  1  6  0  3]]\n",
            "Decision Tree F1 Score with Grid Search: 0.1607909474772016\n",
            "Decision Tree Recall with Grid Search: 0.1762935926341425\n",
            "Decision Tree Precision with Grid Search: 0.18403219983198316\n"
          ]
        },
        {
          "output_type": "stream",
          "name": "stderr",
          "text": [
            "/usr/local/lib/python3.10/dist-packages/sklearn/metrics/_classification.py:1344: UndefinedMetricWarning: Precision is ill-defined and being set to 0.0 in labels with no predicted samples. Use `zero_division` parameter to control this behavior.\n",
            "  _warn_prf(average, modifier, msg_start, len(result))\n",
            "/usr/local/lib/python3.10/dist-packages/sklearn/preprocessing/_label.py:116: DataConversionWarning: A column-vector y was passed when a 1d array was expected. Please change the shape of y to (n_samples, ), for example using ravel().\n",
            "  y = column_or_1d(y, warn=True)\n"
          ]
        },
        {
          "output_type": "stream",
          "name": "stdout",
          "text": [
            "Decision Tree Accuracy with Random Search: 0.193390452876377\n",
            "Decision Tree Confusion Matrix with Random Search:\n",
            " [[ 7  2  6  3  1  0  0  0  1  4  0  1  5 17  0  0]\n",
            " [ 5 12  6  3  2  5  0  1  0  2  3  1  0 11  0  1]\n",
            " [ 3  4 24  8  0  0  0  1  2  0  6  0  1  5  0  2]\n",
            " [ 4  6 13 20  0  2  0  2  0  0  3  4  0  5  0  3]\n",
            " [ 5  4  1  0  1  0  0  0  0  0  0  0  3  4  0  0]\n",
            " [ 2  7  7  3  4  9  0  3  0  2  2  0  3  6  0  0]\n",
            " [ 1  7  3  3  0  2  0  1  0  4  1  0  2  1  0  2]\n",
            " [ 5  1 13 16  0  7  0  7  0  2  4  2  1  7  0  3]\n",
            " [ 2  3  1  1  1  0  0  0  8 19  4  6  9 11  0  0]\n",
            " [ 7  3  2  2  0  2  0  0  2 15  4  7  4 10  0  0]\n",
            " [ 5  1  8  1  0  1  0  0  4  4  9  9  0 14  0  3]\n",
            " [ 5  4  4  0  2  2  0  1  0  7  9 19  2  8  0  2]\n",
            " [ 5  1  0  2  2  0  0  0  1 18  0  5  4  8  0  2]\n",
            " [ 2  6  4  0  0  2  0  0  1  6  5  2  5 20  0  0]\n",
            " [ 2  2  4  0  0  0  0  0  1  5  1 10  3  9  0  1]\n",
            " [ 4  2 16  8  0  1  0  0  0  1  5  6  1  6  0  3]]\n",
            "Decision Tree F1 Score with Random Search: 0.1607909474772016\n",
            "Decision Tree Recall with Random Search: 0.1762935926341425\n",
            "Decision Tree Precision with Random Search: 0.18403219983198316\n",
            "Decision Tree Accuracy with K-Fold Cross Validation: 0.19362686609231577\n",
            "Encoder: LabelEncoder, Scaler: StandardScaler, Test Size: 0.2, Smote Phase: u\n",
            "Train 피처/레이블 데이터 세트: (3264, 9) (3264,)\n"
          ]
        },
        {
          "output_type": "stream",
          "name": "stderr",
          "text": [
            "/usr/local/lib/python3.10/dist-packages/sklearn/metrics/_classification.py:1344: UndefinedMetricWarning: Precision is ill-defined and being set to 0.0 in labels with no predicted samples. Use `zero_division` parameter to control this behavior.\n",
            "  _warn_prf(average, modifier, msg_start, len(result))\n"
          ]
        },
        {
          "output_type": "stream",
          "name": "stdout",
          "text": [
            "Decision Tree Accuracy with Grid Search: 0.193390452876377\n",
            "Decision Tree Confusion Matrix with Grid Search:\n",
            " [[ 7  2  6  3  1  0  0  0  1  4  0  1  5 17  0  0]\n",
            " [ 5 12  6  3  2  5  0  1  0  2  3  1  0 11  0  1]\n",
            " [ 3  4 24  8  0  0  0  1  2  0  6  0  1  5  0  2]\n",
            " [ 4  6 13 20  0  2  0  2  0  0  3  4  0  5  0  3]\n",
            " [ 5  4  1  0  1  0  0  0  0  0  0  0  3  4  0  0]\n",
            " [ 2  7  7  3  4  9  0  3  0  2  2  0  3  6  0  0]\n",
            " [ 1  7  3  3  0  2  0  1  0  4  1  0  2  1  0  2]\n",
            " [ 5  1 13 16  0  7  0  7  0  2  4  2  1  7  0  3]\n",
            " [ 2  3  1  1  1  0  0  0  8 19  4  6  9 11  0  0]\n",
            " [ 7  3  2  2  0  2  0  0  2 15  4  7  4 10  0  0]\n",
            " [ 5  1  8  1  0  1  0  0  4  4  9  9  0 14  0  3]\n",
            " [ 5  4  4  0  2  2  0  1  0  7  9 19  2  8  0  2]\n",
            " [ 5  1  0  2  2  0  0  0  1 18  0  5  4  8  0  2]\n",
            " [ 2  6  4  0  0  2  0  0  1  6  5  2  5 20  0  0]\n",
            " [ 2  2  4  0  0  0  0  0  1  5  1 10  3  9  0  1]\n",
            " [ 4  2 16  8  0  1  0  0  0  1  5  6  1  6  0  3]]\n",
            "Decision Tree F1 Score with Grid Search: 0.1607909474772016\n",
            "Decision Tree Recall with Grid Search: 0.1762935926341425\n",
            "Decision Tree Precision with Grid Search: 0.18403219983198316\n"
          ]
        },
        {
          "output_type": "stream",
          "name": "stderr",
          "text": [
            "/usr/local/lib/python3.10/dist-packages/sklearn/metrics/_classification.py:1344: UndefinedMetricWarning: Precision is ill-defined and being set to 0.0 in labels with no predicted samples. Use `zero_division` parameter to control this behavior.\n",
            "  _warn_prf(average, modifier, msg_start, len(result))\n",
            "/usr/local/lib/python3.10/dist-packages/sklearn/preprocessing/_label.py:116: DataConversionWarning: A column-vector y was passed when a 1d array was expected. Please change the shape of y to (n_samples, ), for example using ravel().\n",
            "  y = column_or_1d(y, warn=True)\n"
          ]
        },
        {
          "output_type": "stream",
          "name": "stdout",
          "text": [
            "Decision Tree Accuracy with Random Search: 0.193390452876377\n",
            "Decision Tree Confusion Matrix with Random Search:\n",
            " [[ 7  2  6  3  1  0  0  0  1  4  0  1  5 17  0  0]\n",
            " [ 5 12  6  3  2  5  0  1  0  2  3  1  0 11  0  1]\n",
            " [ 3  4 24  8  0  0  0  1  2  0  6  0  1  5  0  2]\n",
            " [ 4  6 13 20  0  2  0  2  0  0  3  4  0  5  0  3]\n",
            " [ 5  4  1  0  1  0  0  0  0  0  0  0  3  4  0  0]\n",
            " [ 2  7  7  3  4  9  0  3  0  2  2  0  3  6  0  0]\n",
            " [ 1  7  3  3  0  2  0  1  0  4  1  0  2  1  0  2]\n",
            " [ 5  1 13 16  0  7  0  7  0  2  4  2  1  7  0  3]\n",
            " [ 2  3  1  1  1  0  0  0  8 19  4  6  9 11  0  0]\n",
            " [ 7  3  2  2  0  2  0  0  2 15  4  7  4 10  0  0]\n",
            " [ 5  1  8  1  0  1  0  0  4  4  9  9  0 14  0  3]\n",
            " [ 5  4  4  0  2  2  0  1  0  7  9 19  2  8  0  2]\n",
            " [ 5  1  0  2  2  0  0  0  1 18  0  5  4  8  0  2]\n",
            " [ 2  6  4  0  0  2  0  0  1  6  5  2  5 20  0  0]\n",
            " [ 2  2  4  0  0  0  0  0  1  5  1 10  3  9  0  1]\n",
            " [ 4  2 16  8  0  1  0  0  0  1  5  6  1  6  0  3]]\n",
            "Decision Tree F1 Score with Random Search: 0.1607909474772016\n",
            "Decision Tree Recall with Random Search: 0.1762935926341425\n",
            "Decision Tree Precision with Random Search: 0.18403219983198316\n",
            "Decision Tree Accuracy with K-Fold Cross Validation: 0.19362686609231577\n",
            "Encoder: LabelEncoder, Scaler: StandardScaler, Test Size: 0.2, Smote Phase: e\n",
            "Train 피처/레이블 데이터 세트: (3264, 9) (3264,)\n"
          ]
        },
        {
          "output_type": "stream",
          "name": "stderr",
          "text": [
            "/usr/local/lib/python3.10/dist-packages/sklearn/metrics/_classification.py:1344: UndefinedMetricWarning: Precision is ill-defined and being set to 0.0 in labels with no predicted samples. Use `zero_division` parameter to control this behavior.\n",
            "  _warn_prf(average, modifier, msg_start, len(result))\n"
          ]
        },
        {
          "output_type": "stream",
          "name": "stdout",
          "text": [
            "Decision Tree Accuracy with Grid Search: 0.193390452876377\n",
            "Decision Tree Confusion Matrix with Grid Search:\n",
            " [[ 7  2  6  3  1  0  0  0  1  4  0  1  5 17  0  0]\n",
            " [ 5 12  6  3  2  5  0  1  0  2  3  1  0 11  0  1]\n",
            " [ 3  4 24  8  0  0  0  1  2  0  6  0  1  5  0  2]\n",
            " [ 4  6 13 20  0  2  0  2  0  0  3  4  0  5  0  3]\n",
            " [ 5  4  1  0  1  0  0  0  0  0  0  0  3  4  0  0]\n",
            " [ 2  7  7  3  4  9  0  3  0  2  2  0  3  6  0  0]\n",
            " [ 1  7  3  3  0  2  0  1  0  4  1  0  2  1  0  2]\n",
            " [ 5  1 13 16  0  7  0  7  0  2  4  2  1  7  0  3]\n",
            " [ 2  3  1  1  1  0  0  0  8 19  4  6  9 11  0  0]\n",
            " [ 7  3  2  2  0  2  0  0  2 15  4  7  4 10  0  0]\n",
            " [ 5  1  8  1  0  1  0  0  4  4  9  9  0 14  0  3]\n",
            " [ 5  4  4  0  2  2  0  1  0  7  9 19  2  8  0  2]\n",
            " [ 5  1  0  2  2  0  0  0  1 18  0  5  4  8  0  2]\n",
            " [ 2  6  4  0  0  2  0  0  1  6  5  2  5 20  0  0]\n",
            " [ 2  2  4  0  0  0  0  0  1  5  1 10  3  9  0  1]\n",
            " [ 4  2 16  8  0  1  0  0  0  1  5  6  1  6  0  3]]\n",
            "Decision Tree F1 Score with Grid Search: 0.1607909474772016\n",
            "Decision Tree Recall with Grid Search: 0.1762935926341425\n",
            "Decision Tree Precision with Grid Search: 0.18403219983198316\n"
          ]
        },
        {
          "output_type": "stream",
          "name": "stderr",
          "text": [
            "/usr/local/lib/python3.10/dist-packages/sklearn/metrics/_classification.py:1344: UndefinedMetricWarning: Precision is ill-defined and being set to 0.0 in labels with no predicted samples. Use `zero_division` parameter to control this behavior.\n",
            "  _warn_prf(average, modifier, msg_start, len(result))\n",
            "/usr/local/lib/python3.10/dist-packages/sklearn/preprocessing/_label.py:116: DataConversionWarning: A column-vector y was passed when a 1d array was expected. Please change the shape of y to (n_samples, ), for example using ravel().\n",
            "  y = column_or_1d(y, warn=True)\n"
          ]
        },
        {
          "output_type": "stream",
          "name": "stdout",
          "text": [
            "Decision Tree Accuracy with Random Search: 0.193390452876377\n",
            "Decision Tree Confusion Matrix with Random Search:\n",
            " [[ 7  2  6  3  1  0  0  0  1  4  0  1  5 17  0  0]\n",
            " [ 5 12  6  3  2  5  0  1  0  2  3  1  0 11  0  1]\n",
            " [ 3  4 24  8  0  0  0  1  2  0  6  0  1  5  0  2]\n",
            " [ 4  6 13 20  0  2  0  2  0  0  3  4  0  5  0  3]\n",
            " [ 5  4  1  0  1  0  0  0  0  0  0  0  3  4  0  0]\n",
            " [ 2  7  7  3  4  9  0  3  0  2  2  0  3  6  0  0]\n",
            " [ 1  7  3  3  0  2  0  1  0  4  1  0  2  1  0  2]\n",
            " [ 5  1 13 16  0  7  0  7  0  2  4  2  1  7  0  3]\n",
            " [ 2  3  1  1  1  0  0  0  8 19  4  6  9 11  0  0]\n",
            " [ 7  3  2  2  0  2  0  0  2 15  4  7  4 10  0  0]\n",
            " [ 5  1  8  1  0  1  0  0  4  4  9  9  0 14  0  3]\n",
            " [ 5  4  4  0  2  2  0  1  0  7  9 19  2  8  0  2]\n",
            " [ 5  1  0  2  2  0  0  0  1 18  0  5  4  8  0  2]\n",
            " [ 2  6  4  0  0  2  0  0  1  6  5  2  5 20  0  0]\n",
            " [ 2  2  4  0  0  0  0  0  1  5  1 10  3  9  0  1]\n",
            " [ 4  2 16  8  0  1  0  0  0  1  5  6  1  6  0  3]]\n",
            "Decision Tree F1 Score with Random Search: 0.1607909474772016\n",
            "Decision Tree Recall with Random Search: 0.1762935926341425\n",
            "Decision Tree Precision with Random Search: 0.18403219983198316\n",
            "Decision Tree Accuracy with K-Fold Cross Validation: 0.19362686609231577\n",
            "Encoder: LabelEncoder, Scaler: StandardScaler, Test Size: 0.1, Smote Phase: T\n",
            "Train 피처/레이블 데이터 세트: (3672, 9) (3672,)\n"
          ]
        },
        {
          "output_type": "stream",
          "name": "stderr",
          "text": [
            "/usr/local/lib/python3.10/dist-packages/sklearn/metrics/_classification.py:1344: UndefinedMetricWarning: Precision is ill-defined and being set to 0.0 in labels with no predicted samples. Use `zero_division` parameter to control this behavior.\n",
            "  _warn_prf(average, modifier, msg_start, len(result))\n"
          ]
        },
        {
          "output_type": "stream",
          "name": "stdout",
          "text": [
            "Decision Tree Accuracy with Grid Search: 0.2078239608801956\n",
            "Decision Tree Confusion Matrix with Grid Search:\n",
            " [[ 3  5  2  0  0  0  0  0  1  0  1  0  3  2  0  1]\n",
            " [ 1  8  3  0  0  4  0  1  0  1  1  0  1  1  0  1]\n",
            " [ 1  4  7  6  0  0  0  2  1  0  2  2  0  2  0  2]\n",
            " [ 0  1  4  8  0  2  0  2  0  0  2  2  0  1  0  2]\n",
            " [ 2  5  1  0  0  0  0  0  0  0  0  0  2  1  0  0]\n",
            " [ 1 11  3  2  0  3  0  2  0  0  2  0  1  0  0  1]\n",
            " [ 1  4  4  1  0  0  0  1  0  0  0  1  1  0  0  2]\n",
            " [ 1  4  5 10  0  4  0  3  0  0  1  0  0  1  0  6]\n",
            " [ 0  3  1  0  0  0  0  0  4  0  4  2 14  0  0  1]\n",
            " [ 1  4  0  2  0  2  0  0  1  0  3  1 13  2  0  0]\n",
            " [ 0  1  2  1  0  0  0  0  2  1  7  3  0  6  0  4]\n",
            " [ 3  5  2  0  0  2  0  0  2  1  2 14  4  1  0  4]\n",
            " [ 2  6  0  1  0  0  0  0  1  0  1  4 13  0  0  1]\n",
            " [ 0  9  0  0  0  1  0  0  2  1  4  2  6  8  0  0]\n",
            " [ 0  4  1  0  0  0  0  0  0  0  1  6  5  3  0  0]\n",
            " [ 0  3  2  3  0  0  0  0  0  0  2  3  1  1  0  7]]\n",
            "Decision Tree F1 Score with Grid Search: 0.16619637267082296\n",
            "Decision Tree Recall with Grid Search: 0.191386674468571\n",
            "Decision Tree Precision with Grid Search: 0.16880286980795664\n"
          ]
        },
        {
          "output_type": "stream",
          "name": "stderr",
          "text": [
            "/usr/local/lib/python3.10/dist-packages/sklearn/metrics/_classification.py:1344: UndefinedMetricWarning: Precision is ill-defined and being set to 0.0 in labels with no predicted samples. Use `zero_division` parameter to control this behavior.\n",
            "  _warn_prf(average, modifier, msg_start, len(result))\n",
            "/usr/local/lib/python3.10/dist-packages/sklearn/preprocessing/_label.py:116: DataConversionWarning: A column-vector y was passed when a 1d array was expected. Please change the shape of y to (n_samples, ), for example using ravel().\n",
            "  y = column_or_1d(y, warn=True)\n"
          ]
        },
        {
          "output_type": "stream",
          "name": "stdout",
          "text": [
            "Decision Tree Accuracy with Random Search: 0.2078239608801956\n",
            "Decision Tree Confusion Matrix with Random Search:\n",
            " [[ 3  5  2  0  0  0  0  0  1  0  1  0  3  2  0  1]\n",
            " [ 1  8  3  0  0  4  0  1  0  1  1  0  1  1  0  1]\n",
            " [ 1  4  7  6  0  0  0  2  1  0  2  2  0  2  0  2]\n",
            " [ 0  1  4  8  0  2  0  2  0  0  2  2  0  1  0  2]\n",
            " [ 2  5  1  0  0  0  0  0  0  0  0  0  2  1  0  0]\n",
            " [ 1 11  3  2  0  3  0  2  0  0  2  0  1  0  0  1]\n",
            " [ 1  4  4  1  0  0  0  1  0  0  0  1  1  0  0  2]\n",
            " [ 1  4  5 10  0  4  0  3  0  0  1  0  0  1  0  6]\n",
            " [ 0  3  1  0  0  0  0  0  4  0  4  2 14  0  0  1]\n",
            " [ 1  4  0  2  0  2  0  0  1  0  3  1 13  2  0  0]\n",
            " [ 0  1  2  1  0  0  0  0  2  1  7  3  0  6  0  4]\n",
            " [ 3  5  2  0  0  2  0  0  2  1  2 14  4  1  0  4]\n",
            " [ 2  6  0  1  0  0  0  0  1  0  1  4 13  0  0  1]\n",
            " [ 0  9  0  0  0  1  0  0  2  1  4  2  6  8  0  0]\n",
            " [ 0  4  1  0  0  0  0  0  0  0  1  6  5  3  0  0]\n",
            " [ 0  3  2  3  0  0  0  0  0  0  2  3  1  1  0  7]]\n",
            "Decision Tree F1 Score with Random Search: 0.16619637267082296\n",
            "Decision Tree Recall with Random Search: 0.191386674468571\n",
            "Decision Tree Precision with Random Search: 0.16880286980795664\n",
            "Decision Tree Accuracy with K-Fold Cross Validation: 0.20234072920721421\n",
            "Encoder: LabelEncoder, Scaler: StandardScaler, Test Size: 0.1, Smote Phase: r\n",
            "Train 피처/레이블 데이터 세트: (3672, 9) (3672,)\n"
          ]
        }
      ]
    },
    {
      "cell_type": "code",
      "source": [
        "wandb.finish()"
      ],
      "metadata": {
        "id": "D3GKXG9Pyqk9"
      },
      "execution_count": null,
      "outputs": []
    }
  ]
}