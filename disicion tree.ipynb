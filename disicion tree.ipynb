{
  "cells": [
    {
      "cell_type": "markdown",
      "metadata": {
        "id": "view-in-github",
        "colab_type": "text"
      },
      "source": [
        "<a href=\"https://colab.research.google.com/github/darkmochalover/DS_TermProject_AL2/blob/main/disicion%20tree.ipynb\" target=\"_parent\"><img src=\"https://colab.research.google.com/assets/colab-badge.svg\" alt=\"Open In Colab\"/></a>"
      ]
    },
    {
      "cell_type": "markdown",
      "metadata": {
        "id": "wzOh70v4rFn7"
      },
      "source": [
        "Dictionary"
      ]
    },
    {
      "cell_type": "code",
      "execution_count": 125,
      "metadata": {
        "id": "VweWag3WrIrd"
      },
      "outputs": [],
      "source": [
        "# Data Path\n",
        "raw_data_path = \"/content/drive/MyDrive/DS_TermProject/data/combined_mbti_df.csv\"\n",
        "# data_path = \"data/preprocessed_mbti_data.csv\"\n",
        "\n",
        "\n",
        "audio_qualities = [\n",
        "    'danceability_mean',\n",
        "    'valence_mean',\n",
        "    'energy_mean',\n",
        "    'loudness_mean',\n",
        "    'acousticness_mean',\n",
        "    'instrumentalness_mean',\n",
        "    'liveness_mean',\n",
        "]\n",
        "\n",
        "# 장조/단조 (Major/Minor)\n",
        "all_tones = [\n",
        "    'Cminor_count', 'CMajor_count', 'C#/Dbminor_count', 'C#/DbMajor_count',\n",
        "    'DMajor_count', 'D#_EbMajor_count', 'Eminor_count', 'EMajor_count',\n",
        "    'Fminor_count', 'FMajor_count', 'F#/Gbminor_count', 'GMajor_count',\n",
        "    'G#/Abminor_count', 'G#/AbMajor_count', 'Aminor_count', 'AMajor_count',\n",
        "    'A#/Bbminor_count', 'BMajor_count', 'Dminor_count', 'D#_Ebminor_count',\n",
        "    'Gminor_count', 'A#/BbMajor_count', 'F#/GbMajor_count', 'Bminor_count'\n",
        "]\n",
        "\n",
        "major_tones = [\n",
        "    'CMajor_count', 'C#/DbMajor_count',\n",
        "    'DMajor_count', 'D#_EbMajor_count', \n",
        "    'EMajor_count',\n",
        "    'FMajor_count', \n",
        "    'GMajor_count', 'G#/AbMajor_count', \n",
        "    'AMajor_count', 'BMajor_count', 'A#/BbMajor_count', \n",
        "    'F#/GbMajor_count'\n",
        "]\n",
        "minor_tones = [\n",
        "    'Cminor_count', 'C#/Dbminor_count', \n",
        "    'Eminor_count', \n",
        "    'Fminor_count', 'F#/Gbminor_count', \n",
        "    'G#/Abminor_count',  \n",
        "    'Aminor_count', 'A#/Bbminor_count', \n",
        "    'Dminor_count', 'D#_Ebminor_count',\n",
        "    'Gminor_count', \n",
        "    'Bminor_count'\n",
        "]\n",
        "\n",
        "\n",
        "# 열 이름을 바꾸기 위해 리스트로 저장함\n",
        "renamed_columns =  [\n",
        "    'danceability',\n",
        "    'valence',\n",
        "    'energy',\n",
        "    'loudness',\n",
        "    'acousticness',\n",
        "    'instrumentalness',\n",
        "    'liveness'\n",
        "]\n"
      ]
    },
    {
      "cell_type": "markdown",
      "metadata": {
        "id": "cu1JoFEDqIhm"
      },
      "source": [
        "Install WandB"
      ]
    },
    {
      "cell_type": "code",
      "execution_count": 126,
      "metadata": {
        "id": "_MaTXzH4q4LN"
      },
      "outputs": [],
      "source": [
        "!pip install -qU wandb"
      ]
    },
    {
      "cell_type": "code",
      "execution_count": 127,
      "metadata": {
        "id": "_Jm56g6Ep9Rg"
      },
      "outputs": [],
      "source": [
        "import pandas as pd\n",
        "import numpy as np\n",
        "import matplotlib.pyplot as plt\n",
        "from sklearn.model_selection import train_test_split\n",
        "\n",
        "from sklearn.preprocessing import OneHotEncoder, LabelEncoder\n",
        "from sklearn.preprocessing import StandardScaler, RobustScaler, MinMaxScaler\n",
        "from imblearn.over_sampling import SMOTE\n",
        "\n",
        "import itertools\n",
        "\n",
        "import wandb\n",
        "import random"
      ]
    },
    {
      "cell_type": "markdown",
      "metadata": {
        "id": "HEXBn0GGqLDm"
      },
      "source": [
        "Step 1: Import W&B and Login"
      ]
    },
    {
      "cell_type": "code",
      "execution_count": 128,
      "metadata": {
        "id": "NSHvaPp4q0IH"
      },
      "outputs": [],
      "source": [
        "import wandb\n",
        "from wandb.keras import WandbMetricsLogger, WandbModelCheckpoint, WandbEvalCallback"
      ]
    },
    {
      "cell_type": "code",
      "execution_count": 129,
      "metadata": {
        "id": "smB98NV7qFna"
      },
      "outputs": [],
      "source": [
        "encoder_list = ['LabelEncoder']\n",
        "scaler_list = ['StandardScaler', 'MinMaxScaler', 'RobustScaler', 'No Scale']\n",
        "test_size_list = [0.3, 0.2, 0.1]\n",
        "do_smote = ['True', 'False']"
      ]
    },
    {
      "cell_type": "code",
      "execution_count": 130,
      "metadata": {
        "colab": {
          "base_uri": "https://localhost:8080/",
          "height": 166,
          "referenced_widgets": [
            "966f9714464a4ad0be71f8bf3a6dfedd",
            "35a6d181eaa04c62a98567b9bfd5072f",
            "f7d1839fb0194542b3b621853d21c436",
            "ac65efd5d28e4427bb6fab823d0801ce",
            "eb8fa2418f8e4747991d9cf24d5986a3",
            "c02a387675334181857a0441b7817107",
            "404b884eb63b43fd8158b67f670ba9d7",
            "f20b3e1924dc4daeb994b878386e4616"
          ]
        },
        "id": "FUSOY6haqQh2",
        "outputId": "985299ea-0ac8-4752-f446-86b2c4fd7960"
      },
      "outputs": [
        {
          "output_type": "display_data",
          "data": {
            "text/plain": [
              "VBox(children=(Label(value='Waiting for wandb.init()...\\r'), FloatProgress(value=0.01666874431666656, max=1.0)…"
            ],
            "application/vnd.jupyter.widget-view+json": {
              "version_major": 2,
              "version_minor": 0,
              "model_id": "966f9714464a4ad0be71f8bf3a6dfedd"
            }
          },
          "metadata": {}
        },
        {
          "output_type": "display_data",
          "data": {
            "text/plain": [
              "<IPython.core.display.HTML object>"
            ],
            "text/html": [
              "Tracking run with wandb version 0.15.3"
            ]
          },
          "metadata": {}
        },
        {
          "output_type": "display_data",
          "data": {
            "text/plain": [
              "<IPython.core.display.HTML object>"
            ],
            "text/html": [
              "Run data is saved locally in <code>/content/wandb/run-20230603_231128-djtj6gob</code>"
            ]
          },
          "metadata": {}
        },
        {
          "output_type": "display_data",
          "data": {
            "text/plain": [
              "<IPython.core.display.HTML object>"
            ],
            "text/html": [
              "Syncing run <strong><a href='https://wandb.ai/ds_2023_spring/MBTI_playlist/runs/djtj6gob' target=\"_blank\">helpful-durian-13</a></strong> to <a href='https://wandb.ai/ds_2023_spring/MBTI_playlist' target=\"_blank\">Weights & Biases</a> (<a href='https://wandb.me/run' target=\"_blank\">docs</a>)<br/>"
            ]
          },
          "metadata": {}
        },
        {
          "output_type": "display_data",
          "data": {
            "text/plain": [
              "<IPython.core.display.HTML object>"
            ],
            "text/html": [
              " View project at <a href='https://wandb.ai/ds_2023_spring/MBTI_playlist' target=\"_blank\">https://wandb.ai/ds_2023_spring/MBTI_playlist</a>"
            ]
          },
          "metadata": {}
        },
        {
          "output_type": "display_data",
          "data": {
            "text/plain": [
              "<IPython.core.display.HTML object>"
            ],
            "text/html": [
              " View run at <a href='https://wandb.ai/ds_2023_spring/MBTI_playlist/runs/djtj6gob' target=\"_blank\">https://wandb.ai/ds_2023_spring/MBTI_playlist/runs/djtj6gob</a>"
            ]
          },
          "metadata": {}
        }
      ],
      "source": [
        "config = {\n",
        "        'encoder' : 'LabelEncoder',\n",
        "        'scaler' : 'StandardScaler',\n",
        "        'test_size' : 0.3,\n",
        "        \"do_smote\" : True\n",
        "    }\n",
        "\n",
        "# start a new wandb run to track this script\n",
        "wandb.init(\n",
        "    # set the wandb project where this run will be logged\n",
        "    project=\"MBTI_playlist\",\n",
        "    \n",
        "    # track hyperparameters and run metadata\n",
        "    config = config\n",
        ")\n",
        "\n",
        "config=wandb.config\n"
      ]
    },
    {
      "cell_type": "markdown",
      "metadata": {
        "id": "XUas7Lziryfh"
      },
      "source": [
        "Data Loading"
      ]
    },
    {
      "cell_type": "code",
      "execution_count": 131,
      "metadata": {
        "colab": {
          "base_uri": "https://localhost:8080/"
        },
        "id": "8rCuN45Ur5kJ",
        "outputId": "9ec8a267-318a-45bc-d0ce-a94b053da182"
      },
      "outputs": [
        {
          "output_type": "stream",
          "name": "stdout",
          "text": [
            "Drive already mounted at /content/drive; to attempt to forcibly remount, call drive.mount(\"/content/drive\", force_remount=True).\n"
          ]
        }
      ],
      "source": [
        "from google.colab import drive\n",
        "drive.mount('/content/drive')\n",
        "\n",
        "import pandas as pd\n",
        "\n",
        "raw_data_path = '/content/drive/MyDrive/DS_TermProject/data/combined_mbti_df.csv'\n",
        "df = pd.read_csv(raw_data_path)"
      ]
    },
    {
      "cell_type": "markdown",
      "metadata": {
        "id": "thkPZL0ur63t"
      },
      "source": [
        "Feature Engineering"
      ]
    },
    {
      "cell_type": "code",
      "execution_count": 132,
      "metadata": {
        "colab": {
          "base_uri": "https://localhost:8080/"
        },
        "id": "pOE8tiZwsEwS",
        "outputId": "897add0f-b7ca-46e1-d8d8-df519b0a2eb4"
      },
      "outputs": [
        {
          "output_type": "stream",
          "name": "stderr",
          "text": [
            "<ipython-input-132-482ca4c8bc7c>:11: SettingWithCopyWarning: \n",
            "A value is trying to be set on a copy of a slice from a DataFrame.\n",
            "Try using .loc[row_indexer,col_indexer] = value instead\n",
            "\n",
            "See the caveats in the documentation: https://pandas.pydata.org/pandas-docs/stable/user_guide/indexing.html#returning-a-view-versus-a-copy\n",
            "  X['major_count'] = df[major_tones].sum(axis=1).astype('int64')\n",
            "<ipython-input-132-482ca4c8bc7c>:12: SettingWithCopyWarning: \n",
            "A value is trying to be set on a copy of a slice from a DataFrame.\n",
            "Try using .loc[row_indexer,col_indexer] = value instead\n",
            "\n",
            "See the caveats in the documentation: https://pandas.pydata.org/pandas-docs/stable/user_guide/indexing.html#returning-a-view-versus-a-copy\n",
            "  X['minor_count'] = df[minor_tones].sum(axis=1).astype('int64')\n"
          ]
        }
      ],
      "source": [
        "# Subset only measures of centers\n",
        "X = df.iloc[: , :22] # 처음 22개 열을 선택해서 저장\n",
        "X = df[audio_qualities] # 오디오 품질과 해당 열이 있는 열을 선택해서 저장\n",
        "\n",
        "\n",
        "categories = renamed_columns[:]\n",
        "X.columns = renamed_columns\n",
        "\n",
        "\n",
        "# 장조/단조의 개수의 합을 계산해서 저장 (C장조, D단조, .. 이렇게 따로 계산되는거 말고, 위에 지정된 list 이용해서 sum값 넣어줌)\n",
        "X['major_count'] = df[major_tones].sum(axis=1).astype('int64')\n",
        "X['minor_count'] = df[minor_tones].sum(axis=1).astype('int64')"
      ]
    },
    {
      "cell_type": "markdown",
      "metadata": {
        "id": "xQFGTwxasIyF"
      },
      "source": [
        "## Encoding & Scaling Function"
      ]
    },
    {
      "cell_type": "code",
      "execution_count": 133,
      "metadata": {
        "id": "acXdN4w3rzhr"
      },
      "outputs": [],
      "source": [
        "def Encoding(df, encoding_method):\n",
        "    df = df.copy()\n",
        "\n",
        "    if(encoding_method == 'LabelEncoder'):\n",
        "        encoder = LabelEncoder()\n",
        "        target = encoder.fit_transform(df[['mbti']])\n",
        "        \n",
        "\n",
        "    if(encoding_method == 'OneHotEncoder'):\n",
        "        encoder = OneHotEncoder(sparse=False)\n",
        "        target = encoder.fit_transform(df[['mbti']])\n",
        "\n",
        "    return target\n",
        "\n",
        "def Scaling(scale_method, X_train, X_test):\n",
        "    if( scale_method == 'No Scale'):\n",
        "        return X_train, X_test\n",
        "\n",
        "    elif(scale_method == 'StandardScaler'):\n",
        "        scaler = StandardScaler()\n",
        "\n",
        "    elif(scale_method == 'MinMaxScaler'):\n",
        "        scaler = MinMaxScaler()\n",
        "\n",
        "    elif(scale_method == 'RobustScaler'):\n",
        "        scaler = RobustScaler()\n",
        "\n",
        "\n",
        "    X_train_scaled = scaler.fit_transform(X_train)\n",
        "    X_test_scaled = scaler.fit_transform(X_test)\n",
        "\n",
        "    return X_train_scaled, X_test_scaled\n"
      ]
    },
    {
      "cell_type": "code",
      "execution_count": 134,
      "metadata": {
        "colab": {
          "base_uri": "https://localhost:8080/"
        },
        "id": "DL99tRiGsx0m",
        "outputId": "4b4e5ccd-7097-4fbf-bd24-1df4d1c23794"
      },
      "outputs": [
        {
          "output_type": "stream",
          "name": "stdout",
          "text": [
            "Shape of X: (4081, 9)\n",
            "Shape of y: (4081,)\n"
          ]
        }
      ],
      "source": [
        "print(\"Shape of X:\", X.shape)\n",
        "print(\"Shape of y:\", y.shape)\n"
      ]
    },
    {
      "cell_type": "code",
      "execution_count": 137,
      "metadata": {
        "colab": {
          "base_uri": "https://localhost:8080/",
          "height": 368
        },
        "id": "ha4l7Oqbr4fo",
        "outputId": "bda803e4-26b7-4014-b823-a52751dc98d0"
      },
      "outputs": [
        {
          "output_type": "stream",
          "name": "stdout",
          "text": [
            "Encoder: LabelEncoder, Scaler: StandardScaler, Test Size: 0.3, Smote Phase: ['True', 'False']\n"
          ]
        },
        {
          "output_type": "error",
          "ename": "Error",
          "evalue": "ignored",
          "traceback": [
            "\u001b[0;31m---------------------------------------------------------------------------\u001b[0m",
            "\u001b[0;31mError\u001b[0m                                     Traceback (most recent call last)",
            "\u001b[0;32m<ipython-input-137-7c8ab26a987f>\u001b[0m in \u001b[0;36m<cell line: 19>\u001b[0;34m()\u001b[0m\n\u001b[1;32m     19\u001b[0m \u001b[0;32mfor\u001b[0m \u001b[0mencoder\u001b[0m\u001b[0;34m,\u001b[0m \u001b[0mscaler\u001b[0m\u001b[0;34m,\u001b[0m \u001b[0mtest_size\u001b[0m\u001b[0;34m,\u001b[0m \u001b[0mdo_smote\u001b[0m \u001b[0;32min\u001b[0m \u001b[0mcombinations\u001b[0m\u001b[0;34m:\u001b[0m\u001b[0;34m\u001b[0m\u001b[0;34m\u001b[0m\u001b[0m\n\u001b[1;32m     20\u001b[0m     \u001b[0mprint\u001b[0m\u001b[0;34m(\u001b[0m\u001b[0;34mf\"Encoder: {encoder}, Scaler: {scaler}, Test Size: {test_size}, Smote Phase: {do_smote}\"\u001b[0m\u001b[0;34m)\u001b[0m\u001b[0;34m\u001b[0m\u001b[0;34m\u001b[0m\u001b[0m\n\u001b[0;32m---> 21\u001b[0;31m     wandb.config.update({\n\u001b[0m\u001b[1;32m     22\u001b[0m         \u001b[0;34m'encoder'\u001b[0m\u001b[0;34m:\u001b[0m \u001b[0mencoder\u001b[0m\u001b[0;34m,\u001b[0m\u001b[0;34m\u001b[0m\u001b[0;34m\u001b[0m\u001b[0m\n\u001b[1;32m     23\u001b[0m         \u001b[0;34m'scaler'\u001b[0m\u001b[0;34m:\u001b[0m \u001b[0mscaler\u001b[0m\u001b[0;34m,\u001b[0m\u001b[0;34m\u001b[0m\u001b[0;34m\u001b[0m\u001b[0m\n",
            "\u001b[0;32m/usr/local/lib/python3.10/dist-packages/wandb/sdk/lib/preinit.py\u001b[0m in \u001b[0;36m__getattr__\u001b[0;34m(self, key)\u001b[0m\n\u001b[1;32m     25\u001b[0m     \u001b[0;32mdef\u001b[0m \u001b[0m__getattr__\u001b[0m\u001b[0;34m(\u001b[0m\u001b[0mself\u001b[0m\u001b[0;34m,\u001b[0m \u001b[0mkey\u001b[0m\u001b[0;34m:\u001b[0m \u001b[0mstr\u001b[0m\u001b[0;34m)\u001b[0m \u001b[0;34m->\u001b[0m \u001b[0mAny\u001b[0m\u001b[0;34m:\u001b[0m\u001b[0;34m\u001b[0m\u001b[0;34m\u001b[0m\u001b[0m\n\u001b[1;32m     26\u001b[0m         \u001b[0;32mif\u001b[0m \u001b[0;32mnot\u001b[0m \u001b[0mkey\u001b[0m\u001b[0;34m.\u001b[0m\u001b[0mstartswith\u001b[0m\u001b[0;34m(\u001b[0m\u001b[0;34m\"_\"\u001b[0m\u001b[0;34m)\u001b[0m\u001b[0;34m:\u001b[0m\u001b[0;34m\u001b[0m\u001b[0;34m\u001b[0m\u001b[0m\n\u001b[0;32m---> 27\u001b[0;31m             \u001b[0;32mraise\u001b[0m \u001b[0mwandb\u001b[0m\u001b[0;34m.\u001b[0m\u001b[0mError\u001b[0m\u001b[0;34m(\u001b[0m\u001b[0;34mf\"You must call wandb.init() before {self._name}.{key}\"\u001b[0m\u001b[0;34m)\u001b[0m\u001b[0;34m\u001b[0m\u001b[0;34m\u001b[0m\u001b[0m\n\u001b[0m\u001b[1;32m     28\u001b[0m         \u001b[0;32melse\u001b[0m\u001b[0;34m:\u001b[0m\u001b[0;34m\u001b[0m\u001b[0;34m\u001b[0m\u001b[0m\n\u001b[1;32m     29\u001b[0m             \u001b[0;32mraise\u001b[0m \u001b[0mAttributeError\u001b[0m\u001b[0;34m\u001b[0m\u001b[0;34m\u001b[0m\u001b[0m\n",
            "\u001b[0;31mError\u001b[0m: You must call wandb.init() before wandb.config.update"
          ]
        }
      ],
      "source": [
        "from sklearn.tree import DecisionTreeClassifier\n",
        "from sklearn.metrics import accuracy_score, confusion_matrix, f1_score, recall_score, precision_score\n",
        "from sklearn.model_selection import train_test_split, GridSearchCV, RandomizedSearchCV\n",
        "from sklearn.model_selection import cross_val_score, KFold\n",
        "import itertools\n",
        "\n",
        "# grid search(hyperparameter)\n",
        "param_grid = {\n",
        "    'max_depth': [None, 5, 10, 15],\n",
        "    'min_samples_split': [2, 5, 10],\n",
        "    'min_samples_leaf': [1, 2, 4],\n",
        "    'criterion': ['gini', 'entropy']\n",
        "}\n",
        "\n",
        "# random search(hyperparameter)\n",
        "param_dist = {\n",
        "    'max_depth': [None, 5, 10, 15],\n",
        "    'min_samples_split': [2, 5, 10],\n",
        "    'min_samples_leaf': [1, 2, 4],\n",
        "    'criterion': ['gini', 'entropy']\n",
        "}\n",
        "\n",
        "## combinations of hyperparameters\n",
        "combinations = list(itertools.product(encoder_list, scaler_list, test_size_list, [do_smote]))\n",
        "\n",
        "for encoder, scaler, test_size, do_smote in combinations:\n",
        "    # Rest of the code remains unchanged\n",
        "\n",
        "    print(f\"Encoder: {encoder}, Scaler: {scaler}, Test Size: {test_size}, Smote Phase: {do_smote}\")\n",
        "    wandb.config.update({\n",
        "        'encoder': encoder,\n",
        "        'scaler': scaler,\n",
        "        'test_size': test_size,\n",
        "        'do_smote': do_smote\n",
        "    })\n",
        "\n",
        "    y = Encoding(df=df, encoding_method=encoder)\n",
        "\n",
        "    X_train, X_test, y_train, y_test = train_test_split(X, y, random_state=5, test_size=test_size)\n",
        "\n",
        "    X_train, X_test = Scaling(scale_method=scaler, X_train=X_train, X_test=X_test)\n",
        "\n",
        "    if do_smote == 'True':\n",
        "        smote = SMOTE(sampling_strategy='auto', random_state=0)\n",
        "        X_train, y_train = smote.fit_resample(X_train, y_train)\n",
        "\n",
        "    print('Train 피처/레이블 데이터 세트:', X_train.shape, y_train.shape)\n",
        "\n",
        "    wandb.log({'Train feature 데이터 세트': X_train.shape})\n",
        "    wandb.log({'Train label 데이터 세트': y_train.shape})\n",
        "\n",
        "    # Decision Tree Model with hyperparameter tuning\n",
        "    dt_model = DecisionTreeClassifier(random_state=42)\n",
        "\n",
        "    # Grid Search\n",
        "    grid_search = GridSearchCV(estimator=dt_model, param_grid=param_grid, cv=5)\n",
        "    grid_search.fit(X_train, y_train)\n",
        "\n",
        "    best_params_grid = grid_search.best_params_\n",
        "    dt_model_grid = DecisionTreeClassifier(random_state=42, **best_params_grid)\n",
        "    dt_model_grid.fit(X_train, y_train)\n",
        "    dt_predictions_grid = dt_model_grid.predict(X_test)\n",
        "    dt_accuracy_grid = accuracy_score(y_test, dt_predictions_grid)\n",
        "    dt_confusion_matrix_grid = confusion_matrix(y_test, dt_predictions_grid)\n",
        "    dt_f1_score_grid = f1_score(y_test, dt_predictions_grid, average='macro')\n",
        "    dt_recall_grid = recall_score(y_test, dt_predictions_grid, average='macro')\n",
        "    dt_precision_grid = precision_score(y_test, dt_predictions_grid, average='macro')\n",
        "    print(\"Decision Tree Accuracy with Grid Search:\", dt_accuracy_grid)\n",
        "    print(\"Decision Tree Confusion Matrix with Grid Search:\\n\", dt_confusion_matrix_grid)\n",
        "    print(\"Decision Tree F1 Score with Grid Search:\", dt_f1_score_grid)\n",
        "    print(\"Decision Tree Recall with Grid Search:\", dt_recall_grid)\n",
        "    print(\"Decision Tree Precision with Grid Search:\", dt_precision_grid)\n",
        "    wandb.log({'Decision Tree Accuracy with Grid Search': dt_accuracy_grid})\n",
        "    wandb.log({'Decision Tree Confusion Matrix with Grid Search': dt_confusion_matrix_grid.tolist()})\n",
        "    wandb.log({'Decision Tree F1 Score with Grid Search': dt_f1_score_grid})\n",
        "    wandb.log({'Decision Tree Recall with Grid Search': dt_recall_grid})\n",
        "    wandb.log({'Decision Tree Precision with Grid Search': dt_precision_grid})\n",
        "\n",
        "    # Random Search\n",
        "    random_search = RandomizedSearchCV(estimator=dt_model, param_distributions=param_dist, cv=5)\n",
        "    random_search.fit(X_train, y_train)\n",
        "\n",
        "    best_params_random = random_search.best_params_\n",
        "    dt_model_random = DecisionTreeClassifier(random_state=42, **best_params_random)\n",
        "    dt_model_random.fit(X_train, y_train)\n",
        "    dt_predictions_random = dt_model_random.predict(X_test)\n",
        "    dt_accuracy_random = accuracy_score(y_test, dt_predictions_random)\n",
        "    dt_confusion_matrix_random = confusion_matrix(y_test, dt_predictions_random)\n",
        "    dt_f1_score_random = f1_score(y_test, dt_predictions_random, average='macro')\n",
        "    dt_recall_random = recall_score(y_test, dt_predictions_random, average='macro')\n",
        "    dt_precision_random = precision_score(y_test, dt_predictions_random, average='macro')\n",
        "    print(\"Decision Tree Accuracy with Random Search:\", dt_accuracy_random)\n",
        "    print(\"Decision Tree Confusion Matrix with Random Search:\\n\", dt_confusion_matrix_random)\n",
        "    print(\"Decision Tree F1 Score with Random Search:\", dt_f1_score_random)\n",
        "    print(\"Decision Tree Recall with Random Search:\", dt_recall_random)\n",
        "    print(\"Decision Tree Precision with Random Search:\", dt_precision_random)\n",
        "    wandb.log({'Decision Tree Accuracy with Random Search': dt_accuracy_random})\n",
        "    wandb.log({'Decision Tree Confusion Matrix with Random Search': dt_confusion_matrix_random.tolist()})\n",
        "    wandb.log({'Decision Tree F1 Score with Random Search': dt_f1_score_random})\n",
        "    wandb.log({'Decision Tree Recall with Random Search': dt_recall_random})\n",
        "    wandb.log({'Decision Tree Precision with Random Search': dt_precision_random})\n",
        "\n",
        "    # K-Fold \n",
        "    kf = KFold(n_splits=5, shuffle=True, random_state=42)\n",
        "\n",
        "    dt_model_cv = DecisionTreeClassifier(random_state=42, **best_params_grid)\n",
        "    cv_scores = cross_val_score(dt_model_cv, X_train, y_train, cv=kf, scoring='accuracy')\n",
        "    cv_accuracy = np.mean(cv_scores)\n",
        "    print(\"Decision Tree Accuracy with K-Fold Cross Validation:\", cv_accuracy)\n",
        "    wandb.log({'Decision Tree Accuracy with K-Fold Cross Validation': cv_accuracy})\n"
      ]
    },
    {
      "cell_type": "code",
      "execution_count": 136,
      "metadata": {
        "colab": {
          "base_uri": "https://localhost:8080/",
          "height": 1000
        },
        "id": "D3GKXG9Pyqk9",
        "outputId": "301b51a1-efeb-443e-c9f1-1baa64133d12"
      },
      "outputs": [
        {
          "output_type": "display_data",
          "data": {
            "text/plain": [
              "<IPython.core.display.HTML object>"
            ],
            "text/html": [
              "Waiting for W&B process to finish... <strong style=\"color:green\">(success).</strong>"
            ]
          },
          "metadata": {}
        },
        {
          "output_type": "display_data",
          "data": {
            "text/plain": [
              "<IPython.core.display.HTML object>"
            ],
            "text/html": [
              "<style>\n",
              "    table.wandb td:nth-child(1) { padding: 0 10px; text-align: left ; width: auto;} td:nth-child(2) {text-align: left ; width: 100%}\n",
              "    .wandb-row { display: flex; flex-direction: row; flex-wrap: wrap; justify-content: flex-start; width: 100% }\n",
              "    .wandb-col { display: flex; flex-direction: column; flex-basis: 100%; flex: 1; padding: 10px; }\n",
              "    </style>\n",
              "<div class=\"wandb-row\"><div class=\"wandb-col\"><h3>Run history:</h3><br/><table class=\"wandb\"><tr><td>Decision Tree Accuracy with Grid Search</td><td>▆▆█▅▃▁█▆██▅█</td></tr><tr><td>Decision Tree Accuracy with K-Fold Cross Validation</td><td>▁▄█▁▄█▁▄█▁▄█</td></tr><tr><td>Decision Tree Accuracy with Random Search</td><td>▆▇█▅▃▁█▆▃█▄█</td></tr><tr><td>Decision Tree F1 Score with Grid Search</td><td>▇▇█▆▅▁█▇▇█▆▇</td></tr><tr><td>Decision Tree F1 Score with Random Search</td><td>▇█▇▆▅▁█▇▃█▇▇</td></tr><tr><td>Decision Tree Precision with Grid Search</td><td>▅█▆▆▅▁▆▇▅▆▇▆</td></tr><tr><td>Decision Tree Precision with Random Search</td><td>▆█▆▇▅▁▆█▅▇▇▆</td></tr><tr><td>Decision Tree Recall with Grid Search</td><td>▇▆█▆▄▁█▆██▅█</td></tr><tr><td>Decision Tree Recall with Random Search</td><td>▇▇█▆▄▁█▆▅█▄█</td></tr></table><br/></div><div class=\"wandb-col\"><h3>Run summary:</h3><br/><table class=\"wandb\"><tr><td>Decision Tree Accuracy with Grid Search</td><td>0.20782</td></tr><tr><td>Decision Tree Accuracy with K-Fold Cross Validation</td><td>0.20234</td></tr><tr><td>Decision Tree Accuracy with Random Search</td><td>0.20782</td></tr><tr><td>Decision Tree F1 Score with Grid Search</td><td>0.164</td></tr><tr><td>Decision Tree F1 Score with Random Search</td><td>0.164</td></tr><tr><td>Decision Tree Precision with Grid Search</td><td>0.16626</td></tr><tr><td>Decision Tree Precision with Random Search</td><td>0.16626</td></tr><tr><td>Decision Tree Recall with Grid Search</td><td>0.19166</td></tr><tr><td>Decision Tree Recall with Random Search</td><td>0.19166</td></tr></table><br/></div></div>"
            ]
          },
          "metadata": {}
        },
        {
          "output_type": "display_data",
          "data": {
            "text/plain": [
              "<IPython.core.display.HTML object>"
            ],
            "text/html": [
              " View run <strong style=\"color:#cdcd00\">helpful-durian-13</strong> at: <a href='https://wandb.ai/ds_2023_spring/MBTI_playlist/runs/djtj6gob' target=\"_blank\">https://wandb.ai/ds_2023_spring/MBTI_playlist/runs/djtj6gob</a><br/>Synced 5 W&B file(s), 0 media file(s), 0 artifact file(s) and 0 other file(s)"
            ]
          },
          "metadata": {}
        },
        {
          "output_type": "display_data",
          "data": {
            "text/plain": [
              "<IPython.core.display.HTML object>"
            ],
            "text/html": [
              "Find logs at: <code>./wandb/run-20230603_231128-djtj6gob/logs</code>"
            ]
          },
          "metadata": {}
        }
      ],
      "source": [
        "wandb.finish()"
      ]
    }
  ],
  "metadata": {
    "colab": {
      "provenance": [],
      "include_colab_link": true
    },
    "kernelspec": {
      "display_name": "Python 3",
      "name": "python3"
    },
    "language_info": {
      "name": "python"
    },
    "widgets": {
      "application/vnd.jupyter.widget-state+json": {
        "966f9714464a4ad0be71f8bf3a6dfedd": {
          "model_module": "@jupyter-widgets/controls",
          "model_name": "VBoxModel",
          "model_module_version": "1.5.0",
          "state": {
            "_dom_classes": [],
            "_model_module": "@jupyter-widgets/controls",
            "_model_module_version": "1.5.0",
            "_model_name": "VBoxModel",
            "_view_count": null,
            "_view_module": "@jupyter-widgets/controls",
            "_view_module_version": "1.5.0",
            "_view_name": "VBoxView",
            "box_style": "",
            "children": [
              "IPY_MODEL_35a6d181eaa04c62a98567b9bfd5072f",
              "IPY_MODEL_f7d1839fb0194542b3b621853d21c436"
            ],
            "layout": "IPY_MODEL_ac65efd5d28e4427bb6fab823d0801ce"
          }
        },
        "35a6d181eaa04c62a98567b9bfd5072f": {
          "model_module": "@jupyter-widgets/controls",
          "model_name": "LabelModel",
          "model_module_version": "1.5.0",
          "state": {
            "_dom_classes": [],
            "_model_module": "@jupyter-widgets/controls",
            "_model_module_version": "1.5.0",
            "_model_name": "LabelModel",
            "_view_count": null,
            "_view_module": "@jupyter-widgets/controls",
            "_view_module_version": "1.5.0",
            "_view_name": "LabelView",
            "description": "",
            "description_tooltip": null,
            "layout": "IPY_MODEL_eb8fa2418f8e4747991d9cf24d5986a3",
            "placeholder": "​",
            "style": "IPY_MODEL_c02a387675334181857a0441b7817107",
            "value": "Waiting for wandb.init()...\r"
          }
        },
        "f7d1839fb0194542b3b621853d21c436": {
          "model_module": "@jupyter-widgets/controls",
          "model_name": "FloatProgressModel",
          "model_module_version": "1.5.0",
          "state": {
            "_dom_classes": [],
            "_model_module": "@jupyter-widgets/controls",
            "_model_module_version": "1.5.0",
            "_model_name": "FloatProgressModel",
            "_view_count": null,
            "_view_module": "@jupyter-widgets/controls",
            "_view_module_version": "1.5.0",
            "_view_name": "ProgressView",
            "bar_style": "",
            "description": "",
            "description_tooltip": null,
            "layout": "IPY_MODEL_404b884eb63b43fd8158b67f670ba9d7",
            "max": 1,
            "min": 0,
            "orientation": "horizontal",
            "style": "IPY_MODEL_f20b3e1924dc4daeb994b878386e4616",
            "value": 1
          }
        },
        "ac65efd5d28e4427bb6fab823d0801ce": {
          "model_module": "@jupyter-widgets/base",
          "model_name": "LayoutModel",
          "model_module_version": "1.2.0",
          "state": {
            "_model_module": "@jupyter-widgets/base",
            "_model_module_version": "1.2.0",
            "_model_name": "LayoutModel",
            "_view_count": null,
            "_view_module": "@jupyter-widgets/base",
            "_view_module_version": "1.2.0",
            "_view_name": "LayoutView",
            "align_content": null,
            "align_items": null,
            "align_self": null,
            "border": null,
            "bottom": null,
            "display": null,
            "flex": null,
            "flex_flow": null,
            "grid_area": null,
            "grid_auto_columns": null,
            "grid_auto_flow": null,
            "grid_auto_rows": null,
            "grid_column": null,
            "grid_gap": null,
            "grid_row": null,
            "grid_template_areas": null,
            "grid_template_columns": null,
            "grid_template_rows": null,
            "height": null,
            "justify_content": null,
            "justify_items": null,
            "left": null,
            "margin": null,
            "max_height": null,
            "max_width": null,
            "min_height": null,
            "min_width": null,
            "object_fit": null,
            "object_position": null,
            "order": null,
            "overflow": null,
            "overflow_x": null,
            "overflow_y": null,
            "padding": null,
            "right": null,
            "top": null,
            "visibility": null,
            "width": null
          }
        },
        "eb8fa2418f8e4747991d9cf24d5986a3": {
          "model_module": "@jupyter-widgets/base",
          "model_name": "LayoutModel",
          "model_module_version": "1.2.0",
          "state": {
            "_model_module": "@jupyter-widgets/base",
            "_model_module_version": "1.2.0",
            "_model_name": "LayoutModel",
            "_view_count": null,
            "_view_module": "@jupyter-widgets/base",
            "_view_module_version": "1.2.0",
            "_view_name": "LayoutView",
            "align_content": null,
            "align_items": null,
            "align_self": null,
            "border": null,
            "bottom": null,
            "display": null,
            "flex": null,
            "flex_flow": null,
            "grid_area": null,
            "grid_auto_columns": null,
            "grid_auto_flow": null,
            "grid_auto_rows": null,
            "grid_column": null,
            "grid_gap": null,
            "grid_row": null,
            "grid_template_areas": null,
            "grid_template_columns": null,
            "grid_template_rows": null,
            "height": null,
            "justify_content": null,
            "justify_items": null,
            "left": null,
            "margin": null,
            "max_height": null,
            "max_width": null,
            "min_height": null,
            "min_width": null,
            "object_fit": null,
            "object_position": null,
            "order": null,
            "overflow": null,
            "overflow_x": null,
            "overflow_y": null,
            "padding": null,
            "right": null,
            "top": null,
            "visibility": null,
            "width": null
          }
        },
        "c02a387675334181857a0441b7817107": {
          "model_module": "@jupyter-widgets/controls",
          "model_name": "DescriptionStyleModel",
          "model_module_version": "1.5.0",
          "state": {
            "_model_module": "@jupyter-widgets/controls",
            "_model_module_version": "1.5.0",
            "_model_name": "DescriptionStyleModel",
            "_view_count": null,
            "_view_module": "@jupyter-widgets/base",
            "_view_module_version": "1.2.0",
            "_view_name": "StyleView",
            "description_width": ""
          }
        },
        "404b884eb63b43fd8158b67f670ba9d7": {
          "model_module": "@jupyter-widgets/base",
          "model_name": "LayoutModel",
          "model_module_version": "1.2.0",
          "state": {
            "_model_module": "@jupyter-widgets/base",
            "_model_module_version": "1.2.0",
            "_model_name": "LayoutModel",
            "_view_count": null,
            "_view_module": "@jupyter-widgets/base",
            "_view_module_version": "1.2.0",
            "_view_name": "LayoutView",
            "align_content": null,
            "align_items": null,
            "align_self": null,
            "border": null,
            "bottom": null,
            "display": null,
            "flex": null,
            "flex_flow": null,
            "grid_area": null,
            "grid_auto_columns": null,
            "grid_auto_flow": null,
            "grid_auto_rows": null,
            "grid_column": null,
            "grid_gap": null,
            "grid_row": null,
            "grid_template_areas": null,
            "grid_template_columns": null,
            "grid_template_rows": null,
            "height": null,
            "justify_content": null,
            "justify_items": null,
            "left": null,
            "margin": null,
            "max_height": null,
            "max_width": null,
            "min_height": null,
            "min_width": null,
            "object_fit": null,
            "object_position": null,
            "order": null,
            "overflow": null,
            "overflow_x": null,
            "overflow_y": null,
            "padding": null,
            "right": null,
            "top": null,
            "visibility": null,
            "width": null
          }
        },
        "f20b3e1924dc4daeb994b878386e4616": {
          "model_module": "@jupyter-widgets/controls",
          "model_name": "ProgressStyleModel",
          "model_module_version": "1.5.0",
          "state": {
            "_model_module": "@jupyter-widgets/controls",
            "_model_module_version": "1.5.0",
            "_model_name": "ProgressStyleModel",
            "_view_count": null,
            "_view_module": "@jupyter-widgets/base",
            "_view_module_version": "1.2.0",
            "_view_name": "StyleView",
            "bar_color": null,
            "description_width": ""
          }
        }
      }
    }
  },
  "nbformat": 4,
  "nbformat_minor": 0
}