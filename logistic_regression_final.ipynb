{
  "cells": [
    {
      "cell_type": "markdown",
      "metadata": {
        "id": "view-in-github",
        "colab_type": "text"
      },
      "source": [
        "<a href=\"https://colab.research.google.com/github/darkmochalover/DS_TermProject_AL2/blob/main/logistic_regression_final.ipynb\" target=\"_parent\"><img src=\"https://colab.research.google.com/assets/colab-badge.svg\" alt=\"Open In Colab\"/></a>"
      ]
    },
    {
      "cell_type": "markdown",
      "metadata": {
        "id": "wzOh70v4rFn7"
      },
      "source": [
        "Dictionary"
      ]
    },
    {
      "cell_type": "code",
      "execution_count": 1,
      "metadata": {
        "id": "VweWag3WrIrd"
      },
      "outputs": [],
      "source": [
        "# Data Path\n",
        "raw_data_path = \"/content/drive/MyDrive/DS_TermProject/data/combined_mbti_df.csv\"\n",
        "# data_path = \"data/preprocessed_mbti_data.csv\"\n",
        "\n",
        "\n",
        "audio_qualities = [\n",
        "    'danceability_mean',\n",
        "    'valence_mean',\n",
        "    'energy_mean',\n",
        "    'loudness_mean',\n",
        "    'acousticness_mean',\n",
        "    'instrumentalness_mean',\n",
        "    'liveness_mean',\n",
        "]\n",
        "\n",
        "# 장조/단조 (Major/Minor)\n",
        "all_tones = [\n",
        "    'Cminor_count', 'CMajor_count', 'C#/Dbminor_count', 'C#/DbMajor_count',\n",
        "    'DMajor_count', 'D#_EbMajor_count', 'Eminor_count', 'EMajor_count',\n",
        "    'Fminor_count', 'FMajor_count', 'F#/Gbminor_count', 'GMajor_count',\n",
        "    'G#/Abminor_count', 'G#/AbMajor_count', 'Aminor_count', 'AMajor_count',\n",
        "    'A#/Bbminor_count', 'BMajor_count', 'Dminor_count', 'D#_Ebminor_count',\n",
        "    'Gminor_count', 'A#/BbMajor_count', 'F#/GbMajor_count', 'Bminor_count'\n",
        "]\n",
        "\n",
        "major_tones = [\n",
        "    'CMajor_count', 'C#/DbMajor_count',\n",
        "    'DMajor_count', 'D#_EbMajor_count', \n",
        "    'EMajor_count',\n",
        "    'FMajor_count', \n",
        "    'GMajor_count', 'G#/AbMajor_count', \n",
        "    'AMajor_count', 'BMajor_count', 'A#/BbMajor_count', \n",
        "    'F#/GbMajor_count'\n",
        "]\n",
        "minor_tones = [\n",
        "    'Cminor_count', 'C#/Dbminor_count', \n",
        "    'Eminor_count', \n",
        "    'Fminor_count', 'F#/Gbminor_count', \n",
        "    'G#/Abminor_count',  \n",
        "    'Aminor_count', 'A#/Bbminor_count', \n",
        "    'Dminor_count', 'D#_Ebminor_count',\n",
        "    'Gminor_count', \n",
        "    'Bminor_count'\n",
        "]\n",
        "\n",
        "\n",
        "# 열 이름을 바꾸기 위해 리스트로 저장함\n",
        "renamed_columns =  [\n",
        "    'danceability',\n",
        "    'valence',\n",
        "    'energy',\n",
        "    'loudness',\n",
        "    'acousticness',\n",
        "    'instrumentalness',\n",
        "    'liveness'\n",
        "]\n"
      ]
    },
    {
      "cell_type": "markdown",
      "metadata": {
        "id": "cu1JoFEDqIhm"
      },
      "source": [
        "Install WandB"
      ]
    },
    {
      "cell_type": "code",
      "execution_count": 2,
      "metadata": {
        "id": "_MaTXzH4q4LN"
      },
      "outputs": [],
      "source": [
        "!pip install -qU wandb"
      ]
    },
    {
      "cell_type": "code",
      "execution_count": 3,
      "metadata": {
        "id": "_Jm56g6Ep9Rg"
      },
      "outputs": [],
      "source": [
        "import pandas as pd\n",
        "import numpy as np\n",
        "import matplotlib.pyplot as plt\n",
        "from sklearn.model_selection import train_test_split\n",
        "\n",
        "from sklearn.preprocessing import OneHotEncoder, LabelEncoder\n",
        "from sklearn.preprocessing import StandardScaler, RobustScaler, MinMaxScaler\n",
        "from imblearn.over_sampling import SMOTE\n",
        "\n",
        "import itertools\n",
        "\n",
        "import wandb\n",
        "import random"
      ]
    },
    {
      "cell_type": "markdown",
      "metadata": {
        "id": "HEXBn0GGqLDm"
      },
      "source": [
        "Step 1: Import W&B and Login"
      ]
    },
    {
      "cell_type": "code",
      "execution_count": 4,
      "metadata": {
        "id": "NSHvaPp4q0IH"
      },
      "outputs": [],
      "source": [
        "import wandb\n",
        "from wandb.keras import WandbMetricsLogger, WandbModelCheckpoint, WandbEvalCallback"
      ]
    },
    {
      "cell_type": "code",
      "execution_count": 5,
      "metadata": {
        "id": "smB98NV7qFna"
      },
      "outputs": [],
      "source": [
        "encoder_list = ['LabelEncoder','OneHotEncoder']\n",
        "scaler_list = ['StandardScaler', 'MinMaxScaler', 'RobustScaler', 'No Scale']\n",
        "test_size_list = [0.3, 0.2, 0.1]\n",
        "do_smote = ['True', 'False']"
      ]
    },
    {
      "cell_type": "code",
      "execution_count": 6,
      "metadata": {
        "colab": {
          "base_uri": "https://localhost:8080/",
          "height": 122
        },
        "id": "FUSOY6haqQh2",
        "outputId": "4c6c8b1a-bece-4bc3-8dc3-4face1ea14f2"
      },
      "outputs": [
        {
          "output_type": "stream",
          "name": "stderr",
          "text": [
            "\u001b[34m\u001b[1mwandb\u001b[0m: Currently logged in as: \u001b[33mreal100percent\u001b[0m. Use \u001b[1m`wandb login --relogin`\u001b[0m to force relogin\n"
          ]
        },
        {
          "output_type": "display_data",
          "data": {
            "text/plain": [
              "<IPython.core.display.HTML object>"
            ],
            "text/html": [
              "Tracking run with wandb version 0.15.3"
            ]
          },
          "metadata": {}
        },
        {
          "output_type": "display_data",
          "data": {
            "text/plain": [
              "<IPython.core.display.HTML object>"
            ],
            "text/html": [
              "Run data is saved locally in <code>/content/wandb/run-20230604_112943-8fd42n27</code>"
            ]
          },
          "metadata": {}
        },
        {
          "output_type": "display_data",
          "data": {
            "text/plain": [
              "<IPython.core.display.HTML object>"
            ],
            "text/html": [
              "Syncing run <strong><a href='https://wandb.ai/real100percent/regression/runs/8fd42n27' target=\"_blank\">curious-water-4</a></strong> to <a href='https://wandb.ai/real100percent/regression' target=\"_blank\">Weights & Biases</a> (<a href='https://wandb.me/run' target=\"_blank\">docs</a>)<br/>"
            ]
          },
          "metadata": {}
        },
        {
          "output_type": "display_data",
          "data": {
            "text/plain": [
              "<IPython.core.display.HTML object>"
            ],
            "text/html": [
              " View project at <a href='https://wandb.ai/real100percent/regression' target=\"_blank\">https://wandb.ai/real100percent/regression</a>"
            ]
          },
          "metadata": {}
        },
        {
          "output_type": "display_data",
          "data": {
            "text/plain": [
              "<IPython.core.display.HTML object>"
            ],
            "text/html": [
              " View run at <a href='https://wandb.ai/real100percent/regression/runs/8fd42n27' target=\"_blank\">https://wandb.ai/real100percent/regression/runs/8fd42n27</a>"
            ]
          },
          "metadata": {}
        }
      ],
      "source": [
        "config = {\n",
        "        'encoder' : 'LabelEncoder',\n",
        "        'scaler' : 'StandardScaler',\n",
        "        'test_size' : 0.3,\n",
        "        \"do_smote\" : True\n",
        "    }\n",
        "\n",
        "# start a new wandb run to track this script\n",
        "wandb.init(\n",
        "    # set the wandb project where this run will be logged\n",
        "    project=\"regression\",\n",
        "    \n",
        "    # track hyperparameters and run metadata\n",
        "    config = config\n",
        ")\n",
        "\n",
        "config=wandb.config\n"
      ]
    },
    {
      "cell_type": "markdown",
      "metadata": {
        "id": "XUas7Lziryfh"
      },
      "source": [
        "Data Loading"
      ]
    },
    {
      "cell_type": "code",
      "execution_count": 7,
      "metadata": {
        "id": "8rCuN45Ur5kJ",
        "colab": {
          "base_uri": "https://localhost:8080/"
        },
        "outputId": "6f0794cf-644d-4e94-8a22-0515fea582d0"
      },
      "outputs": [
        {
          "output_type": "stream",
          "name": "stdout",
          "text": [
            "Drive already mounted at /content/drive; to attempt to forcibly remount, call drive.mount(\"/content/drive\", force_remount=True).\n"
          ]
        }
      ],
      "source": [
        "from google.colab import drive\n",
        "drive.mount('/content/drive')\n",
        "\n",
        "import pandas as pd\n",
        "\n",
        "raw_data_path = '/content/drive/MyDrive/DS_TermProject/data/combined_mbti_df.csv'\n",
        "df = pd.read_csv(raw_data_path)"
      ]
    },
    {
      "cell_type": "markdown",
      "metadata": {
        "id": "thkPZL0ur63t"
      },
      "source": [
        "Feature Engineering"
      ]
    },
    {
      "cell_type": "code",
      "execution_count": 8,
      "metadata": {
        "id": "pOE8tiZwsEwS",
        "colab": {
          "base_uri": "https://localhost:8080/"
        },
        "outputId": "6e5b6d1a-0b44-4c70-a26e-107211f1e77a"
      },
      "outputs": [
        {
          "output_type": "stream",
          "name": "stderr",
          "text": [
            "<ipython-input-8-482ca4c8bc7c>:11: SettingWithCopyWarning: \n",
            "A value is trying to be set on a copy of a slice from a DataFrame.\n",
            "Try using .loc[row_indexer,col_indexer] = value instead\n",
            "\n",
            "See the caveats in the documentation: https://pandas.pydata.org/pandas-docs/stable/user_guide/indexing.html#returning-a-view-versus-a-copy\n",
            "  X['major_count'] = df[major_tones].sum(axis=1).astype('int64')\n",
            "<ipython-input-8-482ca4c8bc7c>:12: SettingWithCopyWarning: \n",
            "A value is trying to be set on a copy of a slice from a DataFrame.\n",
            "Try using .loc[row_indexer,col_indexer] = value instead\n",
            "\n",
            "See the caveats in the documentation: https://pandas.pydata.org/pandas-docs/stable/user_guide/indexing.html#returning-a-view-versus-a-copy\n",
            "  X['minor_count'] = df[minor_tones].sum(axis=1).astype('int64')\n"
          ]
        }
      ],
      "source": [
        "# Subset only measures of centers\n",
        "X = df.iloc[: , :22] # 처음 22개 열을 선택해서 저장\n",
        "X = df[audio_qualities] # 오디오 품질과 해당 열이 있는 열을 선택해서 저장\n",
        "\n",
        "\n",
        "categories = renamed_columns[:]\n",
        "X.columns = renamed_columns\n",
        "\n",
        "\n",
        "# 장조/단조의 개수의 합을 계산해서 저장 (C장조, D단조, .. 이렇게 따로 계산되는거 말고, 위에 지정된 list 이용해서 sum값 넣어줌)\n",
        "X['major_count'] = df[major_tones].sum(axis=1).astype('int64')\n",
        "X['minor_count'] = df[minor_tones].sum(axis=1).astype('int64')"
      ]
    },
    {
      "cell_type": "markdown",
      "metadata": {
        "id": "xQFGTwxasIyF"
      },
      "source": [
        "## Encoding & Scaling Function"
      ]
    },
    {
      "cell_type": "code",
      "execution_count": 9,
      "metadata": {
        "id": "acXdN4w3rzhr"
      },
      "outputs": [],
      "source": [
        "def Encoding(df, encoding_method):\n",
        "    df = df.copy()\n",
        "\n",
        "    if(encoding_method == 'LabelEncoder'):\n",
        "        encoder = LabelEncoder()\n",
        "        target = encoder.fit_transform(df[['mbti']])\n",
        "        \n",
        "\n",
        "    if(encoding_method == 'OneHotEncoder'):\n",
        "        encoder = OneHotEncoder(sparse=False)\n",
        "        target = encoder.fit_transform(df[['mbti']])\n",
        "\n",
        "    return target\n",
        "\n",
        "def Scaling(scale_method, X_train, X_test):\n",
        "    if( scale_method == 'No Scale'):\n",
        "        return X_train, X_test\n",
        "\n",
        "    elif(scale_method == 'StandardScaler'):\n",
        "        scaler = StandardScaler()\n",
        "\n",
        "    elif(scale_method == 'MinMaxScaler'):\n",
        "        scaler = MinMaxScaler()\n",
        "\n",
        "    elif(scale_method == 'RobustScaler'):\n",
        "        scaler = RobustScaler()\n",
        "\n",
        "\n",
        "    X_train_scaled = scaler.fit_transform(X_train)\n",
        "    X_test_scaled = scaler.fit_transform(X_test)\n",
        "\n",
        "    return X_train_scaled, X_test_scaled\n"
      ]
    },
    {
      "cell_type": "code",
      "source": [
        "# # If X and y have different shapes, adjust them accordingly\n",
        "# if X.shape[0] > y.shape[0]:\n",
        "#     X = X[:y.shape[0], :]\n",
        "# else:\n",
        "#     y = y[:X.shape[0]]\n",
        "\n",
        "# # Print the adjusted shape of X and y\n",
        "# print(\"Adjusted X shape:\", X.shape)\n",
        "# print(\"Adjusted y shape:\", y.shape)"
      ],
      "metadata": {
        "id": "MR-9q_0wph2m"
      },
      "execution_count": 10,
      "outputs": []
    },
    {
      "cell_type": "markdown",
      "source": [
        "### Logistic Regression Hyperparameter tuning"
      ],
      "metadata": {
        "id": "5LR38qaBAlDY"
      }
    },
    {
      "cell_type": "code",
      "execution_count": null,
      "metadata": {
        "id": "ha4l7Oqbr4fo",
        "colab": {
          "base_uri": "https://localhost:8080/",
          "height": 1000,
          "referenced_widgets": [
            "06d62607a9ac498bae72a7dcf29b9fbe",
            "0c33fccf9fa64ec1a5eddf24802d2224",
            "57513e6f07614556b3dccd1ad399c126",
            "829af76055c94263b50fae847fc83b08",
            "3e685fad659b4540ad14fd41c838d1a3",
            "6594cd7f70934867891a7a15d021fa65",
            "418a8aea14fc45fc895afbe43369b152",
            "c1876ba9bab64652bfdca13e6a58ec4b"
          ]
        },
        "outputId": "e5684aca-3b5c-444b-c61f-09a8897a09d7"
      },
      "outputs": [
        {
          "output_type": "stream",
          "name": "stdout",
          "text": [
            "Encoder: LabelEncoder, Scaler: StandardScaler, Test Size: 0.3, SMOTE: True\n"
          ]
        },
        {
          "output_type": "display_data",
          "data": {
            "text/plain": [
              "<IPython.core.display.HTML object>"
            ],
            "text/html": [
              "Finishing last run (ID:vgf36t92) before initializing another..."
            ]
          },
          "metadata": {}
        },
        {
          "output_type": "display_data",
          "data": {
            "text/plain": [
              "<IPython.core.display.HTML object>"
            ],
            "text/html": [
              "Waiting for W&B process to finish... <strong style=\"color:green\">(success).</strong>"
            ]
          },
          "metadata": {}
        },
        {
          "output_type": "display_data",
          "data": {
            "text/plain": [
              "<IPython.core.display.HTML object>"
            ],
            "text/html": [
              " View run <strong style=\"color:#cdcd00\">hardy-wind-19</strong> at: <a href='https://wandb.ai/real100percent/logistic_regression_test/runs/vgf36t92' target=\"_blank\">https://wandb.ai/real100percent/logistic_regression_test/runs/vgf36t92</a><br/>Synced 5 W&B file(s), 0 media file(s), 0 artifact file(s) and 0 other file(s)"
            ]
          },
          "metadata": {}
        },
        {
          "output_type": "display_data",
          "data": {
            "text/plain": [
              "<IPython.core.display.HTML object>"
            ],
            "text/html": [
              "Find logs at: <code>./wandb/run-20230604_113358-vgf36t92/logs</code>"
            ]
          },
          "metadata": {}
        },
        {
          "output_type": "display_data",
          "data": {
            "text/plain": [
              "<IPython.core.display.HTML object>"
            ],
            "text/html": [
              "Successfully finished last run (ID:vgf36t92). Initializing new run:<br/>"
            ]
          },
          "metadata": {}
        },
        {
          "output_type": "display_data",
          "data": {
            "text/plain": [
              "<IPython.core.display.HTML object>"
            ],
            "text/html": [
              "Tracking run with wandb version 0.15.3"
            ]
          },
          "metadata": {}
        },
        {
          "output_type": "display_data",
          "data": {
            "text/plain": [
              "<IPython.core.display.HTML object>"
            ],
            "text/html": [
              "Run data is saved locally in <code>/content/wandb/run-20230604_113441-oc8bn6j3</code>"
            ]
          },
          "metadata": {}
        },
        {
          "output_type": "display_data",
          "data": {
            "text/plain": [
              "<IPython.core.display.HTML object>"
            ],
            "text/html": [
              "Syncing run <strong><a href='https://wandb.ai/real100percent/logistic_regression_final/runs/oc8bn6j3' target=\"_blank\">colorful-bee-1</a></strong> to <a href='https://wandb.ai/real100percent/logistic_regression_final' target=\"_blank\">Weights & Biases</a> (<a href='https://wandb.me/run' target=\"_blank\">docs</a>)<br/>"
            ]
          },
          "metadata": {}
        },
        {
          "output_type": "display_data",
          "data": {
            "text/plain": [
              "<IPython.core.display.HTML object>"
            ],
            "text/html": [
              " View project at <a href='https://wandb.ai/real100percent/logistic_regression_final' target=\"_blank\">https://wandb.ai/real100percent/logistic_regression_final</a>"
            ]
          },
          "metadata": {}
        },
        {
          "output_type": "display_data",
          "data": {
            "text/plain": [
              "<IPython.core.display.HTML object>"
            ],
            "text/html": [
              " View run at <a href='https://wandb.ai/real100percent/logistic_regression_final/runs/oc8bn6j3' target=\"_blank\">https://wandb.ai/real100percent/logistic_regression_final/runs/oc8bn6j3</a>"
            ]
          },
          "metadata": {}
        },
        {
          "output_type": "stream",
          "name": "stdout",
          "text": [
            "{'encoder': 'LabelEncoder', 'scaler': 'StandardScaler', 'test_size': 0.3, 'do_smote': True, 'search_method': 'Grid', 'cv': 3}\n"
          ]
        },
        {
          "output_type": "stream",
          "name": "stderr",
          "text": [
            "/usr/local/lib/python3.10/dist-packages/sklearn/preprocessing/_label.py:116: DataConversionWarning: A column-vector y was passed when a 1d array was expected. Please change the shape of y to (n_samples, ), for example using ravel().\n",
            "  y = column_or_1d(y, warn=True)\n"
          ]
        },
        {
          "output_type": "stream",
          "name": "stdout",
          "text": [
            "Fitting 3 folds for each of 72 candidates, totalling 216 fits\n",
            "LogisticRegression(random_state=42, solver='liblinear')\n",
            "{'C': 1.0, 'max_iter': 100, 'penalty': 'l2', 'solver': 'liblinear'}\n",
            "best_params_grid['C']:  1.0\n",
            "best_params_grid['max_iter']:  100\n",
            "best_params_grid['penalty']: l2\n",
            "best_params_grid['solver']: liblinear\n",
            "{'encoder': 'LabelEncoder', 'scaler': 'StandardScaler', 'test_size': 0.3, 'do_smote': True, 'search_method': 'Grid', 'cv': 3, 'C': 1.0, 'max_iter': 100, 'penalty': 'l2', 'solver': 'liblinear'}\n",
            "Accuracy: 0.22285714285714286\n",
            "Confusion Matrix:\n",
            " [[20 15  7  1  0  2  0  3  0  7  3  4  4  9  0  3]\n",
            " [ 7 31  7  6  0 11  0  5  2  2  3  1  2  4  0  2]\n",
            " [ 3  2 37 14  0  3  0  8  2  1  7  0  0  2  0  7]\n",
            " [ 3  6 14 39  0  7  0  7  1  2  3  4  0  1  0  7]\n",
            " [ 3  8  3  2  0  1  0  1  1  4  1  0  4  3  0  1]\n",
            " [ 5 20  8  4  1  6  0 10  2  4  2  1  3  2  0  0]\n",
            " [ 2  8 15  2  0  0  0  3  2  0  1  3  2  2  0  1]\n",
            " [ 5  9 18 17  0  7  0 19  2  0  9  2  2  2  0  7]\n",
            " [ 5  8  0  1  0  1  0  0 23 15 15  6 12  6  1  3]\n",
            " [14  8  4  3  0  0  0  2 18 14  5  5 10  3  0  3]\n",
            " [ 6  5 14 11  0  0  0  2  8  3 25 13  1  5  0  1]\n",
            " [ 8  9  6  4  0  0  0  4  2  3 11 23  4  8  2  6]\n",
            " [10  9  1  0  0  1  0  1  8  9  3  4 10  4  1  2]\n",
            " [ 4  3  9  4  0  2  0  0  7  7 11  2  7 10  0  4]\n",
            " [16  3  6  0  0  1  0  0  5  4  2  5  7  3  1  6]\n",
            " [ 2 11 16 11  0  1  0  4  3  4  8  2  3  2  1 15]]\n",
            "F1 Score: 0.18346932932691462\n",
            "Recall: 0.19830274660571107\n",
            "Precision: 0.18775990679701227\n",
            "Encoder: LabelEncoder, Scaler: StandardScaler, Test Size: 0.3, SMOTE: True\n"
          ]
        },
        {
          "output_type": "stream",
          "name": "stderr",
          "text": [
            "/usr/local/lib/python3.10/dist-packages/sklearn/model_selection/_validation.py:378: FitFailedWarning: \n",
            "36 fits failed out of a total of 216.\n",
            "The score on these train-test partitions for these parameters will be set to nan.\n",
            "If these failures are not expected, you can try to debug them by setting error_score='raise'.\n",
            "\n",
            "Below are more details about the failures:\n",
            "--------------------------------------------------------------------------------\n",
            "36 fits failed with the following error:\n",
            "Traceback (most recent call last):\n",
            "  File \"/usr/local/lib/python3.10/dist-packages/sklearn/model_selection/_validation.py\", line 686, in _fit_and_score\n",
            "    estimator.fit(X_train, y_train, **fit_params)\n",
            "  File \"/usr/local/lib/python3.10/dist-packages/sklearn/linear_model/_logistic.py\", line 1162, in fit\n",
            "    solver = _check_solver(self.solver, self.penalty, self.dual)\n",
            "  File \"/usr/local/lib/python3.10/dist-packages/sklearn/linear_model/_logistic.py\", line 71, in _check_solver\n",
            "    raise ValueError(\"penalty='none' is not supported for the liblinear solver\")\n",
            "ValueError: penalty='none' is not supported for the liblinear solver\n",
            "\n",
            "  warnings.warn(some_fits_failed_message, FitFailedWarning)\n",
            "/usr/local/lib/python3.10/dist-packages/sklearn/model_selection/_search.py:952: UserWarning: One or more of the test scores are non-finite: [0.22303922 0.22338936 0.2272409  0.2237395  0.2237395         nan\n",
            " 0.22303922 0.22338936 0.2272409  0.2237395  0.2237395         nan\n",
            " 0.22303922 0.22338936 0.2272409  0.2237395  0.2237395         nan\n",
            " 0.22303922 0.22338936 0.2272409  0.2237395  0.2237395         nan\n",
            " 0.22619048 0.22654062 0.22759104 0.2237395  0.2237395         nan\n",
            " 0.22619048 0.22654062 0.22759104 0.2237395  0.2237395         nan\n",
            " 0.22619048 0.22654062 0.22759104 0.2237395  0.2237395         nan\n",
            " 0.22619048 0.22654062 0.22759104 0.2237395  0.2237395         nan\n",
            " 0.22408964 0.22408964 0.22338936 0.2237395  0.2237395         nan\n",
            " 0.22408964 0.22408964 0.22338936 0.2237395  0.2237395         nan\n",
            " 0.22408964 0.22408964 0.22338936 0.2237395  0.2237395         nan\n",
            " 0.22408964 0.22408964 0.22338936 0.2237395  0.2237395         nan]\n",
            "  warnings.warn(\n",
            "/usr/local/lib/python3.10/dist-packages/sklearn/metrics/_classification.py:1344: UndefinedMetricWarning: Precision is ill-defined and being set to 0.0 in labels with no predicted samples. Use `zero_division` parameter to control this behavior.\n",
            "  _warn_prf(average, modifier, msg_start, len(result))\n"
          ]
        },
        {
          "output_type": "display_data",
          "data": {
            "text/plain": [
              "<IPython.core.display.HTML object>"
            ],
            "text/html": [
              "Finishing last run (ID:oc8bn6j3) before initializing another..."
            ]
          },
          "metadata": {}
        },
        {
          "output_type": "display_data",
          "data": {
            "text/plain": [
              "<IPython.core.display.HTML object>"
            ],
            "text/html": [
              "Waiting for W&B process to finish... <strong style=\"color:green\">(success).</strong>"
            ]
          },
          "metadata": {}
        },
        {
          "output_type": "display_data",
          "data": {
            "text/plain": [
              "<IPython.core.display.HTML object>"
            ],
            "text/html": [
              "<style>\n",
              "    table.wandb td:nth-child(1) { padding: 0 10px; text-align: left ; width: auto;} td:nth-child(2) {text-align: left ; width: 100%}\n",
              "    .wandb-row { display: flex; flex-direction: row; flex-wrap: wrap; justify-content: flex-start; width: 100% }\n",
              "    .wandb-col { display: flex; flex-direction: column; flex-basis: 100%; flex: 1; padding: 10px; }\n",
              "    </style>\n",
              "<div class=\"wandb-row\"><div class=\"wandb-col\"><h3>Run history:</h3><br/><table class=\"wandb\"><tr><td>Accuracy</td><td>▁</td></tr><tr><td>F1 Score</td><td>▁</td></tr><tr><td>Precision</td><td>▁</td></tr><tr><td>Recall</td><td>▁</td></tr></table><br/></div><div class=\"wandb-col\"><h3>Run summary:</h3><br/><table class=\"wandb\"><tr><td>Accuracy</td><td>0.22286</td></tr></table><br/></div></div>"
            ]
          },
          "metadata": {}
        },
        {
          "output_type": "display_data",
          "data": {
            "text/plain": [
              "<IPython.core.display.HTML object>"
            ],
            "text/html": [
              " View run <strong style=\"color:#cdcd00\">colorful-bee-1</strong> at: <a href='https://wandb.ai/real100percent/logistic_regression_final/runs/oc8bn6j3' target=\"_blank\">https://wandb.ai/real100percent/logistic_regression_final/runs/oc8bn6j3</a><br/>Synced 5 W&B file(s), 0 media file(s), 0 artifact file(s) and 0 other file(s)"
            ]
          },
          "metadata": {}
        },
        {
          "output_type": "display_data",
          "data": {
            "text/plain": [
              "<IPython.core.display.HTML object>"
            ],
            "text/html": [
              "Find logs at: <code>./wandb/run-20230604_113441-oc8bn6j3/logs</code>"
            ]
          },
          "metadata": {}
        },
        {
          "output_type": "display_data",
          "data": {
            "text/plain": [
              "<IPython.core.display.HTML object>"
            ],
            "text/html": [
              "Successfully finished last run (ID:oc8bn6j3). Initializing new run:<br/>"
            ]
          },
          "metadata": {}
        },
        {
          "output_type": "display_data",
          "data": {
            "text/plain": [
              "<IPython.core.display.HTML object>"
            ],
            "text/html": [
              "Tracking run with wandb version 0.15.3"
            ]
          },
          "metadata": {}
        },
        {
          "output_type": "display_data",
          "data": {
            "text/plain": [
              "<IPython.core.display.HTML object>"
            ],
            "text/html": [
              "Run data is saved locally in <code>/content/wandb/run-20230604_113506-57hzo7i9</code>"
            ]
          },
          "metadata": {}
        },
        {
          "output_type": "display_data",
          "data": {
            "text/plain": [
              "<IPython.core.display.HTML object>"
            ],
            "text/html": [
              "Syncing run <strong><a href='https://wandb.ai/real100percent/logistic_regression_final/runs/57hzo7i9' target=\"_blank\">peachy-frost-2</a></strong> to <a href='https://wandb.ai/real100percent/logistic_regression_final' target=\"_blank\">Weights & Biases</a> (<a href='https://wandb.me/run' target=\"_blank\">docs</a>)<br/>"
            ]
          },
          "metadata": {}
        },
        {
          "output_type": "display_data",
          "data": {
            "text/plain": [
              "<IPython.core.display.HTML object>"
            ],
            "text/html": [
              " View project at <a href='https://wandb.ai/real100percent/logistic_regression_final' target=\"_blank\">https://wandb.ai/real100percent/logistic_regression_final</a>"
            ]
          },
          "metadata": {}
        },
        {
          "output_type": "display_data",
          "data": {
            "text/plain": [
              "<IPython.core.display.HTML object>"
            ],
            "text/html": [
              " View run at <a href='https://wandb.ai/real100percent/logistic_regression_final/runs/57hzo7i9' target=\"_blank\">https://wandb.ai/real100percent/logistic_regression_final/runs/57hzo7i9</a>"
            ]
          },
          "metadata": {}
        },
        {
          "output_type": "stream",
          "name": "stdout",
          "text": [
            "{'encoder': 'LabelEncoder', 'scaler': 'StandardScaler', 'test_size': 0.3, 'do_smote': True, 'search_method': 'Grid', 'cv': 5}\n"
          ]
        },
        {
          "output_type": "stream",
          "name": "stderr",
          "text": [
            "/usr/local/lib/python3.10/dist-packages/sklearn/preprocessing/_label.py:116: DataConversionWarning: A column-vector y was passed when a 1d array was expected. Please change the shape of y to (n_samples, ), for example using ravel().\n",
            "  y = column_or_1d(y, warn=True)\n"
          ]
        },
        {
          "output_type": "stream",
          "name": "stdout",
          "text": [
            "Fitting 5 folds for each of 72 candidates, totalling 360 fits\n"
          ]
        },
        {
          "output_type": "stream",
          "name": "stderr",
          "text": [
            "/usr/local/lib/python3.10/dist-packages/sklearn/model_selection/_validation.py:378: FitFailedWarning: \n",
            "60 fits failed out of a total of 360.\n",
            "The score on these train-test partitions for these parameters will be set to nan.\n",
            "If these failures are not expected, you can try to debug them by setting error_score='raise'.\n",
            "\n",
            "Below are more details about the failures:\n",
            "--------------------------------------------------------------------------------\n",
            "60 fits failed with the following error:\n",
            "Traceback (most recent call last):\n",
            "  File \"/usr/local/lib/python3.10/dist-packages/sklearn/model_selection/_validation.py\", line 686, in _fit_and_score\n",
            "    estimator.fit(X_train, y_train, **fit_params)\n",
            "  File \"/usr/local/lib/python3.10/dist-packages/sklearn/linear_model/_logistic.py\", line 1162, in fit\n",
            "    solver = _check_solver(self.solver, self.penalty, self.dual)\n",
            "  File \"/usr/local/lib/python3.10/dist-packages/sklearn/linear_model/_logistic.py\", line 71, in _check_solver\n",
            "    raise ValueError(\"penalty='none' is not supported for the liblinear solver\")\n",
            "ValueError: penalty='none' is not supported for the liblinear solver\n",
            "\n",
            "  warnings.warn(some_fits_failed_message, FitFailedWarning)\n",
            "/usr/local/lib/python3.10/dist-packages/sklearn/model_selection/_search.py:952: UserWarning: One or more of the test scores are non-finite: [0.22619377 0.22619377 0.22549508 0.22479272 0.22479272        nan\n",
            " 0.22619377 0.22619377 0.22549508 0.22479272 0.22479272        nan\n",
            " 0.22619377 0.22619377 0.22549508 0.22479272 0.22479272        nan\n",
            " 0.22619377 0.22619377 0.22549508 0.22479272 0.22479272        nan\n",
            " 0.2272464  0.2272464  0.22584535 0.22479272 0.22479272        nan\n",
            " 0.2272464  0.2272464  0.22584535 0.22479272 0.22479272        nan\n",
            " 0.2272464  0.2272464  0.22584535 0.22479272 0.22479272        nan\n",
            " 0.2272464  0.2272464  0.22584535 0.22479272 0.22479272        nan\n",
            " 0.22513931 0.22513931 0.22268992 0.22479272 0.22479272        nan\n",
            " 0.22513931 0.22513931 0.22268992 0.22479272 0.22479272        nan\n",
            " 0.22513931 0.22513931 0.22268992 0.22479272 0.22479272        nan\n",
            " 0.22513931 0.22513931 0.22268992 0.22479272 0.22479272        nan]\n",
            "  warnings.warn(\n"
          ]
        },
        {
          "output_type": "stream",
          "name": "stdout",
          "text": [
            "LogisticRegression(random_state=42)\n",
            "{'C': 1.0, 'max_iter': 100, 'penalty': 'l2', 'solver': 'lbfgs'}\n",
            "best_params_grid['C']:  1.0\n",
            "best_params_grid['max_iter']:  100\n",
            "best_params_grid['penalty']: l2\n",
            "best_params_grid['solver']: lbfgs\n",
            "{'encoder': 'LabelEncoder', 'scaler': 'StandardScaler', 'test_size': 0.3, 'do_smote': True, 'search_method': 'Grid', 'cv': 5, 'C': 1.0, 'max_iter': 100, 'penalty': 'l2', 'solver': 'lbfgs'}\n",
            "Accuracy: 0.22122448979591836\n",
            "Confusion Matrix:\n",
            " [[20 15  6  1  0  2  0  3  0  7  3  3  5  9  0  4]\n",
            " [ 6 30  5  7  1 11  0  6  2  2  3  1  2  5  0  2]\n",
            " [ 4  1 36 14  0  3  0  8  2  0  7  0  1  2  0  8]\n",
            " [ 4  6 13 40  0  6  0 11  1  1  3  3  0  0  0  6]\n",
            " [ 4  8  2  2  1  1  0  1  1  3  2  0  4  2  0  1]\n",
            " [ 5 20  6  3  1  6  0 13  2  2  2  1  5  2  0  0]\n",
            " [ 2  7 12  3  0  1  0  5  2  1  1  3  1  2  0  1]\n",
            " [ 5  7 18 16  0  7  0 23  2  0  9  2  2  2  0  6]\n",
            " [ 7  6  0  1  0  1  0  1 24 14 15  5 13  6  0  3]\n",
            " [14  7  3  3  0  2  1  2 17 12  5  5 11  4  0  3]\n",
            " [ 6  5 13 10  0  0  0  2 10  1 24 14  2  5  0  2]\n",
            " [ 9  8  6  4  0  0  0  5  3  5 10 22  3  7  2  6]\n",
            " [10  9  0  0  0  1  0  1  7 11  3  4 10  4  1  2]\n",
            " [ 5  3  8  4  0  2  0  0  8  5 11  2  8  9  0  5]\n",
            " [17  1  6  0  0  1  0  0  5  4  2  5  6  5  1  6]\n",
            " [ 5 10 16 12  0  1  0  3  2  4  8  2  3  3  1 13]]\n",
            "F1 Score: 0.18474910391181504\n",
            "Recall: 0.19745458949768138\n",
            "Precision: 0.20690355330958266\n",
            "Encoder: LabelEncoder, Scaler: StandardScaler, Test Size: 0.3, SMOTE: True\n"
          ]
        },
        {
          "output_type": "display_data",
          "data": {
            "text/plain": [
              "<IPython.core.display.HTML object>"
            ],
            "text/html": [
              "Finishing last run (ID:57hzo7i9) before initializing another..."
            ]
          },
          "metadata": {}
        },
        {
          "output_type": "display_data",
          "data": {
            "text/plain": [
              "<IPython.core.display.HTML object>"
            ],
            "text/html": [
              "Waiting for W&B process to finish... <strong style=\"color:green\">(success).</strong>"
            ]
          },
          "metadata": {}
        },
        {
          "output_type": "display_data",
          "data": {
            "text/plain": [
              "VBox(children=(Label(value='0.001 MB of 0.009 MB uploaded (0.000 MB deduped)\\r'), FloatProgress(value=0.115827…"
            ],
            "application/vnd.jupyter.widget-view+json": {
              "version_major": 2,
              "version_minor": 0,
              "model_id": "06d62607a9ac498bae72a7dcf29b9fbe"
            }
          },
          "metadata": {}
        },
        {
          "output_type": "display_data",
          "data": {
            "text/plain": [
              "<IPython.core.display.HTML object>"
            ],
            "text/html": [
              "<style>\n",
              "    table.wandb td:nth-child(1) { padding: 0 10px; text-align: left ; width: auto;} td:nth-child(2) {text-align: left ; width: 100%}\n",
              "    .wandb-row { display: flex; flex-direction: row; flex-wrap: wrap; justify-content: flex-start; width: 100% }\n",
              "    .wandb-col { display: flex; flex-direction: column; flex-basis: 100%; flex: 1; padding: 10px; }\n",
              "    </style>\n",
              "<div class=\"wandb-row\"><div class=\"wandb-col\"><h3>Run history:</h3><br/><table class=\"wandb\"><tr><td>Accuracy</td><td>▁</td></tr><tr><td>F1 Score</td><td>▁</td></tr><tr><td>Precision</td><td>▁</td></tr><tr><td>Recall</td><td>▁</td></tr></table><br/></div><div class=\"wandb-col\"><h3>Run summary:</h3><br/><table class=\"wandb\"><tr><td>Accuracy</td><td>0.22122</td></tr></table><br/></div></div>"
            ]
          },
          "metadata": {}
        },
        {
          "output_type": "display_data",
          "data": {
            "text/plain": [
              "<IPython.core.display.HTML object>"
            ],
            "text/html": [
              " View run <strong style=\"color:#cdcd00\">peachy-frost-2</strong> at: <a href='https://wandb.ai/real100percent/logistic_regression_final/runs/57hzo7i9' target=\"_blank\">https://wandb.ai/real100percent/logistic_regression_final/runs/57hzo7i9</a><br/>Synced 5 W&B file(s), 0 media file(s), 0 artifact file(s) and 0 other file(s)"
            ]
          },
          "metadata": {}
        },
        {
          "output_type": "display_data",
          "data": {
            "text/plain": [
              "<IPython.core.display.HTML object>"
            ],
            "text/html": [
              "Find logs at: <code>./wandb/run-20230604_113506-57hzo7i9/logs</code>"
            ]
          },
          "metadata": {}
        },
        {
          "output_type": "display_data",
          "data": {
            "text/plain": [
              "<IPython.core.display.HTML object>"
            ],
            "text/html": [
              "Successfully finished last run (ID:57hzo7i9). Initializing new run:<br/>"
            ]
          },
          "metadata": {}
        },
        {
          "output_type": "display_data",
          "data": {
            "text/plain": [
              "<IPython.core.display.HTML object>"
            ],
            "text/html": [
              "Tracking run with wandb version 0.15.3"
            ]
          },
          "metadata": {}
        },
        {
          "output_type": "display_data",
          "data": {
            "text/plain": [
              "<IPython.core.display.HTML object>"
            ],
            "text/html": [
              "Run data is saved locally in <code>/content/wandb/run-20230604_113545-fzcm95ev</code>"
            ]
          },
          "metadata": {}
        },
        {
          "output_type": "display_data",
          "data": {
            "text/plain": [
              "<IPython.core.display.HTML object>"
            ],
            "text/html": [
              "Syncing run <strong><a href='https://wandb.ai/real100percent/logistic_regression_final/runs/fzcm95ev' target=\"_blank\">curious-dream-3</a></strong> to <a href='https://wandb.ai/real100percent/logistic_regression_final' target=\"_blank\">Weights & Biases</a> (<a href='https://wandb.me/run' target=\"_blank\">docs</a>)<br/>"
            ]
          },
          "metadata": {}
        },
        {
          "output_type": "display_data",
          "data": {
            "text/plain": [
              "<IPython.core.display.HTML object>"
            ],
            "text/html": [
              " View project at <a href='https://wandb.ai/real100percent/logistic_regression_final' target=\"_blank\">https://wandb.ai/real100percent/logistic_regression_final</a>"
            ]
          },
          "metadata": {}
        },
        {
          "output_type": "display_data",
          "data": {
            "text/plain": [
              "<IPython.core.display.HTML object>"
            ],
            "text/html": [
              " View run at <a href='https://wandb.ai/real100percent/logistic_regression_final/runs/fzcm95ev' target=\"_blank\">https://wandb.ai/real100percent/logistic_regression_final/runs/fzcm95ev</a>"
            ]
          },
          "metadata": {}
        },
        {
          "output_type": "stream",
          "name": "stdout",
          "text": [
            "{'encoder': 'LabelEncoder', 'scaler': 'StandardScaler', 'test_size': 0.3, 'do_smote': True, 'search_method': 'Grid', 'cv': 7}\n"
          ]
        },
        {
          "output_type": "stream",
          "name": "stderr",
          "text": [
            "/usr/local/lib/python3.10/dist-packages/sklearn/preprocessing/_label.py:116: DataConversionWarning: A column-vector y was passed when a 1d array was expected. Please change the shape of y to (n_samples, ), for example using ravel().\n",
            "  y = column_or_1d(y, warn=True)\n"
          ]
        },
        {
          "output_type": "stream",
          "name": "stdout",
          "text": [
            "Fitting 7 folds for each of 72 candidates, totalling 504 fits\n"
          ]
        },
        {
          "output_type": "stream",
          "name": "stderr",
          "text": [
            "/usr/local/lib/python3.10/dist-packages/sklearn/model_selection/_validation.py:378: FitFailedWarning: \n",
            "84 fits failed out of a total of 504.\n",
            "The score on these train-test partitions for these parameters will be set to nan.\n",
            "If these failures are not expected, you can try to debug them by setting error_score='raise'.\n",
            "\n",
            "Below are more details about the failures:\n",
            "--------------------------------------------------------------------------------\n",
            "84 fits failed with the following error:\n",
            "Traceback (most recent call last):\n",
            "  File \"/usr/local/lib/python3.10/dist-packages/sklearn/model_selection/_validation.py\", line 686, in _fit_and_score\n",
            "    estimator.fit(X_train, y_train, **fit_params)\n",
            "  File \"/usr/local/lib/python3.10/dist-packages/sklearn/linear_model/_logistic.py\", line 1162, in fit\n",
            "    solver = _check_solver(self.solver, self.penalty, self.dual)\n",
            "  File \"/usr/local/lib/python3.10/dist-packages/sklearn/linear_model/_logistic.py\", line 71, in _check_solver\n",
            "    raise ValueError(\"penalty='none' is not supported for the liblinear solver\")\n",
            "ValueError: penalty='none' is not supported for the liblinear solver\n",
            "\n",
            "  warnings.warn(some_fits_failed_message, FitFailedWarning)\n",
            "/usr/local/lib/python3.10/dist-packages/sklearn/model_selection/_search.py:952: UserWarning: One or more of the test scores are non-finite: [0.21743697 0.21743697 0.21673669 0.21673669 0.21708683        nan\n",
            " 0.21743697 0.21743697 0.21673669 0.21673669 0.21708683        nan\n",
            " 0.21743697 0.21743697 0.21673669 0.21673669 0.21708683        nan\n",
            " 0.21743697 0.21743697 0.21673669 0.21673669 0.21708683        nan\n",
            " 0.21638655 0.21638655 0.21918768 0.21673669 0.21708683        nan\n",
            " 0.21638655 0.21638655 0.21918768 0.21673669 0.21708683        nan\n",
            " 0.21638655 0.21638655 0.21918768 0.21673669 0.21708683        nan\n",
            " 0.21638655 0.21638655 0.21918768 0.21673669 0.21708683        nan\n",
            " 0.21778711 0.21778711 0.21463585 0.21673669 0.21708683        nan\n",
            " 0.21778711 0.21778711 0.21463585 0.21673669 0.21708683        nan\n",
            " 0.21778711 0.21778711 0.21463585 0.21673669 0.21708683        nan\n",
            " 0.21778711 0.21778711 0.21463585 0.21673669 0.21708683        nan]\n",
            "  warnings.warn(\n",
            "/usr/local/lib/python3.10/dist-packages/sklearn/metrics/_classification.py:1344: UndefinedMetricWarning: Precision is ill-defined and being set to 0.0 in labels with no predicted samples. Use `zero_division` parameter to control this behavior.\n",
            "  _warn_prf(average, modifier, msg_start, len(result))\n"
          ]
        },
        {
          "output_type": "stream",
          "name": "stdout",
          "text": [
            "LogisticRegression(random_state=42, solver='liblinear')\n",
            "{'C': 1.0, 'max_iter': 100, 'penalty': 'l2', 'solver': 'liblinear'}\n",
            "best_params_grid['C']:  1.0\n",
            "best_params_grid['max_iter']:  100\n",
            "best_params_grid['penalty']: l2\n",
            "best_params_grid['solver']: liblinear\n",
            "{'encoder': 'LabelEncoder', 'scaler': 'StandardScaler', 'test_size': 0.3, 'do_smote': True, 'search_method': 'Grid', 'cv': 7, 'C': 1.0, 'max_iter': 100, 'penalty': 'l2', 'solver': 'liblinear'}\n",
            "Accuracy: 0.22285714285714286\n",
            "Confusion Matrix:\n",
            " [[20 15  7  1  0  2  0  3  0  7  3  4  4  9  0  3]\n",
            " [ 7 31  7  6  0 11  0  5  2  2  3  1  2  4  0  2]\n",
            " [ 3  2 37 14  0  3  0  8  2  1  7  0  0  2  0  7]\n",
            " [ 3  6 14 39  0  7  0  7  1  2  3  4  0  1  0  7]\n",
            " [ 3  8  3  2  0  1  0  1  1  4  1  0  4  3  0  1]\n",
            " [ 5 20  8  4  1  6  0 10  2  4  2  1  3  2  0  0]\n",
            " [ 2  8 15  2  0  0  0  3  2  0  1  3  2  2  0  1]\n",
            " [ 5  9 18 17  0  7  0 19  2  0  9  2  2  2  0  7]\n",
            " [ 5  8  0  1  0  1  0  0 23 15 15  6 12  6  1  3]\n",
            " [14  8  4  3  0  0  0  2 18 14  5  5 10  3  0  3]\n",
            " [ 6  5 14 11  0  0  0  2  8  3 25 13  1  5  0  1]\n",
            " [ 8  9  6  4  0  0  0  4  2  3 11 23  4  8  2  6]\n",
            " [10  9  1  0  0  1  0  1  8  9  3  4 10  4  1  2]\n",
            " [ 4  3  9  4  0  2  0  0  7  7 11  2  7 10  0  4]\n",
            " [16  3  6  0  0  1  0  0  5  4  2  5  7  3  1  6]\n",
            " [ 2 11 16 11  0  1  0  4  3  4  8  2  3  2  1 15]]\n",
            "F1 Score: 0.18346932932691462\n",
            "Recall: 0.19830274660571107\n",
            "Precision: 0.18775990679701227\n",
            "Encoder: LabelEncoder, Scaler: StandardScaler, Test Size: 0.3, SMOTE: False\n"
          ]
        },
        {
          "output_type": "display_data",
          "data": {
            "text/plain": [
              "<IPython.core.display.HTML object>"
            ],
            "text/html": [
              "Finishing last run (ID:fzcm95ev) before initializing another..."
            ]
          },
          "metadata": {}
        },
        {
          "output_type": "display_data",
          "data": {
            "text/plain": [
              "<IPython.core.display.HTML object>"
            ],
            "text/html": [
              "Waiting for W&B process to finish... <strong style=\"color:green\">(success).</strong>"
            ]
          },
          "metadata": {}
        },
        {
          "output_type": "display_data",
          "data": {
            "text/plain": [
              "<IPython.core.display.HTML object>"
            ],
            "text/html": [
              "<style>\n",
              "    table.wandb td:nth-child(1) { padding: 0 10px; text-align: left ; width: auto;} td:nth-child(2) {text-align: left ; width: 100%}\n",
              "    .wandb-row { display: flex; flex-direction: row; flex-wrap: wrap; justify-content: flex-start; width: 100% }\n",
              "    .wandb-col { display: flex; flex-direction: column; flex-basis: 100%; flex: 1; padding: 10px; }\n",
              "    </style>\n",
              "<div class=\"wandb-row\"><div class=\"wandb-col\"><h3>Run history:</h3><br/><table class=\"wandb\"><tr><td>Accuracy</td><td>▁</td></tr><tr><td>F1 Score</td><td>▁</td></tr><tr><td>Precision</td><td>▁</td></tr><tr><td>Recall</td><td>▁</td></tr></table><br/></div><div class=\"wandb-col\"><h3>Run summary:</h3><br/><table class=\"wandb\"><tr><td>Accuracy</td><td>0.22286</td></tr></table><br/></div></div>"
            ]
          },
          "metadata": {}
        },
        {
          "output_type": "display_data",
          "data": {
            "text/plain": [
              "<IPython.core.display.HTML object>"
            ],
            "text/html": [
              " View run <strong style=\"color:#cdcd00\">curious-dream-3</strong> at: <a href='https://wandb.ai/real100percent/logistic_regression_final/runs/fzcm95ev' target=\"_blank\">https://wandb.ai/real100percent/logistic_regression_final/runs/fzcm95ev</a><br/>Synced 5 W&B file(s), 0 media file(s), 0 artifact file(s) and 0 other file(s)"
            ]
          },
          "metadata": {}
        },
        {
          "output_type": "display_data",
          "data": {
            "text/plain": [
              "<IPython.core.display.HTML object>"
            ],
            "text/html": [
              "Find logs at: <code>./wandb/run-20230604_113545-fzcm95ev/logs</code>"
            ]
          },
          "metadata": {}
        },
        {
          "output_type": "display_data",
          "data": {
            "text/plain": [
              "<IPython.core.display.HTML object>"
            ],
            "text/html": [
              "Successfully finished last run (ID:fzcm95ev). Initializing new run:<br/>"
            ]
          },
          "metadata": {}
        },
        {
          "output_type": "display_data",
          "data": {
            "text/plain": [
              "<IPython.core.display.HTML object>"
            ],
            "text/html": [
              "Tracking run with wandb version 0.15.3"
            ]
          },
          "metadata": {}
        },
        {
          "output_type": "display_data",
          "data": {
            "text/plain": [
              "<IPython.core.display.HTML object>"
            ],
            "text/html": [
              "Run data is saved locally in <code>/content/wandb/run-20230604_113638-kf9yebp2</code>"
            ]
          },
          "metadata": {}
        },
        {
          "output_type": "display_data",
          "data": {
            "text/plain": [
              "<IPython.core.display.HTML object>"
            ],
            "text/html": [
              "Syncing run <strong><a href='https://wandb.ai/real100percent/logistic_regression_final/runs/kf9yebp2' target=\"_blank\">gallant-dream-4</a></strong> to <a href='https://wandb.ai/real100percent/logistic_regression_final' target=\"_blank\">Weights & Biases</a> (<a href='https://wandb.me/run' target=\"_blank\">docs</a>)<br/>"
            ]
          },
          "metadata": {}
        },
        {
          "output_type": "display_data",
          "data": {
            "text/plain": [
              "<IPython.core.display.HTML object>"
            ],
            "text/html": [
              " View project at <a href='https://wandb.ai/real100percent/logistic_regression_final' target=\"_blank\">https://wandb.ai/real100percent/logistic_regression_final</a>"
            ]
          },
          "metadata": {}
        },
        {
          "output_type": "display_data",
          "data": {
            "text/plain": [
              "<IPython.core.display.HTML object>"
            ],
            "text/html": [
              " View run at <a href='https://wandb.ai/real100percent/logistic_regression_final/runs/kf9yebp2' target=\"_blank\">https://wandb.ai/real100percent/logistic_regression_final/runs/kf9yebp2</a>"
            ]
          },
          "metadata": {}
        },
        {
          "output_type": "stream",
          "name": "stdout",
          "text": [
            "{'encoder': 'LabelEncoder', 'scaler': 'StandardScaler', 'test_size': 0.3, 'do_smote': False, 'search_method': 'Grid', 'cv': 3}\n",
            "Fitting 3 folds for each of 72 candidates, totalling 216 fits\n"
          ]
        },
        {
          "output_type": "stream",
          "name": "stderr",
          "text": [
            "/usr/local/lib/python3.10/dist-packages/sklearn/preprocessing/_label.py:116: DataConversionWarning: A column-vector y was passed when a 1d array was expected. Please change the shape of y to (n_samples, ), for example using ravel().\n",
            "  y = column_or_1d(y, warn=True)\n"
          ]
        },
        {
          "output_type": "stream",
          "name": "stdout",
          "text": [
            "LogisticRegression(random_state=42, solver='liblinear')\n",
            "{'C': 1.0, 'max_iter': 100, 'penalty': 'l2', 'solver': 'liblinear'}\n",
            "best_params_grid['C']:  1.0\n",
            "best_params_grid['max_iter']:  100\n",
            "best_params_grid['penalty']: l2\n",
            "best_params_grid['solver']: liblinear\n",
            "{'encoder': 'LabelEncoder', 'scaler': 'StandardScaler', 'test_size': 0.3, 'do_smote': False, 'search_method': 'Grid', 'cv': 3, 'C': 1.0, 'max_iter': 100, 'penalty': 'l2', 'solver': 'liblinear'}\n",
            "Accuracy: 0.22285714285714286\n",
            "Confusion Matrix:\n",
            " [[20 15  7  1  0  2  0  3  0  7  3  4  4  9  0  3]\n",
            " [ 7 31  7  6  0 11  0  5  2  2  3  1  2  4  0  2]\n",
            " [ 3  2 37 14  0  3  0  8  2  1  7  0  0  2  0  7]\n",
            " [ 3  6 14 39  0  7  0  7  1  2  3  4  0  1  0  7]\n",
            " [ 3  8  3  2  0  1  0  1  1  4  1  0  4  3  0  1]\n",
            " [ 5 20  8  4  1  6  0 10  2  4  2  1  3  2  0  0]\n",
            " [ 2  8 15  2  0  0  0  3  2  0  1  3  2  2  0  1]\n",
            " [ 5  9 18 17  0  7  0 19  2  0  9  2  2  2  0  7]\n",
            " [ 5  8  0  1  0  1  0  0 23 15 15  6 12  6  1  3]\n",
            " [14  8  4  3  0  0  0  2 18 14  5  5 10  3  0  3]\n",
            " [ 6  5 14 11  0  0  0  2  8  3 25 13  1  5  0  1]\n",
            " [ 8  9  6  4  0  0  0  4  2  3 11 23  4  8  2  6]\n",
            " [10  9  1  0  0  1  0  1  8  9  3  4 10  4  1  2]\n",
            " [ 4  3  9  4  0  2  0  0  7  7 11  2  7 10  0  4]\n",
            " [16  3  6  0  0  1  0  0  5  4  2  5  7  3  1  6]\n",
            " [ 2 11 16 11  0  1  0  4  3  4  8  2  3  2  1 15]]\n",
            "F1 Score: 0.18346932932691462\n",
            "Recall: 0.19830274660571107\n",
            "Precision: 0.18775990679701227\n",
            "Encoder: LabelEncoder, Scaler: StandardScaler, Test Size: 0.3, SMOTE: False\n"
          ]
        },
        {
          "output_type": "stream",
          "name": "stderr",
          "text": [
            "/usr/local/lib/python3.10/dist-packages/sklearn/model_selection/_validation.py:378: FitFailedWarning: \n",
            "36 fits failed out of a total of 216.\n",
            "The score on these train-test partitions for these parameters will be set to nan.\n",
            "If these failures are not expected, you can try to debug them by setting error_score='raise'.\n",
            "\n",
            "Below are more details about the failures:\n",
            "--------------------------------------------------------------------------------\n",
            "36 fits failed with the following error:\n",
            "Traceback (most recent call last):\n",
            "  File \"/usr/local/lib/python3.10/dist-packages/sklearn/model_selection/_validation.py\", line 686, in _fit_and_score\n",
            "    estimator.fit(X_train, y_train, **fit_params)\n",
            "  File \"/usr/local/lib/python3.10/dist-packages/sklearn/linear_model/_logistic.py\", line 1162, in fit\n",
            "    solver = _check_solver(self.solver, self.penalty, self.dual)\n",
            "  File \"/usr/local/lib/python3.10/dist-packages/sklearn/linear_model/_logistic.py\", line 71, in _check_solver\n",
            "    raise ValueError(\"penalty='none' is not supported for the liblinear solver\")\n",
            "ValueError: penalty='none' is not supported for the liblinear solver\n",
            "\n",
            "  warnings.warn(some_fits_failed_message, FitFailedWarning)\n",
            "/usr/local/lib/python3.10/dist-packages/sklearn/model_selection/_search.py:952: UserWarning: One or more of the test scores are non-finite: [0.22303922 0.22338936 0.2272409  0.2237395  0.2237395         nan\n",
            " 0.22303922 0.22338936 0.2272409  0.2237395  0.2237395         nan\n",
            " 0.22303922 0.22338936 0.2272409  0.2237395  0.2237395         nan\n",
            " 0.22303922 0.22338936 0.2272409  0.2237395  0.2237395         nan\n",
            " 0.22619048 0.22654062 0.22759104 0.2237395  0.2237395         nan\n",
            " 0.22619048 0.22654062 0.22759104 0.2237395  0.2237395         nan\n",
            " 0.22619048 0.22654062 0.22759104 0.2237395  0.2237395         nan\n",
            " 0.22619048 0.22654062 0.22759104 0.2237395  0.2237395         nan\n",
            " 0.22408964 0.22408964 0.22338936 0.2237395  0.2237395         nan\n",
            " 0.22408964 0.22408964 0.22338936 0.2237395  0.2237395         nan\n",
            " 0.22408964 0.22408964 0.22338936 0.2237395  0.2237395         nan\n",
            " 0.22408964 0.22408964 0.22338936 0.2237395  0.2237395         nan]\n",
            "  warnings.warn(\n",
            "/usr/local/lib/python3.10/dist-packages/sklearn/metrics/_classification.py:1344: UndefinedMetricWarning: Precision is ill-defined and being set to 0.0 in labels with no predicted samples. Use `zero_division` parameter to control this behavior.\n",
            "  _warn_prf(average, modifier, msg_start, len(result))\n"
          ]
        },
        {
          "output_type": "display_data",
          "data": {
            "text/plain": [
              "<IPython.core.display.HTML object>"
            ],
            "text/html": [
              "Finishing last run (ID:kf9yebp2) before initializing another..."
            ]
          },
          "metadata": {}
        },
        {
          "output_type": "display_data",
          "data": {
            "text/plain": [
              "<IPython.core.display.HTML object>"
            ],
            "text/html": [
              "Waiting for W&B process to finish... <strong style=\"color:green\">(success).</strong>"
            ]
          },
          "metadata": {}
        },
        {
          "output_type": "display_data",
          "data": {
            "text/plain": [
              "<IPython.core.display.HTML object>"
            ],
            "text/html": [
              "<style>\n",
              "    table.wandb td:nth-child(1) { padding: 0 10px; text-align: left ; width: auto;} td:nth-child(2) {text-align: left ; width: 100%}\n",
              "    .wandb-row { display: flex; flex-direction: row; flex-wrap: wrap; justify-content: flex-start; width: 100% }\n",
              "    .wandb-col { display: flex; flex-direction: column; flex-basis: 100%; flex: 1; padding: 10px; }\n",
              "    </style>\n",
              "<div class=\"wandb-row\"><div class=\"wandb-col\"><h3>Run history:</h3><br/><table class=\"wandb\"><tr><td>Accuracy</td><td>▁</td></tr><tr><td>F1 Score</td><td>▁</td></tr><tr><td>Precision</td><td>▁</td></tr><tr><td>Recall</td><td>▁</td></tr></table><br/></div><div class=\"wandb-col\"><h3>Run summary:</h3><br/><table class=\"wandb\"><tr><td>Accuracy</td><td>0.22286</td></tr></table><br/></div></div>"
            ]
          },
          "metadata": {}
        },
        {
          "output_type": "display_data",
          "data": {
            "text/plain": [
              "<IPython.core.display.HTML object>"
            ],
            "text/html": [
              " View run <strong style=\"color:#cdcd00\">gallant-dream-4</strong> at: <a href='https://wandb.ai/real100percent/logistic_regression_final/runs/kf9yebp2' target=\"_blank\">https://wandb.ai/real100percent/logistic_regression_final/runs/kf9yebp2</a><br/>Synced 5 W&B file(s), 0 media file(s), 0 artifact file(s) and 0 other file(s)"
            ]
          },
          "metadata": {}
        },
        {
          "output_type": "display_data",
          "data": {
            "text/plain": [
              "<IPython.core.display.HTML object>"
            ],
            "text/html": [
              "Find logs at: <code>./wandb/run-20230604_113638-kf9yebp2/logs</code>"
            ]
          },
          "metadata": {}
        },
        {
          "output_type": "display_data",
          "data": {
            "text/plain": [
              "<IPython.core.display.HTML object>"
            ],
            "text/html": [
              "Successfully finished last run (ID:kf9yebp2). Initializing new run:<br/>"
            ]
          },
          "metadata": {}
        },
        {
          "output_type": "display_data",
          "data": {
            "text/plain": [
              "<IPython.core.display.HTML object>"
            ],
            "text/html": [
              "Tracking run with wandb version 0.15.3"
            ]
          },
          "metadata": {}
        },
        {
          "output_type": "display_data",
          "data": {
            "text/plain": [
              "<IPython.core.display.HTML object>"
            ],
            "text/html": [
              "Run data is saved locally in <code>/content/wandb/run-20230604_113703-0bskgdby</code>"
            ]
          },
          "metadata": {}
        },
        {
          "output_type": "display_data",
          "data": {
            "text/plain": [
              "<IPython.core.display.HTML object>"
            ],
            "text/html": [
              "Syncing run <strong><a href='https://wandb.ai/real100percent/logistic_regression_final/runs/0bskgdby' target=\"_blank\">mild-serenity-5</a></strong> to <a href='https://wandb.ai/real100percent/logistic_regression_final' target=\"_blank\">Weights & Biases</a> (<a href='https://wandb.me/run' target=\"_blank\">docs</a>)<br/>"
            ]
          },
          "metadata": {}
        },
        {
          "output_type": "display_data",
          "data": {
            "text/plain": [
              "<IPython.core.display.HTML object>"
            ],
            "text/html": [
              " View project at <a href='https://wandb.ai/real100percent/logistic_regression_final' target=\"_blank\">https://wandb.ai/real100percent/logistic_regression_final</a>"
            ]
          },
          "metadata": {}
        },
        {
          "output_type": "display_data",
          "data": {
            "text/plain": [
              "<IPython.core.display.HTML object>"
            ],
            "text/html": [
              " View run at <a href='https://wandb.ai/real100percent/logistic_regression_final/runs/0bskgdby' target=\"_blank\">https://wandb.ai/real100percent/logistic_regression_final/runs/0bskgdby</a>"
            ]
          },
          "metadata": {}
        },
        {
          "output_type": "stream",
          "name": "stdout",
          "text": [
            "{'encoder': 'LabelEncoder', 'scaler': 'StandardScaler', 'test_size': 0.3, 'do_smote': False, 'search_method': 'Grid', 'cv': 5}\n"
          ]
        },
        {
          "output_type": "stream",
          "name": "stderr",
          "text": [
            "/usr/local/lib/python3.10/dist-packages/sklearn/preprocessing/_label.py:116: DataConversionWarning: A column-vector y was passed when a 1d array was expected. Please change the shape of y to (n_samples, ), for example using ravel().\n",
            "  y = column_or_1d(y, warn=True)\n"
          ]
        },
        {
          "output_type": "stream",
          "name": "stdout",
          "text": [
            "Fitting 5 folds for each of 72 candidates, totalling 360 fits\n"
          ]
        },
        {
          "output_type": "stream",
          "name": "stderr",
          "text": [
            "/usr/local/lib/python3.10/dist-packages/sklearn/model_selection/_validation.py:378: FitFailedWarning: \n",
            "60 fits failed out of a total of 360.\n",
            "The score on these train-test partitions for these parameters will be set to nan.\n",
            "If these failures are not expected, you can try to debug them by setting error_score='raise'.\n",
            "\n",
            "Below are more details about the failures:\n",
            "--------------------------------------------------------------------------------\n",
            "60 fits failed with the following error:\n",
            "Traceback (most recent call last):\n",
            "  File \"/usr/local/lib/python3.10/dist-packages/sklearn/model_selection/_validation.py\", line 686, in _fit_and_score\n",
            "    estimator.fit(X_train, y_train, **fit_params)\n",
            "  File \"/usr/local/lib/python3.10/dist-packages/sklearn/linear_model/_logistic.py\", line 1162, in fit\n",
            "    solver = _check_solver(self.solver, self.penalty, self.dual)\n",
            "  File \"/usr/local/lib/python3.10/dist-packages/sklearn/linear_model/_logistic.py\", line 71, in _check_solver\n",
            "    raise ValueError(\"penalty='none' is not supported for the liblinear solver\")\n",
            "ValueError: penalty='none' is not supported for the liblinear solver\n",
            "\n",
            "  warnings.warn(some_fits_failed_message, FitFailedWarning)\n",
            "/usr/local/lib/python3.10/dist-packages/sklearn/model_selection/_search.py:952: UserWarning: One or more of the test scores are non-finite: [0.22619377 0.22619377 0.22549508 0.22479272 0.22479272        nan\n",
            " 0.22619377 0.22619377 0.22549508 0.22479272 0.22479272        nan\n",
            " 0.22619377 0.22619377 0.22549508 0.22479272 0.22479272        nan\n",
            " 0.22619377 0.22619377 0.22549508 0.22479272 0.22479272        nan\n",
            " 0.2272464  0.2272464  0.22584535 0.22479272 0.22479272        nan\n",
            " 0.2272464  0.2272464  0.22584535 0.22479272 0.22479272        nan\n",
            " 0.2272464  0.2272464  0.22584535 0.22479272 0.22479272        nan\n",
            " 0.2272464  0.2272464  0.22584535 0.22479272 0.22479272        nan\n",
            " 0.22513931 0.22513931 0.22268992 0.22479272 0.22479272        nan\n",
            " 0.22513931 0.22513931 0.22268992 0.22479272 0.22479272        nan\n",
            " 0.22513931 0.22513931 0.22268992 0.22479272 0.22479272        nan\n",
            " 0.22513931 0.22513931 0.22268992 0.22479272 0.22479272        nan]\n",
            "  warnings.warn(\n"
          ]
        },
        {
          "output_type": "stream",
          "name": "stdout",
          "text": [
            "LogisticRegression(random_state=42)\n",
            "{'C': 1.0, 'max_iter': 100, 'penalty': 'l2', 'solver': 'lbfgs'}\n",
            "best_params_grid['C']:  1.0\n",
            "best_params_grid['max_iter']:  100\n",
            "best_params_grid['penalty']: l2\n",
            "best_params_grid['solver']: lbfgs\n",
            "{'encoder': 'LabelEncoder', 'scaler': 'StandardScaler', 'test_size': 0.3, 'do_smote': False, 'search_method': 'Grid', 'cv': 5, 'C': 1.0, 'max_iter': 100, 'penalty': 'l2', 'solver': 'lbfgs'}\n",
            "Accuracy: 0.22122448979591836\n",
            "Confusion Matrix:\n",
            " [[20 15  6  1  0  2  0  3  0  7  3  3  5  9  0  4]\n",
            " [ 6 30  5  7  1 11  0  6  2  2  3  1  2  5  0  2]\n",
            " [ 4  1 36 14  0  3  0  8  2  0  7  0  1  2  0  8]\n",
            " [ 4  6 13 40  0  6  0 11  1  1  3  3  0  0  0  6]\n",
            " [ 4  8  2  2  1  1  0  1  1  3  2  0  4  2  0  1]\n",
            " [ 5 20  6  3  1  6  0 13  2  2  2  1  5  2  0  0]\n",
            " [ 2  7 12  3  0  1  0  5  2  1  1  3  1  2  0  1]\n",
            " [ 5  7 18 16  0  7  0 23  2  0  9  2  2  2  0  6]\n",
            " [ 7  6  0  1  0  1  0  1 24 14 15  5 13  6  0  3]\n",
            " [14  7  3  3  0  2  1  2 17 12  5  5 11  4  0  3]\n",
            " [ 6  5 13 10  0  0  0  2 10  1 24 14  2  5  0  2]\n",
            " [ 9  8  6  4  0  0  0  5  3  5 10 22  3  7  2  6]\n",
            " [10  9  0  0  0  1  0  1  7 11  3  4 10  4  1  2]\n",
            " [ 5  3  8  4  0  2  0  0  8  5 11  2  8  9  0  5]\n",
            " [17  1  6  0  0  1  0  0  5  4  2  5  6  5  1  6]\n",
            " [ 5 10 16 12  0  1  0  3  2  4  8  2  3  3  1 13]]\n",
            "F1 Score: 0.18474910391181504\n",
            "Recall: 0.19745458949768138\n",
            "Precision: 0.20690355330958266\n",
            "Encoder: LabelEncoder, Scaler: StandardScaler, Test Size: 0.3, SMOTE: False\n"
          ]
        },
        {
          "output_type": "display_data",
          "data": {
            "text/plain": [
              "<IPython.core.display.HTML object>"
            ],
            "text/html": [
              "Finishing last run (ID:0bskgdby) before initializing another..."
            ]
          },
          "metadata": {}
        },
        {
          "output_type": "display_data",
          "data": {
            "text/plain": [
              "<IPython.core.display.HTML object>"
            ],
            "text/html": [
              "Waiting for W&B process to finish... <strong style=\"color:green\">(success).</strong>"
            ]
          },
          "metadata": {}
        },
        {
          "output_type": "display_data",
          "data": {
            "text/plain": [
              "<IPython.core.display.HTML object>"
            ],
            "text/html": [
              "<style>\n",
              "    table.wandb td:nth-child(1) { padding: 0 10px; text-align: left ; width: auto;} td:nth-child(2) {text-align: left ; width: 100%}\n",
              "    .wandb-row { display: flex; flex-direction: row; flex-wrap: wrap; justify-content: flex-start; width: 100% }\n",
              "    .wandb-col { display: flex; flex-direction: column; flex-basis: 100%; flex: 1; padding: 10px; }\n",
              "    </style>\n",
              "<div class=\"wandb-row\"><div class=\"wandb-col\"><h3>Run history:</h3><br/><table class=\"wandb\"><tr><td>Accuracy</td><td>▁</td></tr><tr><td>F1 Score</td><td>▁</td></tr><tr><td>Precision</td><td>▁</td></tr><tr><td>Recall</td><td>▁</td></tr></table><br/></div><div class=\"wandb-col\"><h3>Run summary:</h3><br/><table class=\"wandb\"><tr><td>Accuracy</td><td>0.22122</td></tr></table><br/></div></div>"
            ]
          },
          "metadata": {}
        },
        {
          "output_type": "display_data",
          "data": {
            "text/plain": [
              "<IPython.core.display.HTML object>"
            ],
            "text/html": [
              " View run <strong style=\"color:#cdcd00\">mild-serenity-5</strong> at: <a href='https://wandb.ai/real100percent/logistic_regression_final/runs/0bskgdby' target=\"_blank\">https://wandb.ai/real100percent/logistic_regression_final/runs/0bskgdby</a><br/>Synced 5 W&B file(s), 0 media file(s), 0 artifact file(s) and 0 other file(s)"
            ]
          },
          "metadata": {}
        },
        {
          "output_type": "display_data",
          "data": {
            "text/plain": [
              "<IPython.core.display.HTML object>"
            ],
            "text/html": [
              "Find logs at: <code>./wandb/run-20230604_113703-0bskgdby/logs</code>"
            ]
          },
          "metadata": {}
        },
        {
          "output_type": "display_data",
          "data": {
            "text/plain": [
              "<IPython.core.display.HTML object>"
            ],
            "text/html": [
              "Successfully finished last run (ID:0bskgdby). Initializing new run:<br/>"
            ]
          },
          "metadata": {}
        },
        {
          "output_type": "display_data",
          "data": {
            "text/plain": [
              "<IPython.core.display.HTML object>"
            ],
            "text/html": [
              "Tracking run with wandb version 0.15.3"
            ]
          },
          "metadata": {}
        },
        {
          "output_type": "display_data",
          "data": {
            "text/plain": [
              "<IPython.core.display.HTML object>"
            ],
            "text/html": [
              "Run data is saved locally in <code>/content/wandb/run-20230604_113740-o1nyv6yi</code>"
            ]
          },
          "metadata": {}
        },
        {
          "output_type": "display_data",
          "data": {
            "text/plain": [
              "<IPython.core.display.HTML object>"
            ],
            "text/html": [
              "Syncing run <strong><a href='https://wandb.ai/real100percent/logistic_regression_final/runs/o1nyv6yi' target=\"_blank\">solar-shape-6</a></strong> to <a href='https://wandb.ai/real100percent/logistic_regression_final' target=\"_blank\">Weights & Biases</a> (<a href='https://wandb.me/run' target=\"_blank\">docs</a>)<br/>"
            ]
          },
          "metadata": {}
        },
        {
          "output_type": "display_data",
          "data": {
            "text/plain": [
              "<IPython.core.display.HTML object>"
            ],
            "text/html": [
              " View project at <a href='https://wandb.ai/real100percent/logistic_regression_final' target=\"_blank\">https://wandb.ai/real100percent/logistic_regression_final</a>"
            ]
          },
          "metadata": {}
        },
        {
          "output_type": "display_data",
          "data": {
            "text/plain": [
              "<IPython.core.display.HTML object>"
            ],
            "text/html": [
              " View run at <a href='https://wandb.ai/real100percent/logistic_regression_final/runs/o1nyv6yi' target=\"_blank\">https://wandb.ai/real100percent/logistic_regression_final/runs/o1nyv6yi</a>"
            ]
          },
          "metadata": {}
        },
        {
          "output_type": "stream",
          "name": "stdout",
          "text": [
            "{'encoder': 'LabelEncoder', 'scaler': 'StandardScaler', 'test_size': 0.3, 'do_smote': False, 'search_method': 'Grid', 'cv': 7}\n"
          ]
        },
        {
          "output_type": "stream",
          "name": "stderr",
          "text": [
            "/usr/local/lib/python3.10/dist-packages/sklearn/preprocessing/_label.py:116: DataConversionWarning: A column-vector y was passed when a 1d array was expected. Please change the shape of y to (n_samples, ), for example using ravel().\n",
            "  y = column_or_1d(y, warn=True)\n"
          ]
        },
        {
          "output_type": "stream",
          "name": "stdout",
          "text": [
            "Fitting 7 folds for each of 72 candidates, totalling 504 fits\n"
          ]
        },
        {
          "output_type": "stream",
          "name": "stderr",
          "text": [
            "/usr/local/lib/python3.10/dist-packages/sklearn/model_selection/_validation.py:378: FitFailedWarning: \n",
            "84 fits failed out of a total of 504.\n",
            "The score on these train-test partitions for these parameters will be set to nan.\n",
            "If these failures are not expected, you can try to debug them by setting error_score='raise'.\n",
            "\n",
            "Below are more details about the failures:\n",
            "--------------------------------------------------------------------------------\n",
            "84 fits failed with the following error:\n",
            "Traceback (most recent call last):\n",
            "  File \"/usr/local/lib/python3.10/dist-packages/sklearn/model_selection/_validation.py\", line 686, in _fit_and_score\n",
            "    estimator.fit(X_train, y_train, **fit_params)\n",
            "  File \"/usr/local/lib/python3.10/dist-packages/sklearn/linear_model/_logistic.py\", line 1162, in fit\n",
            "    solver = _check_solver(self.solver, self.penalty, self.dual)\n",
            "  File \"/usr/local/lib/python3.10/dist-packages/sklearn/linear_model/_logistic.py\", line 71, in _check_solver\n",
            "    raise ValueError(\"penalty='none' is not supported for the liblinear solver\")\n",
            "ValueError: penalty='none' is not supported for the liblinear solver\n",
            "\n",
            "  warnings.warn(some_fits_failed_message, FitFailedWarning)\n",
            "/usr/local/lib/python3.10/dist-packages/sklearn/model_selection/_search.py:952: UserWarning: One or more of the test scores are non-finite: [0.21743697 0.21743697 0.21673669 0.21673669 0.21708683        nan\n",
            " 0.21743697 0.21743697 0.21673669 0.21673669 0.21708683        nan\n",
            " 0.21743697 0.21743697 0.21673669 0.21673669 0.21708683        nan\n",
            " 0.21743697 0.21743697 0.21673669 0.21673669 0.21708683        nan\n",
            " 0.21638655 0.21638655 0.21918768 0.21673669 0.21708683        nan\n",
            " 0.21638655 0.21638655 0.21918768 0.21673669 0.21708683        nan\n",
            " 0.21638655 0.21638655 0.21918768 0.21673669 0.21708683        nan\n",
            " 0.21638655 0.21638655 0.21918768 0.21673669 0.21708683        nan\n",
            " 0.21778711 0.21778711 0.21463585 0.21673669 0.21708683        nan\n",
            " 0.21778711 0.21778711 0.21463585 0.21673669 0.21708683        nan\n",
            " 0.21778711 0.21778711 0.21463585 0.21673669 0.21708683        nan\n",
            " 0.21778711 0.21778711 0.21463585 0.21673669 0.21708683        nan]\n",
            "  warnings.warn(\n",
            "/usr/local/lib/python3.10/dist-packages/sklearn/metrics/_classification.py:1344: UndefinedMetricWarning: Precision is ill-defined and being set to 0.0 in labels with no predicted samples. Use `zero_division` parameter to control this behavior.\n",
            "  _warn_prf(average, modifier, msg_start, len(result))\n"
          ]
        },
        {
          "output_type": "stream",
          "name": "stdout",
          "text": [
            "LogisticRegression(random_state=42, solver='liblinear')\n",
            "{'C': 1.0, 'max_iter': 100, 'penalty': 'l2', 'solver': 'liblinear'}\n",
            "best_params_grid['C']:  1.0\n",
            "best_params_grid['max_iter']:  100\n",
            "best_params_grid['penalty']: l2\n",
            "best_params_grid['solver']: liblinear\n",
            "{'encoder': 'LabelEncoder', 'scaler': 'StandardScaler', 'test_size': 0.3, 'do_smote': False, 'search_method': 'Grid', 'cv': 7, 'C': 1.0, 'max_iter': 100, 'penalty': 'l2', 'solver': 'liblinear'}\n",
            "Accuracy: 0.22285714285714286\n",
            "Confusion Matrix:\n",
            " [[20 15  7  1  0  2  0  3  0  7  3  4  4  9  0  3]\n",
            " [ 7 31  7  6  0 11  0  5  2  2  3  1  2  4  0  2]\n",
            " [ 3  2 37 14  0  3  0  8  2  1  7  0  0  2  0  7]\n",
            " [ 3  6 14 39  0  7  0  7  1  2  3  4  0  1  0  7]\n",
            " [ 3  8  3  2  0  1  0  1  1  4  1  0  4  3  0  1]\n",
            " [ 5 20  8  4  1  6  0 10  2  4  2  1  3  2  0  0]\n",
            " [ 2  8 15  2  0  0  0  3  2  0  1  3  2  2  0  1]\n",
            " [ 5  9 18 17  0  7  0 19  2  0  9  2  2  2  0  7]\n",
            " [ 5  8  0  1  0  1  0  0 23 15 15  6 12  6  1  3]\n",
            " [14  8  4  3  0  0  0  2 18 14  5  5 10  3  0  3]\n",
            " [ 6  5 14 11  0  0  0  2  8  3 25 13  1  5  0  1]\n",
            " [ 8  9  6  4  0  0  0  4  2  3 11 23  4  8  2  6]\n",
            " [10  9  1  0  0  1  0  1  8  9  3  4 10  4  1  2]\n",
            " [ 4  3  9  4  0  2  0  0  7  7 11  2  7 10  0  4]\n",
            " [16  3  6  0  0  1  0  0  5  4  2  5  7  3  1  6]\n",
            " [ 2 11 16 11  0  1  0  4  3  4  8  2  3  2  1 15]]\n",
            "F1 Score: 0.18346932932691462\n",
            "Recall: 0.19830274660571107\n",
            "Precision: 0.18775990679701227\n",
            "Encoder: LabelEncoder, Scaler: StandardScaler, Test Size: 0.2, SMOTE: True\n"
          ]
        },
        {
          "output_type": "display_data",
          "data": {
            "text/plain": [
              "<IPython.core.display.HTML object>"
            ],
            "text/html": [
              "Finishing last run (ID:o1nyv6yi) before initializing another..."
            ]
          },
          "metadata": {}
        },
        {
          "output_type": "display_data",
          "data": {
            "text/plain": [
              "<IPython.core.display.HTML object>"
            ],
            "text/html": [
              "Waiting for W&B process to finish... <strong style=\"color:green\">(success).</strong>"
            ]
          },
          "metadata": {}
        },
        {
          "output_type": "display_data",
          "data": {
            "text/plain": [
              "<IPython.core.display.HTML object>"
            ],
            "text/html": [
              "<style>\n",
              "    table.wandb td:nth-child(1) { padding: 0 10px; text-align: left ; width: auto;} td:nth-child(2) {text-align: left ; width: 100%}\n",
              "    .wandb-row { display: flex; flex-direction: row; flex-wrap: wrap; justify-content: flex-start; width: 100% }\n",
              "    .wandb-col { display: flex; flex-direction: column; flex-basis: 100%; flex: 1; padding: 10px; }\n",
              "    </style>\n",
              "<div class=\"wandb-row\"><div class=\"wandb-col\"><h3>Run history:</h3><br/><table class=\"wandb\"><tr><td>Accuracy</td><td>▁</td></tr><tr><td>F1 Score</td><td>▁</td></tr><tr><td>Precision</td><td>▁</td></tr><tr><td>Recall</td><td>▁</td></tr></table><br/></div><div class=\"wandb-col\"><h3>Run summary:</h3><br/><table class=\"wandb\"><tr><td>Accuracy</td><td>0.22286</td></tr></table><br/></div></div>"
            ]
          },
          "metadata": {}
        },
        {
          "output_type": "display_data",
          "data": {
            "text/plain": [
              "<IPython.core.display.HTML object>"
            ],
            "text/html": [
              " View run <strong style=\"color:#cdcd00\">solar-shape-6</strong> at: <a href='https://wandb.ai/real100percent/logistic_regression_final/runs/o1nyv6yi' target=\"_blank\">https://wandb.ai/real100percent/logistic_regression_final/runs/o1nyv6yi</a><br/>Synced 5 W&B file(s), 0 media file(s), 0 artifact file(s) and 0 other file(s)"
            ]
          },
          "metadata": {}
        },
        {
          "output_type": "display_data",
          "data": {
            "text/plain": [
              "<IPython.core.display.HTML object>"
            ],
            "text/html": [
              "Find logs at: <code>./wandb/run-20230604_113740-o1nyv6yi/logs</code>"
            ]
          },
          "metadata": {}
        },
        {
          "output_type": "display_data",
          "data": {
            "text/plain": [
              "<IPython.core.display.HTML object>"
            ],
            "text/html": [
              "Successfully finished last run (ID:o1nyv6yi). Initializing new run:<br/>"
            ]
          },
          "metadata": {}
        },
        {
          "output_type": "display_data",
          "data": {
            "text/plain": [
              "<IPython.core.display.HTML object>"
            ],
            "text/html": [
              "Tracking run with wandb version 0.15.3"
            ]
          },
          "metadata": {}
        },
        {
          "output_type": "display_data",
          "data": {
            "text/plain": [
              "<IPython.core.display.HTML object>"
            ],
            "text/html": [
              "Run data is saved locally in <code>/content/wandb/run-20230604_113834-9bdz0htb</code>"
            ]
          },
          "metadata": {}
        },
        {
          "output_type": "display_data",
          "data": {
            "text/plain": [
              "<IPython.core.display.HTML object>"
            ],
            "text/html": [
              "Syncing run <strong><a href='https://wandb.ai/real100percent/logistic_regression_final/runs/9bdz0htb' target=\"_blank\">youthful-frost-7</a></strong> to <a href='https://wandb.ai/real100percent/logistic_regression_final' target=\"_blank\">Weights & Biases</a> (<a href='https://wandb.me/run' target=\"_blank\">docs</a>)<br/>"
            ]
          },
          "metadata": {}
        },
        {
          "output_type": "display_data",
          "data": {
            "text/plain": [
              "<IPython.core.display.HTML object>"
            ],
            "text/html": [
              " View project at <a href='https://wandb.ai/real100percent/logistic_regression_final' target=\"_blank\">https://wandb.ai/real100percent/logistic_regression_final</a>"
            ]
          },
          "metadata": {}
        },
        {
          "output_type": "display_data",
          "data": {
            "text/plain": [
              "<IPython.core.display.HTML object>"
            ],
            "text/html": [
              " View run at <a href='https://wandb.ai/real100percent/logistic_regression_final/runs/9bdz0htb' target=\"_blank\">https://wandb.ai/real100percent/logistic_regression_final/runs/9bdz0htb</a>"
            ]
          },
          "metadata": {}
        },
        {
          "output_type": "stream",
          "name": "stdout",
          "text": [
            "{'encoder': 'LabelEncoder', 'scaler': 'StandardScaler', 'test_size': 0.2, 'do_smote': True, 'search_method': 'Grid', 'cv': 3}\n"
          ]
        },
        {
          "output_type": "stream",
          "name": "stderr",
          "text": [
            "/usr/local/lib/python3.10/dist-packages/sklearn/preprocessing/_label.py:116: DataConversionWarning: A column-vector y was passed when a 1d array was expected. Please change the shape of y to (n_samples, ), for example using ravel().\n",
            "  y = column_or_1d(y, warn=True)\n"
          ]
        },
        {
          "output_type": "stream",
          "name": "stdout",
          "text": [
            "Fitting 3 folds for each of 72 candidates, totalling 216 fits\n"
          ]
        },
        {
          "output_type": "stream",
          "name": "stderr",
          "text": [
            "/usr/local/lib/python3.10/dist-packages/sklearn/model_selection/_validation.py:378: FitFailedWarning: \n",
            "36 fits failed out of a total of 216.\n",
            "The score on these train-test partitions for these parameters will be set to nan.\n",
            "If these failures are not expected, you can try to debug them by setting error_score='raise'.\n",
            "\n",
            "Below are more details about the failures:\n",
            "--------------------------------------------------------------------------------\n",
            "36 fits failed with the following error:\n",
            "Traceback (most recent call last):\n",
            "  File \"/usr/local/lib/python3.10/dist-packages/sklearn/model_selection/_validation.py\", line 686, in _fit_and_score\n",
            "    estimator.fit(X_train, y_train, **fit_params)\n",
            "  File \"/usr/local/lib/python3.10/dist-packages/sklearn/linear_model/_logistic.py\", line 1162, in fit\n",
            "    solver = _check_solver(self.solver, self.penalty, self.dual)\n",
            "  File \"/usr/local/lib/python3.10/dist-packages/sklearn/linear_model/_logistic.py\", line 71, in _check_solver\n",
            "    raise ValueError(\"penalty='none' is not supported for the liblinear solver\")\n",
            "ValueError: penalty='none' is not supported for the liblinear solver\n",
            "\n",
            "  warnings.warn(some_fits_failed_message, FitFailedWarning)\n",
            "/usr/local/lib/python3.10/dist-packages/sklearn/model_selection/_search.py:952: UserWarning: One or more of the test scores are non-finite: [0.21813725 0.21875    0.21721814 0.21905637 0.21905637        nan\n",
            " 0.21813725 0.21875    0.21721814 0.21905637 0.21905637        nan\n",
            " 0.21813725 0.21875    0.21721814 0.21905637 0.21905637        nan\n",
            " 0.21813725 0.21875    0.21721814 0.21905637 0.21905637        nan\n",
            " 0.22058824 0.22028186 0.21813725 0.21905637 0.21905637        nan\n",
            " 0.22058824 0.22028186 0.21813725 0.21905637 0.21905637        nan\n",
            " 0.22058824 0.22028186 0.21813725 0.21905637 0.21905637        nan\n",
            " 0.22058824 0.22028186 0.21813725 0.21905637 0.21905637        nan\n",
            " 0.22273284 0.22273284 0.22120098 0.21905637 0.21905637        nan\n",
            " 0.22273284 0.22273284 0.22120098 0.21905637 0.21905637        nan\n",
            " 0.22273284 0.22273284 0.22120098 0.21905637 0.21905637        nan\n",
            " 0.22273284 0.22273284 0.22120098 0.21905637 0.21905637        nan]\n",
            "  warnings.warn(\n"
          ]
        },
        {
          "output_type": "stream",
          "name": "stdout",
          "text": [
            "LogisticRegression(C=0.1, random_state=42)\n",
            "{'C': 0.1, 'max_iter': 100, 'penalty': 'l2', 'solver': 'lbfgs'}\n",
            "best_params_grid['C']:  0.1\n",
            "best_params_grid['max_iter']:  100\n",
            "best_params_grid['penalty']: l2\n",
            "best_params_grid['solver']: lbfgs\n",
            "{'encoder': 'LabelEncoder', 'scaler': 'StandardScaler', 'test_size': 0.2, 'do_smote': True, 'search_method': 'Grid', 'cv': 3, 'C': 0.1, 'max_iter': 100, 'penalty': 'l2', 'solver': 'lbfgs'}\n",
            "Accuracy: 0.22276621787025705\n",
            "Confusion Matrix:\n",
            " [[13  7  3  1  0  1  0  4  2  2  1  3  4  4  0  2]\n",
            " [ 4 19  2  6  0  5  0  4  0  2  3  0  1  3  1  2]\n",
            " [ 1  0 24  9  0  4  0  7  2  1  4  0  0  1  0  3]\n",
            " [ 4  3  7 24  0  4  0  7  1  1  2  3  0  1  0  5]\n",
            " [ 4  7  0  1  0  1  0  0  0  1  1  0  2  0  0  1]\n",
            " [ 4 14  3  5  1  3  0 10  1  1  2  0  3  1  0  0]\n",
            " [ 2  6  5  3  0  0  0  2  2  1  2  2  0  2  0  0]\n",
            " [ 4  7 10 12  0  3  0 17  1  0  7  2  1  1  0  3]\n",
            " [ 3  3  0  1  0  1  0  0 15 16 11  5  4  4  0  2]\n",
            " [11  5  1  3  0  0  1  2 12 10  4  3  4  1  0  1]\n",
            " [ 6  4  8  5  0  0  0  2  5  3 16  7  0  2  0  1]\n",
            " [ 6  8  7  0  0  0  0  2  5  4  7 18  2  2  1  3]\n",
            " [ 9  7  0  0  0  1  0  1  7  6  3  3  7  2  1  1]\n",
            " [ 3  2  6  4  0  2  0  0  6  4  8  2  4  8  0  4]\n",
            " [13  1  2  0  0  0  0  0  5  3  2  3  3  1  1  4]\n",
            " [ 5  3 12  8  0  1  0  5  2  2  4  2  1  1  0  7]]\n",
            "F1 Score: 0.18376236579286992\n",
            "Recall: 0.19853806843973193\n",
            "Precision: 0.19332177549117835\n",
            "Encoder: LabelEncoder, Scaler: StandardScaler, Test Size: 0.2, SMOTE: True\n"
          ]
        },
        {
          "output_type": "display_data",
          "data": {
            "text/plain": [
              "<IPython.core.display.HTML object>"
            ],
            "text/html": [
              "Finishing last run (ID:9bdz0htb) before initializing another..."
            ]
          },
          "metadata": {}
        },
        {
          "output_type": "display_data",
          "data": {
            "text/plain": [
              "<IPython.core.display.HTML object>"
            ],
            "text/html": [
              "Waiting for W&B process to finish... <strong style=\"color:green\">(success).</strong>"
            ]
          },
          "metadata": {}
        },
        {
          "output_type": "display_data",
          "data": {
            "text/plain": [
              "<IPython.core.display.HTML object>"
            ],
            "text/html": [
              "<style>\n",
              "    table.wandb td:nth-child(1) { padding: 0 10px; text-align: left ; width: auto;} td:nth-child(2) {text-align: left ; width: 100%}\n",
              "    .wandb-row { display: flex; flex-direction: row; flex-wrap: wrap; justify-content: flex-start; width: 100% }\n",
              "    .wandb-col { display: flex; flex-direction: column; flex-basis: 100%; flex: 1; padding: 10px; }\n",
              "    </style>\n",
              "<div class=\"wandb-row\"><div class=\"wandb-col\"><h3>Run history:</h3><br/><table class=\"wandb\"><tr><td>Accuracy</td><td>▁</td></tr><tr><td>F1 Score</td><td>▁</td></tr><tr><td>Precision</td><td>▁</td></tr><tr><td>Recall</td><td>▁</td></tr></table><br/></div><div class=\"wandb-col\"><h3>Run summary:</h3><br/><table class=\"wandb\"><tr><td>Accuracy</td><td>0.22277</td></tr></table><br/></div></div>"
            ]
          },
          "metadata": {}
        },
        {
          "output_type": "display_data",
          "data": {
            "text/plain": [
              "<IPython.core.display.HTML object>"
            ],
            "text/html": [
              " View run <strong style=\"color:#cdcd00\">youthful-frost-7</strong> at: <a href='https://wandb.ai/real100percent/logistic_regression_final/runs/9bdz0htb' target=\"_blank\">https://wandb.ai/real100percent/logistic_regression_final/runs/9bdz0htb</a><br/>Synced 5 W&B file(s), 0 media file(s), 0 artifact file(s) and 0 other file(s)"
            ]
          },
          "metadata": {}
        },
        {
          "output_type": "display_data",
          "data": {
            "text/plain": [
              "<IPython.core.display.HTML object>"
            ],
            "text/html": [
              "Find logs at: <code>./wandb/run-20230604_113834-9bdz0htb/logs</code>"
            ]
          },
          "metadata": {}
        },
        {
          "output_type": "display_data",
          "data": {
            "text/plain": [
              "<IPython.core.display.HTML object>"
            ],
            "text/html": [
              "Successfully finished last run (ID:9bdz0htb). Initializing new run:<br/>"
            ]
          },
          "metadata": {}
        },
        {
          "output_type": "display_data",
          "data": {
            "text/plain": [
              "<IPython.core.display.HTML object>"
            ],
            "text/html": [
              "Tracking run with wandb version 0.15.3"
            ]
          },
          "metadata": {}
        },
        {
          "output_type": "display_data",
          "data": {
            "text/plain": [
              "<IPython.core.display.HTML object>"
            ],
            "text/html": [
              "Run data is saved locally in <code>/content/wandb/run-20230604_113859-o07m7an5</code>"
            ]
          },
          "metadata": {}
        },
        {
          "output_type": "display_data",
          "data": {
            "text/plain": [
              "<IPython.core.display.HTML object>"
            ],
            "text/html": [
              "Syncing run <strong><a href='https://wandb.ai/real100percent/logistic_regression_final/runs/o07m7an5' target=\"_blank\">resilient-dust-8</a></strong> to <a href='https://wandb.ai/real100percent/logistic_regression_final' target=\"_blank\">Weights & Biases</a> (<a href='https://wandb.me/run' target=\"_blank\">docs</a>)<br/>"
            ]
          },
          "metadata": {}
        },
        {
          "output_type": "display_data",
          "data": {
            "text/plain": [
              "<IPython.core.display.HTML object>"
            ],
            "text/html": [
              " View project at <a href='https://wandb.ai/real100percent/logistic_regression_final' target=\"_blank\">https://wandb.ai/real100percent/logistic_regression_final</a>"
            ]
          },
          "metadata": {}
        },
        {
          "output_type": "display_data",
          "data": {
            "text/plain": [
              "<IPython.core.display.HTML object>"
            ],
            "text/html": [
              " View run at <a href='https://wandb.ai/real100percent/logistic_regression_final/runs/o07m7an5' target=\"_blank\">https://wandb.ai/real100percent/logistic_regression_final/runs/o07m7an5</a>"
            ]
          },
          "metadata": {}
        },
        {
          "output_type": "stream",
          "name": "stdout",
          "text": [
            "{'encoder': 'LabelEncoder', 'scaler': 'StandardScaler', 'test_size': 0.2, 'do_smote': True, 'search_method': 'Grid', 'cv': 5}\n"
          ]
        },
        {
          "output_type": "stream",
          "name": "stderr",
          "text": [
            "/usr/local/lib/python3.10/dist-packages/sklearn/preprocessing/_label.py:116: DataConversionWarning: A column-vector y was passed when a 1d array was expected. Please change the shape of y to (n_samples, ), for example using ravel().\n",
            "  y = column_or_1d(y, warn=True)\n"
          ]
        },
        {
          "output_type": "stream",
          "name": "stdout",
          "text": [
            "Fitting 5 folds for each of 72 candidates, totalling 360 fits\n"
          ]
        },
        {
          "output_type": "stream",
          "name": "stderr",
          "text": [
            "/usr/local/lib/python3.10/dist-packages/sklearn/model_selection/_validation.py:378: FitFailedWarning: \n",
            "60 fits failed out of a total of 360.\n",
            "The score on these train-test partitions for these parameters will be set to nan.\n",
            "If these failures are not expected, you can try to debug them by setting error_score='raise'.\n",
            "\n",
            "Below are more details about the failures:\n",
            "--------------------------------------------------------------------------------\n",
            "60 fits failed with the following error:\n",
            "Traceback (most recent call last):\n",
            "  File \"/usr/local/lib/python3.10/dist-packages/sklearn/model_selection/_validation.py\", line 686, in _fit_and_score\n",
            "    estimator.fit(X_train, y_train, **fit_params)\n",
            "  File \"/usr/local/lib/python3.10/dist-packages/sklearn/linear_model/_logistic.py\", line 1162, in fit\n",
            "    solver = _check_solver(self.solver, self.penalty, self.dual)\n",
            "  File \"/usr/local/lib/python3.10/dist-packages/sklearn/linear_model/_logistic.py\", line 71, in _check_solver\n",
            "    raise ValueError(\"penalty='none' is not supported for the liblinear solver\")\n",
            "ValueError: penalty='none' is not supported for the liblinear solver\n",
            "\n",
            "  warnings.warn(some_fits_failed_message, FitFailedWarning)\n",
            "/usr/local/lib/python3.10/dist-packages/sklearn/model_selection/_search.py:952: UserWarning: One or more of the test scores are non-finite: [0.22457699 0.22457699 0.22212582 0.22549582 0.22549582        nan\n",
            " 0.22457699 0.22457699 0.22212582 0.22549582 0.22549582        nan\n",
            " 0.22457699 0.22457699 0.22212582 0.22549582 0.22549582        nan\n",
            " 0.22457699 0.22457699 0.22212582 0.22549582 0.22549582        nan\n",
            " 0.22365768 0.22365768 0.22243351 0.22549582 0.22549582        nan\n",
            " 0.22365768 0.22365768 0.22243351 0.22549582 0.22549582        nan\n",
            " 0.22365768 0.22365768 0.22243351 0.22549582 0.22549582        nan\n",
            " 0.22365768 0.22365768 0.22243351 0.22549582 0.22549582        nan\n",
            " 0.21814607 0.21814607 0.22182236 0.22549582 0.22549582        nan\n",
            " 0.21814607 0.21814607 0.22182236 0.22549582 0.22549582        nan\n",
            " 0.21814607 0.21814607 0.22182236 0.22549582 0.22549582        nan\n",
            " 0.21814607 0.21814607 0.22182236 0.22549582 0.22549582        nan]\n",
            "  warnings.warn(\n",
            "/usr/local/lib/python3.10/dist-packages/sklearn/linear_model/_logistic.py:1173: FutureWarning: `penalty='none'`has been deprecated in 1.2 and will be removed in 1.4. To keep the past behaviour, set `penalty=None`.\n",
            "  warnings.warn(\n",
            "/usr/local/lib/python3.10/dist-packages/sklearn/linear_model/_logistic.py:1181: UserWarning: Setting penalty=None will ignore the C and l1_ratio parameters\n",
            "  warnings.warn(\n"
          ]
        },
        {
          "output_type": "stream",
          "name": "stdout",
          "text": [
            "LogisticRegression(C=10, penalty='none', random_state=42)\n",
            "{'C': 10, 'max_iter': 100, 'penalty': 'none', 'solver': 'lbfgs'}\n",
            "best_params_grid['C']:  10\n",
            "best_params_grid['max_iter']:  100\n",
            "best_params_grid['penalty']: none\n",
            "best_params_grid['solver']: lbfgs\n",
            "{'encoder': 'LabelEncoder', 'scaler': 'StandardScaler', 'test_size': 0.2, 'do_smote': True, 'search_method': 'Grid', 'cv': 5, 'C': 10, 'max_iter': 100, 'penalty': 'none', 'solver': 'lbfgs'}\n",
            "Accuracy: 0.2178702570379437\n",
            "Confusion Matrix:\n",
            " [[12  6  4  2  0  2  0  3  1  1  0  5  4  5  0  2]\n",
            " [ 6 18  3  5  0  5  0  5  0  2  3  0  1  3  0  1]\n",
            " [ 1  0 23 10  0  3  0  7  2  1  4  0  0  2  0  3]\n",
            " [ 3  4  7 26  0  2  0  8  1  1  2  3  0  0  0  5]\n",
            " [ 5  6  0  1  0  0  0  0  0  0  1  0  3  1  0  1]\n",
            " [ 4 13  3  7  1  2  0 10  1  1  2  0  2  2  0  0]\n",
            " [ 2  6  5  3  0  0  0  2  2  1  0  2  0  2  1  1]\n",
            " [ 4  7 10 14  0  2  0 18  1  0  6  1  1  1  0  3]\n",
            " [ 3  3  0  1  0  1  0  0 16 16 10  4  5  3  1  2]\n",
            " [10  6  1  3  0  0  1  2 13  9  4  3  5  0  0  1]\n",
            " [ 3  5  8  7  0  0  0  3  5  3 14  7  0  4  0  0]\n",
            " [ 9  5  6  2  0  0  0  3  3  3  7 15  2  3  1  6]\n",
            " [10  7  0  0  0  1  0  1  7  7  3  3  5  2  1  1]\n",
            " [ 4  2  3  4  0  2  0  0  6  4  8  2  4 10  0  4]\n",
            " [13  1  2  0  0  0  0  0  4  3  2  4  3  2  1  3]\n",
            " [ 7  2 12  9  0  1  0  4  2  1  4  1  1  0  0  9]]\n",
            "F1 Score: 0.17871590665987763\n",
            "Recall: 0.19351695731381718\n",
            "Precision: 0.1846698156543557\n",
            "Encoder: LabelEncoder, Scaler: StandardScaler, Test Size: 0.2, SMOTE: True\n"
          ]
        },
        {
          "output_type": "display_data",
          "data": {
            "text/plain": [
              "<IPython.core.display.HTML object>"
            ],
            "text/html": [
              "Finishing last run (ID:o07m7an5) before initializing another..."
            ]
          },
          "metadata": {}
        },
        {
          "output_type": "display_data",
          "data": {
            "text/plain": [
              "<IPython.core.display.HTML object>"
            ],
            "text/html": [
              "Waiting for W&B process to finish... <strong style=\"color:green\">(success).</strong>"
            ]
          },
          "metadata": {}
        },
        {
          "output_type": "display_data",
          "data": {
            "text/plain": [
              "<IPython.core.display.HTML object>"
            ],
            "text/html": [
              "<style>\n",
              "    table.wandb td:nth-child(1) { padding: 0 10px; text-align: left ; width: auto;} td:nth-child(2) {text-align: left ; width: 100%}\n",
              "    .wandb-row { display: flex; flex-direction: row; flex-wrap: wrap; justify-content: flex-start; width: 100% }\n",
              "    .wandb-col { display: flex; flex-direction: column; flex-basis: 100%; flex: 1; padding: 10px; }\n",
              "    </style>\n",
              "<div class=\"wandb-row\"><div class=\"wandb-col\"><h3>Run history:</h3><br/><table class=\"wandb\"><tr><td>Accuracy</td><td>▁</td></tr><tr><td>F1 Score</td><td>▁</td></tr><tr><td>Precision</td><td>▁</td></tr><tr><td>Recall</td><td>▁</td></tr></table><br/></div><div class=\"wandb-col\"><h3>Run summary:</h3><br/><table class=\"wandb\"><tr><td>Accuracy</td><td>0.21787</td></tr></table><br/></div></div>"
            ]
          },
          "metadata": {}
        },
        {
          "output_type": "display_data",
          "data": {
            "text/plain": [
              "<IPython.core.display.HTML object>"
            ],
            "text/html": [
              " View run <strong style=\"color:#cdcd00\">resilient-dust-8</strong> at: <a href='https://wandb.ai/real100percent/logistic_regression_final/runs/o07m7an5' target=\"_blank\">https://wandb.ai/real100percent/logistic_regression_final/runs/o07m7an5</a><br/>Synced 5 W&B file(s), 0 media file(s), 0 artifact file(s) and 0 other file(s)"
            ]
          },
          "metadata": {}
        },
        {
          "output_type": "display_data",
          "data": {
            "text/plain": [
              "<IPython.core.display.HTML object>"
            ],
            "text/html": [
              "Find logs at: <code>./wandb/run-20230604_113859-o07m7an5/logs</code>"
            ]
          },
          "metadata": {}
        },
        {
          "output_type": "display_data",
          "data": {
            "text/plain": [
              "<IPython.core.display.HTML object>"
            ],
            "text/html": [
              "Successfully finished last run (ID:o07m7an5). Initializing new run:<br/>"
            ]
          },
          "metadata": {}
        },
        {
          "output_type": "display_data",
          "data": {
            "text/plain": [
              "<IPython.core.display.HTML object>"
            ],
            "text/html": [
              "Tracking run with wandb version 0.15.3"
            ]
          },
          "metadata": {}
        },
        {
          "output_type": "display_data",
          "data": {
            "text/plain": [
              "<IPython.core.display.HTML object>"
            ],
            "text/html": [
              "Run data is saved locally in <code>/content/wandb/run-20230604_113943-rlcsi3ut</code>"
            ]
          },
          "metadata": {}
        },
        {
          "output_type": "display_data",
          "data": {
            "text/plain": [
              "<IPython.core.display.HTML object>"
            ],
            "text/html": [
              "Syncing run <strong><a href='https://wandb.ai/real100percent/logistic_regression_final/runs/rlcsi3ut' target=\"_blank\">trim-thunder-9</a></strong> to <a href='https://wandb.ai/real100percent/logistic_regression_final' target=\"_blank\">Weights & Biases</a> (<a href='https://wandb.me/run' target=\"_blank\">docs</a>)<br/>"
            ]
          },
          "metadata": {}
        },
        {
          "output_type": "display_data",
          "data": {
            "text/plain": [
              "<IPython.core.display.HTML object>"
            ],
            "text/html": [
              " View project at <a href='https://wandb.ai/real100percent/logistic_regression_final' target=\"_blank\">https://wandb.ai/real100percent/logistic_regression_final</a>"
            ]
          },
          "metadata": {}
        },
        {
          "output_type": "display_data",
          "data": {
            "text/plain": [
              "<IPython.core.display.HTML object>"
            ],
            "text/html": [
              " View run at <a href='https://wandb.ai/real100percent/logistic_regression_final/runs/rlcsi3ut' target=\"_blank\">https://wandb.ai/real100percent/logistic_regression_final/runs/rlcsi3ut</a>"
            ]
          },
          "metadata": {}
        },
        {
          "output_type": "stream",
          "name": "stdout",
          "text": [
            "{'encoder': 'LabelEncoder', 'scaler': 'StandardScaler', 'test_size': 0.2, 'do_smote': True, 'search_method': 'Grid', 'cv': 7}\n"
          ]
        },
        {
          "output_type": "stream",
          "name": "stderr",
          "text": [
            "/usr/local/lib/python3.10/dist-packages/sklearn/preprocessing/_label.py:116: DataConversionWarning: A column-vector y was passed when a 1d array was expected. Please change the shape of y to (n_samples, ), for example using ravel().\n",
            "  y = column_or_1d(y, warn=True)\n"
          ]
        },
        {
          "output_type": "stream",
          "name": "stdout",
          "text": [
            "Fitting 7 folds for each of 72 candidates, totalling 504 fits\n"
          ]
        },
        {
          "output_type": "stream",
          "name": "stderr",
          "text": [
            "/usr/local/lib/python3.10/dist-packages/sklearn/model_selection/_validation.py:378: FitFailedWarning: \n",
            "84 fits failed out of a total of 504.\n",
            "The score on these train-test partitions for these parameters will be set to nan.\n",
            "If these failures are not expected, you can try to debug them by setting error_score='raise'.\n",
            "\n",
            "Below are more details about the failures:\n",
            "--------------------------------------------------------------------------------\n",
            "84 fits failed with the following error:\n",
            "Traceback (most recent call last):\n",
            "  File \"/usr/local/lib/python3.10/dist-packages/sklearn/model_selection/_validation.py\", line 686, in _fit_and_score\n",
            "    estimator.fit(X_train, y_train, **fit_params)\n",
            "  File \"/usr/local/lib/python3.10/dist-packages/sklearn/linear_model/_logistic.py\", line 1162, in fit\n",
            "    solver = _check_solver(self.solver, self.penalty, self.dual)\n",
            "  File \"/usr/local/lib/python3.10/dist-packages/sklearn/linear_model/_logistic.py\", line 71, in _check_solver\n",
            "    raise ValueError(\"penalty='none' is not supported for the liblinear solver\")\n",
            "ValueError: penalty='none' is not supported for the liblinear solver\n",
            "\n",
            "  warnings.warn(some_fits_failed_message, FitFailedWarning)\n",
            "/usr/local/lib/python3.10/dist-packages/sklearn/model_selection/_search.py:952: UserWarning: One or more of the test scores are non-finite: [0.22609715 0.22609715 0.22334402 0.22640371 0.22640371        nan\n",
            " 0.22609715 0.22609715 0.22334402 0.22640371 0.22640371        nan\n",
            " 0.22609715 0.22609715 0.22334402 0.22640371 0.22640371        nan\n",
            " 0.22609715 0.22609715 0.22334402 0.22640371 0.22640371        nan\n",
            " 0.22426107 0.22426107 0.22212106 0.22640371 0.22640371        nan\n",
            " 0.22426107 0.22426107 0.22212106 0.22640371 0.22640371        nan\n",
            " 0.22426107 0.22426107 0.22212106 0.22640371 0.22640371        nan\n",
            " 0.22426107 0.22426107 0.22212106 0.22640371 0.22640371        nan\n",
            " 0.21752593 0.21752593 0.21752593 0.22640371 0.22640371        nan\n",
            " 0.21752593 0.21752593 0.21752593 0.22640371 0.22640371        nan\n",
            " 0.21752593 0.21752593 0.21752593 0.22640371 0.22640371        nan\n",
            " 0.21752593 0.21752593 0.21752593 0.22640371 0.22640371        nan]\n",
            "  warnings.warn(\n",
            "/usr/local/lib/python3.10/dist-packages/sklearn/linear_model/_logistic.py:1173: FutureWarning: `penalty='none'`has been deprecated in 1.2 and will be removed in 1.4. To keep the past behaviour, set `penalty=None`.\n",
            "  warnings.warn(\n",
            "/usr/local/lib/python3.10/dist-packages/sklearn/linear_model/_logistic.py:1181: UserWarning: Setting penalty=None will ignore the C and l1_ratio parameters\n",
            "  warnings.warn(\n"
          ]
        },
        {
          "output_type": "stream",
          "name": "stdout",
          "text": [
            "LogisticRegression(C=10, penalty='none', random_state=42)\n",
            "{'C': 10, 'max_iter': 100, 'penalty': 'none', 'solver': 'lbfgs'}\n",
            "best_params_grid['C']:  10\n",
            "best_params_grid['max_iter']:  100\n",
            "best_params_grid['penalty']: none\n",
            "best_params_grid['solver']: lbfgs\n",
            "{'encoder': 'LabelEncoder', 'scaler': 'StandardScaler', 'test_size': 0.2, 'do_smote': True, 'search_method': 'Grid', 'cv': 7, 'C': 10, 'max_iter': 100, 'penalty': 'none', 'solver': 'lbfgs'}\n",
            "Accuracy: 0.2178702570379437\n",
            "Confusion Matrix:\n",
            " [[12  6  4  2  0  2  0  3  1  1  0  5  4  5  0  2]\n",
            " [ 6 18  3  5  0  5  0  5  0  2  3  0  1  3  0  1]\n",
            " [ 1  0 23 10  0  3  0  7  2  1  4  0  0  2  0  3]\n",
            " [ 3  4  7 26  0  2  0  8  1  1  2  3  0  0  0  5]\n",
            " [ 5  6  0  1  0  0  0  0  0  0  1  0  3  1  0  1]\n",
            " [ 4 13  3  7  1  2  0 10  1  1  2  0  2  2  0  0]\n",
            " [ 2  6  5  3  0  0  0  2  2  1  0  2  0  2  1  1]\n",
            " [ 4  7 10 14  0  2  0 18  1  0  6  1  1  1  0  3]\n",
            " [ 3  3  0  1  0  1  0  0 16 16 10  4  5  3  1  2]\n",
            " [10  6  1  3  0  0  1  2 13  9  4  3  5  0  0  1]\n",
            " [ 3  5  8  7  0  0  0  3  5  3 14  7  0  4  0  0]\n",
            " [ 9  5  6  2  0  0  0  3  3  3  7 15  2  3  1  6]\n",
            " [10  7  0  0  0  1  0  1  7  7  3  3  5  2  1  1]\n",
            " [ 4  2  3  4  0  2  0  0  6  4  8  2  4 10  0  4]\n",
            " [13  1  2  0  0  0  0  0  4  3  2  4  3  2  1  3]\n",
            " [ 7  2 12  9  0  1  0  4  2  1  4  1  1  0  0  9]]\n",
            "F1 Score: 0.17871590665987763\n",
            "Recall: 0.19351695731381718\n",
            "Precision: 0.1846698156543557\n",
            "Encoder: LabelEncoder, Scaler: StandardScaler, Test Size: 0.2, SMOTE: False\n"
          ]
        },
        {
          "output_type": "display_data",
          "data": {
            "text/plain": [
              "<IPython.core.display.HTML object>"
            ],
            "text/html": [
              "Finishing last run (ID:rlcsi3ut) before initializing another..."
            ]
          },
          "metadata": {}
        },
        {
          "output_type": "display_data",
          "data": {
            "text/plain": [
              "<IPython.core.display.HTML object>"
            ],
            "text/html": [
              "Waiting for W&B process to finish... <strong style=\"color:green\">(success).</strong>"
            ]
          },
          "metadata": {}
        },
        {
          "output_type": "display_data",
          "data": {
            "text/plain": [
              "<IPython.core.display.HTML object>"
            ],
            "text/html": [
              "<style>\n",
              "    table.wandb td:nth-child(1) { padding: 0 10px; text-align: left ; width: auto;} td:nth-child(2) {text-align: left ; width: 100%}\n",
              "    .wandb-row { display: flex; flex-direction: row; flex-wrap: wrap; justify-content: flex-start; width: 100% }\n",
              "    .wandb-col { display: flex; flex-direction: column; flex-basis: 100%; flex: 1; padding: 10px; }\n",
              "    </style>\n",
              "<div class=\"wandb-row\"><div class=\"wandb-col\"><h3>Run history:</h3><br/><table class=\"wandb\"><tr><td>Accuracy</td><td>▁</td></tr><tr><td>F1 Score</td><td>▁</td></tr><tr><td>Precision</td><td>▁</td></tr><tr><td>Recall</td><td>▁</td></tr></table><br/></div><div class=\"wandb-col\"><h3>Run summary:</h3><br/><table class=\"wandb\"><tr><td>Accuracy</td><td>0.21787</td></tr></table><br/></div></div>"
            ]
          },
          "metadata": {}
        },
        {
          "output_type": "display_data",
          "data": {
            "text/plain": [
              "<IPython.core.display.HTML object>"
            ],
            "text/html": [
              " View run <strong style=\"color:#cdcd00\">trim-thunder-9</strong> at: <a href='https://wandb.ai/real100percent/logistic_regression_final/runs/rlcsi3ut' target=\"_blank\">https://wandb.ai/real100percent/logistic_regression_final/runs/rlcsi3ut</a><br/>Synced 5 W&B file(s), 0 media file(s), 0 artifact file(s) and 0 other file(s)"
            ]
          },
          "metadata": {}
        },
        {
          "output_type": "display_data",
          "data": {
            "text/plain": [
              "<IPython.core.display.HTML object>"
            ],
            "text/html": [
              "Find logs at: <code>./wandb/run-20230604_113943-rlcsi3ut/logs</code>"
            ]
          },
          "metadata": {}
        },
        {
          "output_type": "display_data",
          "data": {
            "text/plain": [
              "<IPython.core.display.HTML object>"
            ],
            "text/html": [
              "Successfully finished last run (ID:rlcsi3ut). Initializing new run:<br/>"
            ]
          },
          "metadata": {}
        },
        {
          "output_type": "display_data",
          "data": {
            "text/plain": [
              "<IPython.core.display.HTML object>"
            ],
            "text/html": [
              "Tracking run with wandb version 0.15.3"
            ]
          },
          "metadata": {}
        },
        {
          "output_type": "display_data",
          "data": {
            "text/plain": [
              "<IPython.core.display.HTML object>"
            ],
            "text/html": [
              "Run data is saved locally in <code>/content/wandb/run-20230604_114047-0gheecq9</code>"
            ]
          },
          "metadata": {}
        },
        {
          "output_type": "display_data",
          "data": {
            "text/plain": [
              "<IPython.core.display.HTML object>"
            ],
            "text/html": [
              "Syncing run <strong><a href='https://wandb.ai/real100percent/logistic_regression_final/runs/0gheecq9' target=\"_blank\">fluent-grass-10</a></strong> to <a href='https://wandb.ai/real100percent/logistic_regression_final' target=\"_blank\">Weights & Biases</a> (<a href='https://wandb.me/run' target=\"_blank\">docs</a>)<br/>"
            ]
          },
          "metadata": {}
        },
        {
          "output_type": "display_data",
          "data": {
            "text/plain": [
              "<IPython.core.display.HTML object>"
            ],
            "text/html": [
              " View project at <a href='https://wandb.ai/real100percent/logistic_regression_final' target=\"_blank\">https://wandb.ai/real100percent/logistic_regression_final</a>"
            ]
          },
          "metadata": {}
        },
        {
          "output_type": "display_data",
          "data": {
            "text/plain": [
              "<IPython.core.display.HTML object>"
            ],
            "text/html": [
              " View run at <a href='https://wandb.ai/real100percent/logistic_regression_final/runs/0gheecq9' target=\"_blank\">https://wandb.ai/real100percent/logistic_regression_final/runs/0gheecq9</a>"
            ]
          },
          "metadata": {}
        },
        {
          "output_type": "stream",
          "name": "stdout",
          "text": [
            "{'encoder': 'LabelEncoder', 'scaler': 'StandardScaler', 'test_size': 0.2, 'do_smote': False, 'search_method': 'Grid', 'cv': 3}\n"
          ]
        },
        {
          "output_type": "stream",
          "name": "stderr",
          "text": [
            "/usr/local/lib/python3.10/dist-packages/sklearn/preprocessing/_label.py:116: DataConversionWarning: A column-vector y was passed when a 1d array was expected. Please change the shape of y to (n_samples, ), for example using ravel().\n",
            "  y = column_or_1d(y, warn=True)\n"
          ]
        },
        {
          "output_type": "stream",
          "name": "stdout",
          "text": [
            "Fitting 3 folds for each of 72 candidates, totalling 216 fits\n"
          ]
        },
        {
          "output_type": "stream",
          "name": "stderr",
          "text": [
            "/usr/local/lib/python3.10/dist-packages/sklearn/model_selection/_validation.py:378: FitFailedWarning: \n",
            "36 fits failed out of a total of 216.\n",
            "The score on these train-test partitions for these parameters will be set to nan.\n",
            "If these failures are not expected, you can try to debug them by setting error_score='raise'.\n",
            "\n",
            "Below are more details about the failures:\n",
            "--------------------------------------------------------------------------------\n",
            "36 fits failed with the following error:\n",
            "Traceback (most recent call last):\n",
            "  File \"/usr/local/lib/python3.10/dist-packages/sklearn/model_selection/_validation.py\", line 686, in _fit_and_score\n",
            "    estimator.fit(X_train, y_train, **fit_params)\n",
            "  File \"/usr/local/lib/python3.10/dist-packages/sklearn/linear_model/_logistic.py\", line 1162, in fit\n",
            "    solver = _check_solver(self.solver, self.penalty, self.dual)\n",
            "  File \"/usr/local/lib/python3.10/dist-packages/sklearn/linear_model/_logistic.py\", line 71, in _check_solver\n",
            "    raise ValueError(\"penalty='none' is not supported for the liblinear solver\")\n",
            "ValueError: penalty='none' is not supported for the liblinear solver\n",
            "\n",
            "  warnings.warn(some_fits_failed_message, FitFailedWarning)\n",
            "/usr/local/lib/python3.10/dist-packages/sklearn/model_selection/_search.py:952: UserWarning: One or more of the test scores are non-finite: [0.21813725 0.21875    0.21721814 0.21905637 0.21905637        nan\n",
            " 0.21813725 0.21875    0.21721814 0.21905637 0.21905637        nan\n",
            " 0.21813725 0.21875    0.21721814 0.21905637 0.21905637        nan\n",
            " 0.21813725 0.21875    0.21721814 0.21905637 0.21905637        nan\n",
            " 0.22058824 0.22028186 0.21813725 0.21905637 0.21905637        nan\n",
            " 0.22058824 0.22028186 0.21813725 0.21905637 0.21905637        nan\n",
            " 0.22058824 0.22028186 0.21813725 0.21905637 0.21905637        nan\n",
            " 0.22058824 0.22028186 0.21813725 0.21905637 0.21905637        nan\n",
            " 0.22273284 0.22273284 0.22120098 0.21905637 0.21905637        nan\n",
            " 0.22273284 0.22273284 0.22120098 0.21905637 0.21905637        nan\n",
            " 0.22273284 0.22273284 0.22120098 0.21905637 0.21905637        nan\n",
            " 0.22273284 0.22273284 0.22120098 0.21905637 0.21905637        nan]\n",
            "  warnings.warn(\n"
          ]
        },
        {
          "output_type": "stream",
          "name": "stdout",
          "text": [
            "LogisticRegression(C=0.1, random_state=42)\n",
            "{'C': 0.1, 'max_iter': 100, 'penalty': 'l2', 'solver': 'lbfgs'}\n",
            "best_params_grid['C']:  0.1\n",
            "best_params_grid['max_iter']:  100\n",
            "best_params_grid['penalty']: l2\n",
            "best_params_grid['solver']: lbfgs\n",
            "{'encoder': 'LabelEncoder', 'scaler': 'StandardScaler', 'test_size': 0.2, 'do_smote': False, 'search_method': 'Grid', 'cv': 3, 'C': 0.1, 'max_iter': 100, 'penalty': 'l2', 'solver': 'lbfgs'}\n",
            "Accuracy: 0.22276621787025705\n",
            "Confusion Matrix:\n",
            " [[13  7  3  1  0  1  0  4  2  2  1  3  4  4  0  2]\n",
            " [ 4 19  2  6  0  5  0  4  0  2  3  0  1  3  1  2]\n",
            " [ 1  0 24  9  0  4  0  7  2  1  4  0  0  1  0  3]\n",
            " [ 4  3  7 24  0  4  0  7  1  1  2  3  0  1  0  5]\n",
            " [ 4  7  0  1  0  1  0  0  0  1  1  0  2  0  0  1]\n",
            " [ 4 14  3  5  1  3  0 10  1  1  2  0  3  1  0  0]\n",
            " [ 2  6  5  3  0  0  0  2  2  1  2  2  0  2  0  0]\n",
            " [ 4  7 10 12  0  3  0 17  1  0  7  2  1  1  0  3]\n",
            " [ 3  3  0  1  0  1  0  0 15 16 11  5  4  4  0  2]\n",
            " [11  5  1  3  0  0  1  2 12 10  4  3  4  1  0  1]\n",
            " [ 6  4  8  5  0  0  0  2  5  3 16  7  0  2  0  1]\n",
            " [ 6  8  7  0  0  0  0  2  5  4  7 18  2  2  1  3]\n",
            " [ 9  7  0  0  0  1  0  1  7  6  3  3  7  2  1  1]\n",
            " [ 3  2  6  4  0  2  0  0  6  4  8  2  4  8  0  4]\n",
            " [13  1  2  0  0  0  0  0  5  3  2  3  3  1  1  4]\n",
            " [ 5  3 12  8  0  1  0  5  2  2  4  2  1  1  0  7]]\n",
            "F1 Score: 0.18376236579286992\n",
            "Recall: 0.19853806843973193\n",
            "Precision: 0.19332177549117835\n",
            "Encoder: LabelEncoder, Scaler: StandardScaler, Test Size: 0.2, SMOTE: False\n"
          ]
        },
        {
          "output_type": "display_data",
          "data": {
            "text/plain": [
              "<IPython.core.display.HTML object>"
            ],
            "text/html": [
              "Finishing last run (ID:0gheecq9) before initializing another..."
            ]
          },
          "metadata": {}
        },
        {
          "output_type": "display_data",
          "data": {
            "text/plain": [
              "<IPython.core.display.HTML object>"
            ],
            "text/html": [
              "Waiting for W&B process to finish... <strong style=\"color:green\">(success).</strong>"
            ]
          },
          "metadata": {}
        },
        {
          "output_type": "display_data",
          "data": {
            "text/plain": [
              "<IPython.core.display.HTML object>"
            ],
            "text/html": [
              "<style>\n",
              "    table.wandb td:nth-child(1) { padding: 0 10px; text-align: left ; width: auto;} td:nth-child(2) {text-align: left ; width: 100%}\n",
              "    .wandb-row { display: flex; flex-direction: row; flex-wrap: wrap; justify-content: flex-start; width: 100% }\n",
              "    .wandb-col { display: flex; flex-direction: column; flex-basis: 100%; flex: 1; padding: 10px; }\n",
              "    </style>\n",
              "<div class=\"wandb-row\"><div class=\"wandb-col\"><h3>Run history:</h3><br/><table class=\"wandb\"><tr><td>Accuracy</td><td>▁</td></tr><tr><td>F1 Score</td><td>▁</td></tr><tr><td>Precision</td><td>▁</td></tr><tr><td>Recall</td><td>▁</td></tr></table><br/></div><div class=\"wandb-col\"><h3>Run summary:</h3><br/><table class=\"wandb\"><tr><td>Accuracy</td><td>0.22277</td></tr></table><br/></div></div>"
            ]
          },
          "metadata": {}
        },
        {
          "output_type": "display_data",
          "data": {
            "text/plain": [
              "<IPython.core.display.HTML object>"
            ],
            "text/html": [
              " View run <strong style=\"color:#cdcd00\">fluent-grass-10</strong> at: <a href='https://wandb.ai/real100percent/logistic_regression_final/runs/0gheecq9' target=\"_blank\">https://wandb.ai/real100percent/logistic_regression_final/runs/0gheecq9</a><br/>Synced 5 W&B file(s), 0 media file(s), 0 artifact file(s) and 0 other file(s)"
            ]
          },
          "metadata": {}
        },
        {
          "output_type": "display_data",
          "data": {
            "text/plain": [
              "<IPython.core.display.HTML object>"
            ],
            "text/html": [
              "Find logs at: <code>./wandb/run-20230604_114047-0gheecq9/logs</code>"
            ]
          },
          "metadata": {}
        },
        {
          "output_type": "display_data",
          "data": {
            "text/plain": [
              "<IPython.core.display.HTML object>"
            ],
            "text/html": [
              "Successfully finished last run (ID:0gheecq9). Initializing new run:<br/>"
            ]
          },
          "metadata": {}
        },
        {
          "output_type": "display_data",
          "data": {
            "text/plain": [
              "<IPython.core.display.HTML object>"
            ],
            "text/html": [
              "Tracking run with wandb version 0.15.3"
            ]
          },
          "metadata": {}
        },
        {
          "output_type": "display_data",
          "data": {
            "text/plain": [
              "<IPython.core.display.HTML object>"
            ],
            "text/html": [
              "Run data is saved locally in <code>/content/wandb/run-20230604_114112-bx28e082</code>"
            ]
          },
          "metadata": {}
        },
        {
          "output_type": "display_data",
          "data": {
            "text/plain": [
              "<IPython.core.display.HTML object>"
            ],
            "text/html": [
              "Syncing run <strong><a href='https://wandb.ai/real100percent/logistic_regression_final/runs/bx28e082' target=\"_blank\">eager-lake-11</a></strong> to <a href='https://wandb.ai/real100percent/logistic_regression_final' target=\"_blank\">Weights & Biases</a> (<a href='https://wandb.me/run' target=\"_blank\">docs</a>)<br/>"
            ]
          },
          "metadata": {}
        },
        {
          "output_type": "display_data",
          "data": {
            "text/plain": [
              "<IPython.core.display.HTML object>"
            ],
            "text/html": [
              " View project at <a href='https://wandb.ai/real100percent/logistic_regression_final' target=\"_blank\">https://wandb.ai/real100percent/logistic_regression_final</a>"
            ]
          },
          "metadata": {}
        },
        {
          "output_type": "display_data",
          "data": {
            "text/plain": [
              "<IPython.core.display.HTML object>"
            ],
            "text/html": [
              " View run at <a href='https://wandb.ai/real100percent/logistic_regression_final/runs/bx28e082' target=\"_blank\">https://wandb.ai/real100percent/logistic_regression_final/runs/bx28e082</a>"
            ]
          },
          "metadata": {}
        },
        {
          "output_type": "stream",
          "name": "stdout",
          "text": [
            "{'encoder': 'LabelEncoder', 'scaler': 'StandardScaler', 'test_size': 0.2, 'do_smote': False, 'search_method': 'Grid', 'cv': 5}\n"
          ]
        },
        {
          "output_type": "stream",
          "name": "stderr",
          "text": [
            "/usr/local/lib/python3.10/dist-packages/sklearn/preprocessing/_label.py:116: DataConversionWarning: A column-vector y was passed when a 1d array was expected. Please change the shape of y to (n_samples, ), for example using ravel().\n",
            "  y = column_or_1d(y, warn=True)\n"
          ]
        },
        {
          "output_type": "stream",
          "name": "stdout",
          "text": [
            "Fitting 5 folds for each of 72 candidates, totalling 360 fits\n"
          ]
        },
        {
          "output_type": "stream",
          "name": "stderr",
          "text": [
            "/usr/local/lib/python3.10/dist-packages/sklearn/model_selection/_validation.py:378: FitFailedWarning: \n",
            "60 fits failed out of a total of 360.\n",
            "The score on these train-test partitions for these parameters will be set to nan.\n",
            "If these failures are not expected, you can try to debug them by setting error_score='raise'.\n",
            "\n",
            "Below are more details about the failures:\n",
            "--------------------------------------------------------------------------------\n",
            "60 fits failed with the following error:\n",
            "Traceback (most recent call last):\n",
            "  File \"/usr/local/lib/python3.10/dist-packages/sklearn/model_selection/_validation.py\", line 686, in _fit_and_score\n",
            "    estimator.fit(X_train, y_train, **fit_params)\n",
            "  File \"/usr/local/lib/python3.10/dist-packages/sklearn/linear_model/_logistic.py\", line 1162, in fit\n",
            "    solver = _check_solver(self.solver, self.penalty, self.dual)\n",
            "  File \"/usr/local/lib/python3.10/dist-packages/sklearn/linear_model/_logistic.py\", line 71, in _check_solver\n",
            "    raise ValueError(\"penalty='none' is not supported for the liblinear solver\")\n",
            "ValueError: penalty='none' is not supported for the liblinear solver\n",
            "\n",
            "  warnings.warn(some_fits_failed_message, FitFailedWarning)\n",
            "/usr/local/lib/python3.10/dist-packages/sklearn/model_selection/_search.py:952: UserWarning: One or more of the test scores are non-finite: [0.22457699 0.22457699 0.22212582 0.22549582 0.22549582        nan\n",
            " 0.22457699 0.22457699 0.22212582 0.22549582 0.22549582        nan\n",
            " 0.22457699 0.22457699 0.22212582 0.22549582 0.22549582        nan\n",
            " 0.22457699 0.22457699 0.22212582 0.22549582 0.22549582        nan\n",
            " 0.22365768 0.22365768 0.22243351 0.22549582 0.22549582        nan\n",
            " 0.22365768 0.22365768 0.22243351 0.22549582 0.22549582        nan\n",
            " 0.22365768 0.22365768 0.22243351 0.22549582 0.22549582        nan\n",
            " 0.22365768 0.22365768 0.22243351 0.22549582 0.22549582        nan\n",
            " 0.21814607 0.21814607 0.22182236 0.22549582 0.22549582        nan\n",
            " 0.21814607 0.21814607 0.22182236 0.22549582 0.22549582        nan\n",
            " 0.21814607 0.21814607 0.22182236 0.22549582 0.22549582        nan\n",
            " 0.21814607 0.21814607 0.22182236 0.22549582 0.22549582        nan]\n",
            "  warnings.warn(\n",
            "/usr/local/lib/python3.10/dist-packages/sklearn/linear_model/_logistic.py:1173: FutureWarning: `penalty='none'`has been deprecated in 1.2 and will be removed in 1.4. To keep the past behaviour, set `penalty=None`.\n",
            "  warnings.warn(\n",
            "/usr/local/lib/python3.10/dist-packages/sklearn/linear_model/_logistic.py:1181: UserWarning: Setting penalty=None will ignore the C and l1_ratio parameters\n",
            "  warnings.warn(\n"
          ]
        },
        {
          "output_type": "stream",
          "name": "stdout",
          "text": [
            "LogisticRegression(C=10, penalty='none', random_state=42)\n",
            "{'C': 10, 'max_iter': 100, 'penalty': 'none', 'solver': 'lbfgs'}\n",
            "best_params_grid['C']:  10\n",
            "best_params_grid['max_iter']:  100\n",
            "best_params_grid['penalty']: none\n",
            "best_params_grid['solver']: lbfgs\n",
            "{'encoder': 'LabelEncoder', 'scaler': 'StandardScaler', 'test_size': 0.2, 'do_smote': False, 'search_method': 'Grid', 'cv': 5, 'C': 10, 'max_iter': 100, 'penalty': 'none', 'solver': 'lbfgs'}\n",
            "Accuracy: 0.2178702570379437\n",
            "Confusion Matrix:\n",
            " [[12  6  4  2  0  2  0  3  1  1  0  5  4  5  0  2]\n",
            " [ 6 18  3  5  0  5  0  5  0  2  3  0  1  3  0  1]\n",
            " [ 1  0 23 10  0  3  0  7  2  1  4  0  0  2  0  3]\n",
            " [ 3  4  7 26  0  2  0  8  1  1  2  3  0  0  0  5]\n",
            " [ 5  6  0  1  0  0  0  0  0  0  1  0  3  1  0  1]\n",
            " [ 4 13  3  7  1  2  0 10  1  1  2  0  2  2  0  0]\n",
            " [ 2  6  5  3  0  0  0  2  2  1  0  2  0  2  1  1]\n",
            " [ 4  7 10 14  0  2  0 18  1  0  6  1  1  1  0  3]\n",
            " [ 3  3  0  1  0  1  0  0 16 16 10  4  5  3  1  2]\n",
            " [10  6  1  3  0  0  1  2 13  9  4  3  5  0  0  1]\n",
            " [ 3  5  8  7  0  0  0  3  5  3 14  7  0  4  0  0]\n",
            " [ 9  5  6  2  0  0  0  3  3  3  7 15  2  3  1  6]\n",
            " [10  7  0  0  0  1  0  1  7  7  3  3  5  2  1  1]\n",
            " [ 4  2  3  4  0  2  0  0  6  4  8  2  4 10  0  4]\n",
            " [13  1  2  0  0  0  0  0  4  3  2  4  3  2  1  3]\n",
            " [ 7  2 12  9  0  1  0  4  2  1  4  1  1  0  0  9]]\n",
            "F1 Score: 0.17871590665987763\n",
            "Recall: 0.19351695731381718\n",
            "Precision: 0.1846698156543557\n",
            "Encoder: LabelEncoder, Scaler: StandardScaler, Test Size: 0.2, SMOTE: False\n"
          ]
        },
        {
          "output_type": "display_data",
          "data": {
            "text/plain": [
              "<IPython.core.display.HTML object>"
            ],
            "text/html": [
              "Finishing last run (ID:bx28e082) before initializing another..."
            ]
          },
          "metadata": {}
        },
        {
          "output_type": "display_data",
          "data": {
            "text/plain": [
              "<IPython.core.display.HTML object>"
            ],
            "text/html": [
              "Waiting for W&B process to finish... <strong style=\"color:green\">(success).</strong>"
            ]
          },
          "metadata": {}
        },
        {
          "output_type": "display_data",
          "data": {
            "text/plain": [
              "<IPython.core.display.HTML object>"
            ],
            "text/html": [
              "<style>\n",
              "    table.wandb td:nth-child(1) { padding: 0 10px; text-align: left ; width: auto;} td:nth-child(2) {text-align: left ; width: 100%}\n",
              "    .wandb-row { display: flex; flex-direction: row; flex-wrap: wrap; justify-content: flex-start; width: 100% }\n",
              "    .wandb-col { display: flex; flex-direction: column; flex-basis: 100%; flex: 1; padding: 10px; }\n",
              "    </style>\n",
              "<div class=\"wandb-row\"><div class=\"wandb-col\"><h3>Run history:</h3><br/><table class=\"wandb\"><tr><td>Accuracy</td><td>▁</td></tr><tr><td>F1 Score</td><td>▁</td></tr><tr><td>Precision</td><td>▁</td></tr><tr><td>Recall</td><td>▁</td></tr></table><br/></div><div class=\"wandb-col\"><h3>Run summary:</h3><br/><table class=\"wandb\"><tr><td>Accuracy</td><td>0.21787</td></tr></table><br/></div></div>"
            ]
          },
          "metadata": {}
        },
        {
          "output_type": "display_data",
          "data": {
            "text/plain": [
              "<IPython.core.display.HTML object>"
            ],
            "text/html": [
              " View run <strong style=\"color:#cdcd00\">eager-lake-11</strong> at: <a href='https://wandb.ai/real100percent/logistic_regression_final/runs/bx28e082' target=\"_blank\">https://wandb.ai/real100percent/logistic_regression_final/runs/bx28e082</a><br/>Synced 5 W&B file(s), 0 media file(s), 0 artifact file(s) and 0 other file(s)"
            ]
          },
          "metadata": {}
        },
        {
          "output_type": "display_data",
          "data": {
            "text/plain": [
              "<IPython.core.display.HTML object>"
            ],
            "text/html": [
              "Find logs at: <code>./wandb/run-20230604_114112-bx28e082/logs</code>"
            ]
          },
          "metadata": {}
        },
        {
          "output_type": "display_data",
          "data": {
            "text/plain": [
              "<IPython.core.display.HTML object>"
            ],
            "text/html": [
              "Successfully finished last run (ID:bx28e082). Initializing new run:<br/>"
            ]
          },
          "metadata": {}
        },
        {
          "output_type": "display_data",
          "data": {
            "text/plain": [
              "<IPython.core.display.HTML object>"
            ],
            "text/html": [
              "Tracking run with wandb version 0.15.3"
            ]
          },
          "metadata": {}
        },
        {
          "output_type": "display_data",
          "data": {
            "text/plain": [
              "<IPython.core.display.HTML object>"
            ],
            "text/html": [
              "Run data is saved locally in <code>/content/wandb/run-20230604_114156-8agyio15</code>"
            ]
          },
          "metadata": {}
        },
        {
          "output_type": "display_data",
          "data": {
            "text/plain": [
              "<IPython.core.display.HTML object>"
            ],
            "text/html": [
              "Syncing run <strong><a href='https://wandb.ai/real100percent/logistic_regression_final/runs/8agyio15' target=\"_blank\">spring-meadow-12</a></strong> to <a href='https://wandb.ai/real100percent/logistic_regression_final' target=\"_blank\">Weights & Biases</a> (<a href='https://wandb.me/run' target=\"_blank\">docs</a>)<br/>"
            ]
          },
          "metadata": {}
        },
        {
          "output_type": "display_data",
          "data": {
            "text/plain": [
              "<IPython.core.display.HTML object>"
            ],
            "text/html": [
              " View project at <a href='https://wandb.ai/real100percent/logistic_regression_final' target=\"_blank\">https://wandb.ai/real100percent/logistic_regression_final</a>"
            ]
          },
          "metadata": {}
        },
        {
          "output_type": "display_data",
          "data": {
            "text/plain": [
              "<IPython.core.display.HTML object>"
            ],
            "text/html": [
              " View run at <a href='https://wandb.ai/real100percent/logistic_regression_final/runs/8agyio15' target=\"_blank\">https://wandb.ai/real100percent/logistic_regression_final/runs/8agyio15</a>"
            ]
          },
          "metadata": {}
        },
        {
          "output_type": "stream",
          "name": "stdout",
          "text": [
            "{'encoder': 'LabelEncoder', 'scaler': 'StandardScaler', 'test_size': 0.2, 'do_smote': False, 'search_method': 'Grid', 'cv': 7}\n"
          ]
        },
        {
          "output_type": "stream",
          "name": "stderr",
          "text": [
            "/usr/local/lib/python3.10/dist-packages/sklearn/preprocessing/_label.py:116: DataConversionWarning: A column-vector y was passed when a 1d array was expected. Please change the shape of y to (n_samples, ), for example using ravel().\n",
            "  y = column_or_1d(y, warn=True)\n"
          ]
        },
        {
          "output_type": "stream",
          "name": "stdout",
          "text": [
            "Fitting 7 folds for each of 72 candidates, totalling 504 fits\n"
          ]
        }
      ],
      "source": [
        "from sklearn.model_selection import train_test_split\n",
        "from sklearn.preprocessing import LabelEncoder, StandardScaler, OneHotEncoder\n",
        "from imblearn.over_sampling import SMOTE\n",
        "from sklearn.linear_model import LogisticRegression\n",
        "from sklearn.metrics import accuracy_score, confusion_matrix, f1_score, recall_score, precision_score\n",
        "import itertools\n",
        "import wandb\n",
        "import numpy as np\n",
        "\n",
        "from sklearn.model_selection import GridSearchCV\n",
        "\n",
        "\n",
        "# Define the combinations of hyperparameters\n",
        "encoder_list = ['LabelEncoder', 'OneHotEncoder']\n",
        "scaler_list = ['StandardScaler', 'MinMaxScaler', 'RobustScaler', 'No Scale']\n",
        "test_size_list = [0.3, 0.2, 0.1]\n",
        "do_smote_list = [True, False]\n",
        "SearchMethods = ['Grid']\n",
        "cv_list = [3, 5, 7]\n",
        "\n",
        "# Parameter grid\n",
        "param_grid = [    \n",
        "    {'penalty' : ['l2', 'none'],\n",
        "    'C' : [ 10, 1.0, 0.1],\n",
        "    'solver' : ['lbfgs','newton-cg','liblinear'],\n",
        "    'max_iter' : [100, 1000, 2500, 5000]\n",
        "    }\n",
        "]\n",
        "\n",
        "combinations = list(itertools.product(encoder_list, scaler_list, test_size_list, do_smote_list, SearchMethods, cv_list))\n",
        "\n",
        "for encoder, scaler, test_size, do_smote, search_method, cv in combinations:\n",
        "    # Print the hyperparameter settings\n",
        "    print(f\"Encoder: {encoder}, Scaler: {scaler}, Test Size: {test_size}, SMOTE: {do_smote}\")\n",
        "    wandb.init(project='logistic_regression_final', config={\n",
        "        'encoder': encoder,\n",
        "        'scaler': scaler,\n",
        "        'test_size': test_size,\n",
        "        'do_smote': do_smote,\n",
        "        'search_method' : search_method,\n",
        "        \"cv\" : cv\n",
        "    })\n",
        "\n",
        "    \n",
        "    # Apply the specified encoder and scaler\n",
        "    config = wandb.config\n",
        "    wandb.config.update(config)\n",
        "    print(config)\n",
        "\n",
        "    y = Encoding(df = df, encoding_method=encoder)\n",
        "\n",
        "    # Split the dataset into training and testing sets\n",
        "    X_train, X_test, y_train, y_test = train_test_split(X, y, random_state=5, test_size=test_size)\n",
        "\n",
        "\n",
        "    X_train, X_test = Scaling(scale_method=scaler, X_train=X_train, X_test=X_test)\n",
        "\n",
        "    if(do_smote == 'True'): # If true,\n",
        "        smote = SMOTE(sampling_strategy='auto', random_state=0)\n",
        "        X_train, y_train = smote.fit_resample(X_train,y_train)\n",
        "\n",
        "    \n",
        "    # 모델 평가 지표\n",
        "    wandb.define_metric('accuracy', summary='max')\n",
        "    wandb.define_metric('F1 Score', summary='max')\n",
        "    wandb.define_metric('Recall', summary='max')\n",
        "    wandb.define_metric('Precision', summary='max')\n",
        "\n",
        "\n",
        "    # Create and fit the logistic regression model\n",
        "    base_model = LogisticRegression(random_state=42)\n",
        "\n",
        "    model = base_model.fit(X_train, y_train)\n",
        "    predictions = base_model.predict(X_test)\n",
        "\n",
        "    if(search_method == 'Base'):\n",
        "      pass\n",
        "\n",
        "    elif(search_method == 'Grid'):\n",
        "      # Grid Search\n",
        "      grid_search = GridSearchCV(estimator=base_model, param_grid = param_grid, cv = cv, verbose=True, n_jobs=-1)\n",
        "\n",
        "\n",
        "      best_model = grid_search.fit(X_train, y_train)\n",
        "      print(best_model.best_estimator_)\n",
        "\n",
        "      best_params_grid = grid_search.best_params_\n",
        "      print(best_params_grid)\n",
        "      # {'C': 1.0, 'max_iter': 100, 'penalty': 'l2', 'solver': 'liblinear'}\n",
        "\n",
        "      print(\"best_params_grid['C']: \", best_params_grid['C'])\n",
        "      print(\"best_params_grid['max_iter']: \", best_params_grid['max_iter'])\n",
        "      print(\"best_params_grid['penalty']:\", best_params_grid['penalty'])\n",
        "      print(\"best_params_grid['solver']:\", best_params_grid['solver'])\n",
        "\n",
        "\n",
        "      config.update({'C' : best_params_grid['C']})\n",
        "      config.update({'max_iter' : best_params_grid['max_iter']})\n",
        "      config.update({'penalty' : best_params_grid['penalty']})\n",
        "      config.update({'solver' : best_params_grid['solver']})\n",
        "\n",
        "      predictions = best_model.predict(X_test)\n",
        "\n",
        "    \n",
        "\n",
        "    # Calculate evaluation metrics\n",
        "    accuracy = accuracy_score(y_test, predictions)\n",
        "    cm = confusion_matrix(y_test, predictions)\n",
        "    if(encoder == 'OneHotEncoder'):\n",
        "        cm = confusion_matrix(y_test.argmax(axis=1), predictions.argmax(axis=1))\n",
        "    else:\n",
        "        cm = confusion_matrix(y_test, predictions)\n",
        "    f1 = f1_score(y_test, predictions, average='macro')\n",
        "    recall = recall_score(y_test, predictions, average='macro')\n",
        "    precision = precision_score(y_test, predictions, average='macro')\n",
        "\n",
        "    # Log the evaluation metrics to WandB\n",
        "    wandb.log({'Accuracy': accuracy})\n",
        "    wandb.log({'Confusion Matrix': cm})\n",
        "    wandb.log({'F1 Score': f1})\n",
        "    wandb.log({'Recall': recall})\n",
        "    wandb.log({'Precision': precision})\n",
        "\n",
        "    print(config)\n",
        "\n",
        "    # Print the evaluation metrics\n",
        "    print(\"Accuracy:\", accuracy)\n",
        "    print(\"Confusion Matrix:\\n\", cm)\n",
        "    print(\"F1 Score:\", f1)\n",
        "    print(\"Recall:\", recall)\n",
        "    print(\"Precision:\", precision)\n"
      ]
    },
    {
      "cell_type": "code",
      "execution_count": 12,
      "metadata": {
        "id": "D3GKXG9Pyqk9",
        "colab": {
          "base_uri": "https://localhost:8080/",
          "height": 151,
          "referenced_widgets": [
            "46367c1aacff4ff2b42823d8bfdcf21b",
            "217576cc168a47b2aab6e8aa27ed8dda",
            "4a7a39a1e58b47c88088b1db25f5005f",
            "c854c36d1db540d7a7ddbeb7f643205d",
            "c718441895dd4c4fbde02ec8c4490e40",
            "a83c9ac2277045ee944659c62320d0c8",
            "fce9c8cb2ea04734b063ff75fc15e420",
            "1c875bcf616045eea100d126eb70f022"
          ]
        },
        "outputId": "58dd43a6-4e0e-4343-e92d-cb4cb4e59124"
      },
      "outputs": [
        {
          "output_type": "display_data",
          "data": {
            "text/plain": [
              "<IPython.core.display.HTML object>"
            ],
            "text/html": [
              "Waiting for W&B process to finish... <strong style=\"color:green\">(success).</strong>"
            ]
          },
          "metadata": {}
        },
        {
          "output_type": "display_data",
          "data": {
            "text/plain": [
              "VBox(children=(Label(value='0.001 MB of 0.001 MB uploaded (0.000 MB deduped)\\r'), FloatProgress(value=1.0, max…"
            ],
            "application/vnd.jupyter.widget-view+json": {
              "version_major": 2,
              "version_minor": 0,
              "model_id": "46367c1aacff4ff2b42823d8bfdcf21b"
            }
          },
          "metadata": {}
        },
        {
          "output_type": "display_data",
          "data": {
            "text/plain": [
              "<IPython.core.display.HTML object>"
            ],
            "text/html": [
              " View run <strong style=\"color:#cdcd00\">chocolate-dream-15</strong> at: <a href='https://wandb.ai/real100percent/logistic_regression_test/runs/6ptggbqg' target=\"_blank\">https://wandb.ai/real100percent/logistic_regression_test/runs/6ptggbqg</a><br/>Synced 5 W&B file(s), 0 media file(s), 0 artifact file(s) and 0 other file(s)"
            ]
          },
          "metadata": {}
        },
        {
          "output_type": "display_data",
          "data": {
            "text/plain": [
              "<IPython.core.display.HTML object>"
            ],
            "text/html": [
              "Find logs at: <code>./wandb/run-20230604_112947-6ptggbqg/logs</code>"
            ]
          },
          "metadata": {}
        }
      ],
      "source": [
        "wandb.finish()"
      ]
    }
  ],
  "metadata": {
    "colab": {
      "provenance": [],
      "include_colab_link": true
    },
    "kernelspec": {
      "display_name": "Python 3",
      "name": "python3"
    },
    "language_info": {
      "name": "python"
    },
    "widgets": {
      "application/vnd.jupyter.widget-state+json": {
        "06d62607a9ac498bae72a7dcf29b9fbe": {
          "model_module": "@jupyter-widgets/controls",
          "model_name": "VBoxModel",
          "model_module_version": "1.5.0",
          "state": {
            "_dom_classes": [],
            "_model_module": "@jupyter-widgets/controls",
            "_model_module_version": "1.5.0",
            "_model_name": "VBoxModel",
            "_view_count": null,
            "_view_module": "@jupyter-widgets/controls",
            "_view_module_version": "1.5.0",
            "_view_name": "VBoxView",
            "box_style": "",
            "children": [
              "IPY_MODEL_0c33fccf9fa64ec1a5eddf24802d2224",
              "IPY_MODEL_57513e6f07614556b3dccd1ad399c126"
            ],
            "layout": "IPY_MODEL_829af76055c94263b50fae847fc83b08"
          }
        },
        "0c33fccf9fa64ec1a5eddf24802d2224": {
          "model_module": "@jupyter-widgets/controls",
          "model_name": "LabelModel",
          "model_module_version": "1.5.0",
          "state": {
            "_dom_classes": [],
            "_model_module": "@jupyter-widgets/controls",
            "_model_module_version": "1.5.0",
            "_model_name": "LabelModel",
            "_view_count": null,
            "_view_module": "@jupyter-widgets/controls",
            "_view_module_version": "1.5.0",
            "_view_name": "LabelView",
            "description": "",
            "description_tooltip": null,
            "layout": "IPY_MODEL_3e685fad659b4540ad14fd41c838d1a3",
            "placeholder": "​",
            "style": "IPY_MODEL_6594cd7f70934867891a7a15d021fa65",
            "value": "0.001 MB of 0.009 MB uploaded (0.000 MB deduped)\r"
          }
        },
        "57513e6f07614556b3dccd1ad399c126": {
          "model_module": "@jupyter-widgets/controls",
          "model_name": "FloatProgressModel",
          "model_module_version": "1.5.0",
          "state": {
            "_dom_classes": [],
            "_model_module": "@jupyter-widgets/controls",
            "_model_module_version": "1.5.0",
            "_model_name": "FloatProgressModel",
            "_view_count": null,
            "_view_module": "@jupyter-widgets/controls",
            "_view_module_version": "1.5.0",
            "_view_name": "ProgressView",
            "bar_style": "",
            "description": "",
            "description_tooltip": null,
            "layout": "IPY_MODEL_418a8aea14fc45fc895afbe43369b152",
            "max": 1,
            "min": 0,
            "orientation": "horizontal",
            "style": "IPY_MODEL_c1876ba9bab64652bfdca13e6a58ec4b",
            "value": 0.11582764505119454
          }
        },
        "829af76055c94263b50fae847fc83b08": {
          "model_module": "@jupyter-widgets/base",
          "model_name": "LayoutModel",
          "model_module_version": "1.2.0",
          "state": {
            "_model_module": "@jupyter-widgets/base",
            "_model_module_version": "1.2.0",
            "_model_name": "LayoutModel",
            "_view_count": null,
            "_view_module": "@jupyter-widgets/base",
            "_view_module_version": "1.2.0",
            "_view_name": "LayoutView",
            "align_content": null,
            "align_items": null,
            "align_self": null,
            "border": null,
            "bottom": null,
            "display": null,
            "flex": null,
            "flex_flow": null,
            "grid_area": null,
            "grid_auto_columns": null,
            "grid_auto_flow": null,
            "grid_auto_rows": null,
            "grid_column": null,
            "grid_gap": null,
            "grid_row": null,
            "grid_template_areas": null,
            "grid_template_columns": null,
            "grid_template_rows": null,
            "height": null,
            "justify_content": null,
            "justify_items": null,
            "left": null,
            "margin": null,
            "max_height": null,
            "max_width": null,
            "min_height": null,
            "min_width": null,
            "object_fit": null,
            "object_position": null,
            "order": null,
            "overflow": null,
            "overflow_x": null,
            "overflow_y": null,
            "padding": null,
            "right": null,
            "top": null,
            "visibility": null,
            "width": null
          }
        },
        "3e685fad659b4540ad14fd41c838d1a3": {
          "model_module": "@jupyter-widgets/base",
          "model_name": "LayoutModel",
          "model_module_version": "1.2.0",
          "state": {
            "_model_module": "@jupyter-widgets/base",
            "_model_module_version": "1.2.0",
            "_model_name": "LayoutModel",
            "_view_count": null,
            "_view_module": "@jupyter-widgets/base",
            "_view_module_version": "1.2.0",
            "_view_name": "LayoutView",
            "align_content": null,
            "align_items": null,
            "align_self": null,
            "border": null,
            "bottom": null,
            "display": null,
            "flex": null,
            "flex_flow": null,
            "grid_area": null,
            "grid_auto_columns": null,
            "grid_auto_flow": null,
            "grid_auto_rows": null,
            "grid_column": null,
            "grid_gap": null,
            "grid_row": null,
            "grid_template_areas": null,
            "grid_template_columns": null,
            "grid_template_rows": null,
            "height": null,
            "justify_content": null,
            "justify_items": null,
            "left": null,
            "margin": null,
            "max_height": null,
            "max_width": null,
            "min_height": null,
            "min_width": null,
            "object_fit": null,
            "object_position": null,
            "order": null,
            "overflow": null,
            "overflow_x": null,
            "overflow_y": null,
            "padding": null,
            "right": null,
            "top": null,
            "visibility": null,
            "width": null
          }
        },
        "6594cd7f70934867891a7a15d021fa65": {
          "model_module": "@jupyter-widgets/controls",
          "model_name": "DescriptionStyleModel",
          "model_module_version": "1.5.0",
          "state": {
            "_model_module": "@jupyter-widgets/controls",
            "_model_module_version": "1.5.0",
            "_model_name": "DescriptionStyleModel",
            "_view_count": null,
            "_view_module": "@jupyter-widgets/base",
            "_view_module_version": "1.2.0",
            "_view_name": "StyleView",
            "description_width": ""
          }
        },
        "418a8aea14fc45fc895afbe43369b152": {
          "model_module": "@jupyter-widgets/base",
          "model_name": "LayoutModel",
          "model_module_version": "1.2.0",
          "state": {
            "_model_module": "@jupyter-widgets/base",
            "_model_module_version": "1.2.0",
            "_model_name": "LayoutModel",
            "_view_count": null,
            "_view_module": "@jupyter-widgets/base",
            "_view_module_version": "1.2.0",
            "_view_name": "LayoutView",
            "align_content": null,
            "align_items": null,
            "align_self": null,
            "border": null,
            "bottom": null,
            "display": null,
            "flex": null,
            "flex_flow": null,
            "grid_area": null,
            "grid_auto_columns": null,
            "grid_auto_flow": null,
            "grid_auto_rows": null,
            "grid_column": null,
            "grid_gap": null,
            "grid_row": null,
            "grid_template_areas": null,
            "grid_template_columns": null,
            "grid_template_rows": null,
            "height": null,
            "justify_content": null,
            "justify_items": null,
            "left": null,
            "margin": null,
            "max_height": null,
            "max_width": null,
            "min_height": null,
            "min_width": null,
            "object_fit": null,
            "object_position": null,
            "order": null,
            "overflow": null,
            "overflow_x": null,
            "overflow_y": null,
            "padding": null,
            "right": null,
            "top": null,
            "visibility": null,
            "width": null
          }
        },
        "c1876ba9bab64652bfdca13e6a58ec4b": {
          "model_module": "@jupyter-widgets/controls",
          "model_name": "ProgressStyleModel",
          "model_module_version": "1.5.0",
          "state": {
            "_model_module": "@jupyter-widgets/controls",
            "_model_module_version": "1.5.0",
            "_model_name": "ProgressStyleModel",
            "_view_count": null,
            "_view_module": "@jupyter-widgets/base",
            "_view_module_version": "1.2.0",
            "_view_name": "StyleView",
            "bar_color": null,
            "description_width": ""
          }
        },
        "46367c1aacff4ff2b42823d8bfdcf21b": {
          "model_module": "@jupyter-widgets/controls",
          "model_name": "VBoxModel",
          "model_module_version": "1.5.0",
          "state": {
            "_dom_classes": [],
            "_model_module": "@jupyter-widgets/controls",
            "_model_module_version": "1.5.0",
            "_model_name": "VBoxModel",
            "_view_count": null,
            "_view_module": "@jupyter-widgets/controls",
            "_view_module_version": "1.5.0",
            "_view_name": "VBoxView",
            "box_style": "",
            "children": [
              "IPY_MODEL_217576cc168a47b2aab6e8aa27ed8dda",
              "IPY_MODEL_4a7a39a1e58b47c88088b1db25f5005f"
            ],
            "layout": "IPY_MODEL_c854c36d1db540d7a7ddbeb7f643205d"
          }
        },
        "217576cc168a47b2aab6e8aa27ed8dda": {
          "model_module": "@jupyter-widgets/controls",
          "model_name": "LabelModel",
          "model_module_version": "1.5.0",
          "state": {
            "_dom_classes": [],
            "_model_module": "@jupyter-widgets/controls",
            "_model_module_version": "1.5.0",
            "_model_name": "LabelModel",
            "_view_count": null,
            "_view_module": "@jupyter-widgets/controls",
            "_view_module_version": "1.5.0",
            "_view_name": "LabelView",
            "description": "",
            "description_tooltip": null,
            "layout": "IPY_MODEL_c718441895dd4c4fbde02ec8c4490e40",
            "placeholder": "​",
            "style": "IPY_MODEL_a83c9ac2277045ee944659c62320d0c8",
            "value": "0.001 MB of 0.019 MB uploaded (0.000 MB deduped)\r"
          }
        },
        "4a7a39a1e58b47c88088b1db25f5005f": {
          "model_module": "@jupyter-widgets/controls",
          "model_name": "FloatProgressModel",
          "model_module_version": "1.5.0",
          "state": {
            "_dom_classes": [],
            "_model_module": "@jupyter-widgets/controls",
            "_model_module_version": "1.5.0",
            "_model_name": "FloatProgressModel",
            "_view_count": null,
            "_view_module": "@jupyter-widgets/controls",
            "_view_module_version": "1.5.0",
            "_view_name": "ProgressView",
            "bar_style": "",
            "description": "",
            "description_tooltip": null,
            "layout": "IPY_MODEL_fce9c8cb2ea04734b063ff75fc15e420",
            "max": 1,
            "min": 0,
            "orientation": "horizontal",
            "style": "IPY_MODEL_1c875bcf616045eea100d126eb70f022",
            "value": 0.0553403995108031
          }
        },
        "c854c36d1db540d7a7ddbeb7f643205d": {
          "model_module": "@jupyter-widgets/base",
          "model_name": "LayoutModel",
          "model_module_version": "1.2.0",
          "state": {
            "_model_module": "@jupyter-widgets/base",
            "_model_module_version": "1.2.0",
            "_model_name": "LayoutModel",
            "_view_count": null,
            "_view_module": "@jupyter-widgets/base",
            "_view_module_version": "1.2.0",
            "_view_name": "LayoutView",
            "align_content": null,
            "align_items": null,
            "align_self": null,
            "border": null,
            "bottom": null,
            "display": null,
            "flex": null,
            "flex_flow": null,
            "grid_area": null,
            "grid_auto_columns": null,
            "grid_auto_flow": null,
            "grid_auto_rows": null,
            "grid_column": null,
            "grid_gap": null,
            "grid_row": null,
            "grid_template_areas": null,
            "grid_template_columns": null,
            "grid_template_rows": null,
            "height": null,
            "justify_content": null,
            "justify_items": null,
            "left": null,
            "margin": null,
            "max_height": null,
            "max_width": null,
            "min_height": null,
            "min_width": null,
            "object_fit": null,
            "object_position": null,
            "order": null,
            "overflow": null,
            "overflow_x": null,
            "overflow_y": null,
            "padding": null,
            "right": null,
            "top": null,
            "visibility": null,
            "width": null
          }
        },
        "c718441895dd4c4fbde02ec8c4490e40": {
          "model_module": "@jupyter-widgets/base",
          "model_name": "LayoutModel",
          "model_module_version": "1.2.0",
          "state": {
            "_model_module": "@jupyter-widgets/base",
            "_model_module_version": "1.2.0",
            "_model_name": "LayoutModel",
            "_view_count": null,
            "_view_module": "@jupyter-widgets/base",
            "_view_module_version": "1.2.0",
            "_view_name": "LayoutView",
            "align_content": null,
            "align_items": null,
            "align_self": null,
            "border": null,
            "bottom": null,
            "display": null,
            "flex": null,
            "flex_flow": null,
            "grid_area": null,
            "grid_auto_columns": null,
            "grid_auto_flow": null,
            "grid_auto_rows": null,
            "grid_column": null,
            "grid_gap": null,
            "grid_row": null,
            "grid_template_areas": null,
            "grid_template_columns": null,
            "grid_template_rows": null,
            "height": null,
            "justify_content": null,
            "justify_items": null,
            "left": null,
            "margin": null,
            "max_height": null,
            "max_width": null,
            "min_height": null,
            "min_width": null,
            "object_fit": null,
            "object_position": null,
            "order": null,
            "overflow": null,
            "overflow_x": null,
            "overflow_y": null,
            "padding": null,
            "right": null,
            "top": null,
            "visibility": null,
            "width": null
          }
        },
        "a83c9ac2277045ee944659c62320d0c8": {
          "model_module": "@jupyter-widgets/controls",
          "model_name": "DescriptionStyleModel",
          "model_module_version": "1.5.0",
          "state": {
            "_model_module": "@jupyter-widgets/controls",
            "_model_module_version": "1.5.0",
            "_model_name": "DescriptionStyleModel",
            "_view_count": null,
            "_view_module": "@jupyter-widgets/base",
            "_view_module_version": "1.2.0",
            "_view_name": "StyleView",
            "description_width": ""
          }
        },
        "fce9c8cb2ea04734b063ff75fc15e420": {
          "model_module": "@jupyter-widgets/base",
          "model_name": "LayoutModel",
          "model_module_version": "1.2.0",
          "state": {
            "_model_module": "@jupyter-widgets/base",
            "_model_module_version": "1.2.0",
            "_model_name": "LayoutModel",
            "_view_count": null,
            "_view_module": "@jupyter-widgets/base",
            "_view_module_version": "1.2.0",
            "_view_name": "LayoutView",
            "align_content": null,
            "align_items": null,
            "align_self": null,
            "border": null,
            "bottom": null,
            "display": null,
            "flex": null,
            "flex_flow": null,
            "grid_area": null,
            "grid_auto_columns": null,
            "grid_auto_flow": null,
            "grid_auto_rows": null,
            "grid_column": null,
            "grid_gap": null,
            "grid_row": null,
            "grid_template_areas": null,
            "grid_template_columns": null,
            "grid_template_rows": null,
            "height": null,
            "justify_content": null,
            "justify_items": null,
            "left": null,
            "margin": null,
            "max_height": null,
            "max_width": null,
            "min_height": null,
            "min_width": null,
            "object_fit": null,
            "object_position": null,
            "order": null,
            "overflow": null,
            "overflow_x": null,
            "overflow_y": null,
            "padding": null,
            "right": null,
            "top": null,
            "visibility": null,
            "width": null
          }
        },
        "1c875bcf616045eea100d126eb70f022": {
          "model_module": "@jupyter-widgets/controls",
          "model_name": "ProgressStyleModel",
          "model_module_version": "1.5.0",
          "state": {
            "_model_module": "@jupyter-widgets/controls",
            "_model_module_version": "1.5.0",
            "_model_name": "ProgressStyleModel",
            "_view_count": null,
            "_view_module": "@jupyter-widgets/base",
            "_view_module_version": "1.2.0",
            "_view_name": "StyleView",
            "bar_color": null,
            "description_width": ""
          }
        }
      }
    }
  },
  "nbformat": 4,
  "nbformat_minor": 0
}